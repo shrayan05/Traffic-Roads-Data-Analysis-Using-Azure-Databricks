{
 "cells": [
  {
   "cell_type": "markdown",
   "metadata": {
    "application/vnd.databricks.v1+cell": {
     "cellMetadata": {
      "byteLimit": 2048000,
      "rowLimit": 10000
     },
     "inputWidgets": {},
     "nuid": "93bdb232-0129-410b-b73d-7da88650d643",
     "showTitle": false,
     "title": ""
    }
   },
   "source": [
    "\n",
    "##To re-use common functions and variables"
   ]
  },
  {
   "cell_type": "markdown",
   "metadata": {
    "application/vnd.databricks.v1+cell": {
     "cellMetadata": {
      "byteLimit": 2048000,
      "rowLimit": 10000
     },
     "inputWidgets": {},
     "nuid": "02c1521e-58a8-4427-8cc7-b673a2f4d34c",
     "showTitle": false,
     "title": ""
    }
   },
   "source": [
    "\n",
    "##Re-using Functions\n",
    "- Removing Duplicates\n",
    "- Removing Null\n"
   ]
  },
  {
   "cell_type": "markdown",
   "metadata": {
    "application/vnd.databricks.v1+cell": {
     "cellMetadata": {
      "byteLimit": 2048000,
      "rowLimit": 10000
     },
     "inputWidgets": {},
     "nuid": "b0d51943-3694-4afc-9abe-8e17aecf9e6a",
     "showTitle": false,
     "title": ""
    }
   },
   "source": [
    "\n",
    "##Defining all common variables"
   ]
  },
  {
   "cell_type": "code",
   "execution_count": 0,
   "metadata": {
    "application/vnd.databricks.v1+cell": {
     "cellMetadata": {
      "byteLimit": 2048000,
      "rowLimit": 10000
     },
     "inputWidgets": {},
     "nuid": "23c25f36-df5c-4027-97b4-363b5ea48296",
     "showTitle": false,
     "title": ""
    }
   },
   "outputs": [],
   "source": [
    "checkpoints = spark.sql(\"describe external location `checkpoints`\").select(\"url\").collect()[0][0]\n",
    "landing = spark.sql(\"describe external location `landing`\").select(\"url\").collect()[0][0]\n",
    "bronze = spark.sql(\"describe external location `bronze`\").select(\"url\").collect()[0][0]\n",
    "silver = spark.sql(\"describe external location `silver`\").select(\"url\").collect()[0][0]\n",
    "gold = spark.sql(\"describe external location `gold`\").select(\"url\").collect()[0][0]"
   ]
  },
  {
   "cell_type": "markdown",
   "metadata": {
    "application/vnd.databricks.v1+cell": {
     "cellMetadata": {
      "byteLimit": 2048000,
      "rowLimit": 10000
     },
     "inputWidgets": {},
     "nuid": "d74bcc9e-21e8-4b62-bde1-ae19bfa272e6",
     "showTitle": false,
     "title": ""
    }
   },
   "source": [
    "\n",
    "##01 - Removing duplicates"
   ]
  },
  {
   "cell_type": "code",
   "execution_count": 0,
   "metadata": {
    "application/vnd.databricks.v1+cell": {
     "cellMetadata": {
      "byteLimit": 2048000,
      "rowLimit": 10000
     },
     "inputWidgets": {},
     "nuid": "93677ee3-1e90-4cb3-8ec2-26b629efd752",
     "showTitle": false,
     "title": ""
    }
   },
   "outputs": [],
   "source": [
    "def remove_dups(df):\n",
    "    print(\"Removing duplicate values: \", end='')\n",
    "    df_dup = df.dropDuplicates()\n",
    "    print(\"SUCCESS!!!!!!!!!!\")\n",
    "    return df_dup"
   ]
  },
  {
   "cell_type": "markdown",
   "metadata": {
    "application/vnd.databricks.v1+cell": {
     "cellMetadata": {
      "byteLimit": 2048000,
      "rowLimit": 10000
     },
     "inputWidgets": {},
     "nuid": "12f88c20-90a8-4d5f-8391-cda7300550aa",
     "showTitle": false,
     "title": ""
    }
   },
   "source": [
    "\n",
    "##02 - Removing NULLs"
   ]
  },
  {
   "cell_type": "code",
   "execution_count": 0,
   "metadata": {
    "application/vnd.databricks.v1+cell": {
     "cellMetadata": {
      "byteLimit": 2048000,
      "rowLimit": 10000
     },
     "inputWidgets": {},
     "nuid": "7e3bb3b7-6ec3-4844-9986-8f59f418d2d3",
     "showTitle": false,
     "title": ""
    }
   },
   "outputs": [],
   "source": [
    "def handle_null(df, columns):\n",
    "    print('Replacing NULL vlaues on String columns with \"unknown\"', end='')\n",
    "    df_string = df.fillna('Unknown',subset=columns)\n",
    "    print('Success!!!!!!!!!!!!!!!!!!')\n",
    "\n",
    "\n",
    "    print('Replacing NULL vlaues on Int columns with \"0\"', end='')\n",
    "    df_clean = df_string.fillna(0,subset=columns)\n",
    "    print('Success!!!!!!!!!!!!!!!!!!')\n",
    "\n",
    "\n",
    "    return df_clean"
   ]
  }
 ],
 "metadata": {
  "application/vnd.databricks.v1+notebook": {
   "dashboards": [],
   "environmentMetadata": null,
   "language": "python",
   "notebookMetadata": {
    "pythonIndentUnit": 4
   },
   "notebookName": "04. Common",
   "widgets": {}
  }
 },
 "nbformat": 4,
 "nbformat_minor": 0
}
