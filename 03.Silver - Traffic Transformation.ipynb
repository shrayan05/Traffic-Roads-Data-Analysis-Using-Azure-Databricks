{
 "cells": [
  {
   "cell_type": "markdown",
   "metadata": {
    "application/vnd.databricks.v1+cell": {
     "cellMetadata": {
      "byteLimit": 2048000,
      "rowLimit": 10000
     },
     "inputWidgets": {},
     "nuid": "606bfd98-66d0-45db-af60-715936b602ff",
     "showTitle": false,
     "title": ""
    }
   },
   "source": [
    "\n",
    "### extracting checkpoints, bronze, silver container URLs"
   ]
  },
  {
   "cell_type": "code",
   "execution_count": 0,
   "metadata": {
    "application/vnd.databricks.v1+cell": {
     "cellMetadata": {
      "byteLimit": 2048000,
      "rowLimit": 10000
     },
     "inputWidgets": {},
     "nuid": "44937689-cc1e-4d77-873b-52ca050901c6",
     "showTitle": false,
     "title": ""
    }
   },
   "outputs": [],
   "source": [
    "%run \"/Workspace/Users/schaudhuri1495@gmail.com/04. Common\""
   ]
  },
  {
   "cell_type": "code",
   "execution_count": 0,
   "metadata": {
    "application/vnd.databricks.v1+cell": {
     "cellMetadata": {
      "byteLimit": 2048000,
      "rowLimit": 10000
     },
     "inputWidgets": {},
     "nuid": "4ea0ab94-77f8-4314-9cf8-da88b41978e5",
     "showTitle": false,
     "title": ""
    }
   },
   "outputs": [],
   "source": [
    "dbutils.widgets.text(name = \"env\", defaultValue = '', label = 'Enter the environment in lowercase')\n",
    "env = dbutils.widgets.get(\"env\")"
   ]
  },
  {
   "cell_type": "markdown",
   "metadata": {
    "application/vnd.databricks.v1+cell": {
     "cellMetadata": {
      "byteLimit": 2048000,
      "rowLimit": 10000
     },
     "inputWidgets": {},
     "nuid": "0c3630ab-6d49-4b82-bd36-55aa02ad680f",
     "showTitle": false,
     "title": ""
    }
   },
   "source": [
    "\n",
    "#Reading data from Bronze table"
   ]
  },
  {
   "cell_type": "code",
   "execution_count": 0,
   "metadata": {
    "application/vnd.databricks.v1+cell": {
     "cellMetadata": {
      "byteLimit": 2048000,
      "rowLimit": 10000
     },
     "inputWidgets": {},
     "nuid": "8efca943-167c-4282-87e8-fab12743d465",
     "showTitle": false,
     "title": ""
    }
   },
   "outputs": [],
   "source": [
    "def read_from_bronze_table(env):\n",
    "    print('Reading the Bronze data table : ', end='')\n",
    "    df_bronzeTraffic = (spark.readStream\n",
    "                        .table(f\"`databricks_{env}_ws`.`bronze`.raw_traffic\"))\n",
    "    \n",
    "    print(f\"Reading databricks_{env}_ws.bronze.raw_traffic Success!!\")\n",
    "\n",
    "    return(df_bronzeTraffic)"
   ]
  },
  {
   "cell_type": "markdown",
   "metadata": {
    "application/vnd.databricks.v1+cell": {
     "cellMetadata": {
      "byteLimit": 2048000,
      "rowLimit": 10000
     },
     "inputWidgets": {},
     "nuid": "abf8bcf5-36d6-4605-95c4-e0cd4d51cb44",
     "showTitle": false,
     "title": ""
    }
   },
   "source": [
    "\n",
    "##handling duplicates rows"
   ]
  },
  {
   "cell_type": "code",
   "execution_count": 0,
   "metadata": {
    "application/vnd.databricks.v1+cell": {
     "cellMetadata": {
      "byteLimit": 2048000,
      "rowLimit": 10000
     },
     "inputWidgets": {},
     "nuid": "e6ec2549-5f65-4dc1-807a-7c843a27e86a",
     "showTitle": false,
     "title": ""
    }
   },
   "outputs": [],
   "source": [
    "def remove_dups(df):\n",
    "    print(\"Removing duplicate values: \", end='')\n",
    "    df_dup = df.dropDuplicates()\n",
    "    print(\"SUCCESS!!!!!!!!!!\")\n",
    "    return df_dup"
   ]
  },
  {
   "cell_type": "markdown",
   "metadata": {
    "application/vnd.databricks.v1+cell": {
     "cellMetadata": {
      "byteLimit": 2048000,
      "rowLimit": 10000
     },
     "inputWidgets": {},
     "nuid": "45427872-ff7d-41b7-91cd-7ba137801e6a",
     "showTitle": false,
     "title": ""
    }
   },
   "source": [
    "\n",
    "## Handling NULL values by replacing them"
   ]
  },
  {
   "cell_type": "code",
   "execution_count": 0,
   "metadata": {
    "application/vnd.databricks.v1+cell": {
     "cellMetadata": {
      "byteLimit": 2048000,
      "rowLimit": 10000
     },
     "inputWidgets": {},
     "nuid": "a61b2ca4-93ba-437c-9be9-960bc38f9540",
     "showTitle": false,
     "title": ""
    }
   },
   "outputs": [],
   "source": [
    "def handle_null(df, columns):\n",
    "    print('Replacing NULL vlaues on String columns with \"unknown\"', end='')\n",
    "    df_string = df.fillna('Unknown',subset=columns)\n",
    "    print('Success!!!!!!!!!!!!!!!!!!')\n",
    "\n",
    "\n",
    "    print('Replacing NULL vlaues on Int columns with \"0\"', end='')\n",
    "    df_clean = df_string.fillna(0,subset=columns)\n",
    "    print('Success!!!!!!!!!!!!!!!!!!')\n",
    "\n",
    "\n",
    "    return df_clean\n",
    "\n",
    "\n"
   ]
  },
  {
   "cell_type": "markdown",
   "metadata": {
    "application/vnd.databricks.v1+cell": {
     "cellMetadata": {
      "byteLimit": 2048000,
      "rowLimit": 10000
     },
     "inputWidgets": {},
     "nuid": "6638960b-801f-41f5-9840-2da6fae3fd1b",
     "showTitle": false,
     "title": ""
    }
   },
   "source": [
    "\n",
    "## getting count of Electric vehicles by creating new column"
   ]
  },
  {
   "cell_type": "code",
   "execution_count": 0,
   "metadata": {
    "application/vnd.databricks.v1+cell": {
     "cellMetadata": {
      "byteLimit": 2048000,
      "rowLimit": 10000
     },
     "inputWidgets": {},
     "nuid": "60b0a8ae-7e9e-4f17-a070-c80e526499b7",
     "showTitle": false,
     "title": ""
    }
   },
   "outputs": [],
   "source": [
    "def ev_count(df):\n",
    "    print('Creating Electric Vehicle Count Column : ', end='')\n",
    "    from pyspark.sql.functions import col\n",
    "    df_ev = df.withColumn('Electric_Vehicle_Count', col('EV_Car') + col('EV_Bike'))\n",
    "\n",
    "    print('Success!!!!!!!!!')\n",
    "    return df_ev\n",
    "\n",
    "\n",
    "\n"
   ]
  },
  {
   "cell_type": "markdown",
   "metadata": {
    "application/vnd.databricks.v1+cell": {
     "cellMetadata": {
      "byteLimit": 2048000,
      "rowLimit": 10000
     },
     "inputWidgets": {},
     "nuid": "1b7ee09a-9bbb-4340-aafb-addd1c8f5578",
     "showTitle": false,
     "title": ""
    }
   },
   "source": [
    "\n",
    "#creating motor_vehicles_count() function"
   ]
  },
  {
   "cell_type": "code",
   "execution_count": 0,
   "metadata": {
    "application/vnd.databricks.v1+cell": {
     "cellMetadata": {
      "byteLimit": 2048000,
      "rowLimit": 10000
     },
     "inputWidgets": {},
     "nuid": "bab261cc-7e45-4899-bd45-0f282955e736",
     "showTitle": false,
     "title": ""
    }
   },
   "outputs": [],
   "source": [
    "def motor_vehicles_count(df):\n",
    "    print('CREATING motor_vehicles_count FUNCTION')\n",
    "    from pyspark.sql.functions import col\n",
    "    df_motor_vehicles_count = df.withColumn('motor_vehicles_count', col('Two_wheeled_motor_vehicles') + col('Cars_and_taxis') + col('Buses_and_coaches') + col('LGV_Type') + col('HGV_Type') + col('Electric_Vehicle_Count'))\n",
    "\n",
    "    print(\"success!!!!!!!!!!!!!\")\n",
    "\n",
    "    return(df_motor_vehicles_count)"
   ]
  },
  {
   "cell_type": "markdown",
   "metadata": {
    "application/vnd.databricks.v1+cell": {
     "cellMetadata": {
      "byteLimit": 2048000,
      "rowLimit": 10000
     },
     "inputWidgets": {},
     "nuid": "ada8fead-d712-4fd9-aec8-a639d79742d3",
     "showTitle": false,
     "title": ""
    }
   },
   "source": [
    "\n",
    "#creating a new column named as \"Transformed_time\" to print the current timestamp"
   ]
  },
  {
   "cell_type": "code",
   "execution_count": 0,
   "metadata": {
    "application/vnd.databricks.v1+cell": {
     "cellMetadata": {
      "byteLimit": 2048000,
      "rowLimit": 10000
     },
     "inputWidgets": {},
     "nuid": "2fecc7b8-11b2-4268-81b2-1921f263ed87",
     "showTitle": false,
     "title": ""
    }
   },
   "outputs": [],
   "source": [
    "def create_transformed_timestamp(df):\n",
    "    print(\"Inside the create_transformed_timestamp Function\")\n",
    "    from pyspark.sql.functions import current_timestamp\n",
    "    df_with_time = df.withColumn('Transformed_Time', current_timestamp()) \n",
    "    print(\"SUCCESS FROM create_transformed_timestamp FUNCTION\")\n",
    "    return(df_with_time)"
   ]
  },
  {
   "cell_type": "markdown",
   "metadata": {
    "application/vnd.databricks.v1+cell": {
     "cellMetadata": {
      "byteLimit": 2048000,
      "rowLimit": 10000
     },
     "inputWidgets": {},
     "nuid": "8565f934-0873-4a7b-9aee-828cf63b5291",
     "showTitle": false,
     "title": ""
    }
   },
   "source": [
    "\n",
    "##Writing the transformed data to Silver_Traffic table in Silver schema"
   ]
  },
  {
   "cell_type": "code",
   "execution_count": 0,
   "metadata": {
    "application/vnd.databricks.v1+cell": {
     "cellMetadata": {
      "byteLimit": 2048000,
      "rowLimit": 10000
     },
     "inputWidgets": {},
     "nuid": "fc06f726-7399-4ef8-9de6-e31e9d03fb35",
     "showTitle": false,
     "title": ""
    }
   },
   "outputs": [],
   "source": [
    "def write_traffic_silverTable(StreamingDF, env):\n",
    "    write_stream_silver = (StreamingDF.writeStream\n",
    "                            .format('delta')\n",
    "                            .option(\"checkpointLocation\",checkpoints+'/SilverTrafficLoad/Checkpt')\n",
    "                            .outputMode('append')\n",
    "                            .queryName('SilverTrafficWriteStream')\n",
    "                            .trigger(availableNow=True)\n",
    "                            .toTable(f\"`databricks_{env}_ws`.`silver`.`silver_traffic`\"))\n",
    "\n",
    "    write_stream_silver.awaitTermination()\n",
    "    print(f\"Writing databricks_{env}_ws.silver.silver_traffic SUCCESS!!!!!!!!!!!!!!!!!!!!!!!!!!!!!!!!\")"
   ]
  },
  {
   "cell_type": "markdown",
   "metadata": {
    "application/vnd.databricks.v1+cell": {
     "cellMetadata": {
      "byteLimit": 2048000,
      "rowLimit": 10000
     },
     "inputWidgets": {},
     "nuid": "5ca20eb4-58c1-49d2-90ee-226759fbb0af",
     "showTitle": false,
     "title": ""
    }
   },
   "source": [
    "\n",
    "##calling the functions"
   ]
  },
  {
   "cell_type": "code",
   "execution_count": 0,
   "metadata": {
    "application/vnd.databricks.v1+cell": {
     "cellMetadata": {
      "byteLimit": 2048000,
      "rowLimit": 10000
     },
     "inputWidgets": {},
     "nuid": "78417738-eaef-4fdd-9143-45b2e1b0f901",
     "showTitle": false,
     "title": ""
    }
   },
   "outputs": [
    {
     "output_type": "stream",
     "name": "stdout",
     "output_type": "stream",
     "text": [
      "Reading the Bronze data table : Reading databricks_dev_ws.bronze.raw_traffic Success!!\nRemoving duplicate values: SUCCESS!!!!!!!!!!\nReplacing NULL vlaues on String columns with \"unknown\"Success!!!!!!!!!!!!!!!!!!\nReplacing NULL vlaues on Int columns with \"0\"Success!!!!!!!!!!!!!!!!!!\nCreating Electric Vehicle Count Column : Success!!!!!!!!!\nCREATING motor_vehicles_count FUNCTION\nsuccess!!!!!!!!!!!!!\nInside the create_transformed_timestamp Function\nSUCCESS FROM create_transformed_timestamp FUNCTION\nWriting databricks_dev_ws.silver.silver_traffic SUCCESS!!!!!!!!!!!!!!!!!!!!!!!!!!!!!!!!\n"
     ]
    }
   ],
   "source": [
    "#to fetch values from bronze table\n",
    "df_trafficdata = read_from_bronze_table(env)\n",
    "\n",
    "#to remove duplicate rows\n",
    "\n",
    "df_dups = remove_dups(df_trafficdata)\n",
    "\n",
    "#to replace any NULL values\n",
    "\n",
    "columns = df_dups.schema.names\n",
    "df_nulls = handle_null(df_dups, columns)\n",
    "\n",
    "\n",
    "#to add a new column for EV only\n",
    "\n",
    "df_ev = ev_count(df_nulls)\n",
    "\n",
    "\n",
    "#adding a new column to get the count of all the motor vehicles\n",
    "\n",
    "df_all_motor = motor_vehicles_count(df_ev)\n",
    "\n",
    "#adding a new column named \"Transformed_Time\" to get the current timestamp\n",
    "\n",
    "df_including_timestamp = create_transformed_timestamp(df_all_motor)\n",
    "\n",
    "\n",
    "#writing to silver_traffic folder\n",
    "\n",
    "write_traffic_silverTable(df_including_timestamp, env)"
   ]
  },
  {
   "cell_type": "code",
   "execution_count": 0,
   "metadata": {
    "application/vnd.databricks.v1+cell": {
     "cellMetadata": {
      "byteLimit": 2048000,
      "implicitDf": true,
      "rowLimit": 10000
     },
     "inputWidgets": {},
     "nuid": "5a7ec54f-b62d-4cb1-809a-2c7d7607edf4",
     "showTitle": false,
     "title": ""
    }
   },
   "outputs": [
    {
     "output_type": "display_data",
     "data": {
      "text/html": [
       "<style scoped>\n",
       "  .table-result-container {\n",
       "    max-height: 300px;\n",
       "    overflow: auto;\n",
       "  }\n",
       "  table, th, td {\n",
       "    border: 1px solid black;\n",
       "    border-collapse: collapse;\n",
       "  }\n",
       "  th, td {\n",
       "    padding: 5px;\n",
       "  }\n",
       "  th {\n",
       "    text-align: left;\n",
       "  }\n",
       "</style><div class='table-result-container'><table class='table-result'><thead style='background-color: white'><tr><th>count(1)</th></tr></thead><tbody><tr><td>74184</td></tr></tbody></table></div>"
      ]
     },
     "metadata": {
      "application/vnd.databricks.v1+output": {
       "addedWidgets": {},
       "aggData": [],
       "aggError": "",
       "aggOverflow": false,
       "aggSchema": [],
       "aggSeriesLimitReached": false,
       "aggType": "",
       "arguments": {},
       "columnCustomDisplayInfos": {},
       "data": [
        [
         74184
        ]
       ],
       "datasetInfos": [],
       "dbfsResultPath": null,
       "isJsonSchema": true,
       "metadata": {
        "dataframeName": "_sqldf",
        "executionCount": 13
       },
       "overflow": false,
       "plotOptions": {
        "customPlotOptions": {},
        "displayType": "table",
        "pivotAggregation": null,
        "pivotColumns": null,
        "xColumns": null,
        "yColumns": null
       },
       "removedWidgets": [],
       "schema": [
        {
         "metadata": "{\"__autoGeneratedAlias\":\"true\"}",
         "name": "count(1)",
         "type": "\"long\""
        }
       ],
       "type": "table"
      }
     },
     "output_type": "display_data"
    }
   ],
   "source": [
    "%sql\n",
    "select count(*) from databricks_dev_ws.silver.silver_traffic;"
   ]
  },
  {
   "cell_type": "code",
   "execution_count": 0,
   "metadata": {
    "application/vnd.databricks.v1+cell": {
     "cellMetadata": {
      "byteLimit": 2048000,
      "implicitDf": true,
      "rowLimit": 10000
     },
     "inputWidgets": {},
     "nuid": "9b470c1a-9174-47ef-b902-31101177e022",
     "showTitle": false,
     "title": ""
    }
   },
   "outputs": [
    {
     "output_type": "display_data",
     "data": {
      "text/html": [
       "<style scoped>\n",
       "  .table-result-container {\n",
       "    max-height: 300px;\n",
       "    overflow: auto;\n",
       "  }\n",
       "  table, th, td {\n",
       "    border: 1px solid black;\n",
       "    border-collapse: collapse;\n",
       "  }\n",
       "  th, td {\n",
       "    padding: 5px;\n",
       "  }\n",
       "  th {\n",
       "    text-align: left;\n",
       "  }\n",
       "</style><div class='table-result-container'><table class='table-result'><thead style='background-color: white'><tr><th>Record_ID</th><th>Count_point_id</th><th>Direction_of_travel</th><th>Year</th><th>Count_date</th><th>hour</th><th>Region_id</th><th>Region_name</th><th>Local_authority_name</th><th>Road_name</th><th>Road_Category_ID</th><th>Start_junction_road_name</th><th>End_junction_road_name</th><th>Latitude</th><th>Longitude</th><th>Link_length_km</th><th>Pedal_cycles</th><th>Two_wheeled_motor_vehicles</th><th>Cars_and_taxis</th><th>Buses_and_coaches</th><th>LGV_Type</th><th>HGV_Type</th><th>EV_Car</th><th>EV_Bike</th><th>Extract_Time</th><th>Electric_Vehicle_Count</th><th>motor_vehicles_count</th><th>Transformed_Time</th></tr></thead><tbody><tr><td>37080</td><td>58073</td><td>W</td><td>2014</td><td>5/8/2014 0:00</td><td>15</td><td>7</td><td>East of England</td><td>Cambridgeshire</td><td>A14</td><td>3</td><td>A1303</td><td>A1303</td><td>52.21335948</td><td>0.267274407</td><td>6.8</td><td>0</td><td>2</td><td>844</td><td>2</td><td>243</td><td>45</td><td>9</td><td>9</td><td>2024-07-15T18:09:56.809Z</td><td>18</td><td>1154</td><td>2024-07-15T20:36:04.239Z</td></tr><tr><td>37081</td><td>58073</td><td>W</td><td>2014</td><td>5/8/2014 0:00</td><td>16</td><td>7</td><td>East of England</td><td>Cambridgeshire</td><td>A14</td><td>3</td><td>A1303</td><td>A1303</td><td>52.21335948</td><td>0.267274407</td><td>6.8</td><td>0</td><td>6</td><td>880</td><td>4</td><td>264</td><td>40</td><td>7</td><td>7</td><td>2024-07-15T18:09:56.809Z</td><td>14</td><td>1208</td><td>2024-07-15T20:36:04.239Z</td></tr><tr><td>37082</td><td>58073</td><td>W</td><td>2014</td><td>5/8/2014 0:00</td><td>17</td><td>7</td><td>East of England</td><td>Cambridgeshire</td><td>A14</td><td>3</td><td>A1303</td><td>A1303</td><td>52.21335948</td><td>0.267274407</td><td>6.8</td><td>0</td><td>2</td><td>1016</td><td>1</td><td>170</td><td>23</td><td>2</td><td>2</td><td>2024-07-15T18:09:56.809Z</td><td>4</td><td>1216</td><td>2024-07-15T20:36:04.239Z</td></tr><tr><td>37083</td><td>58073</td><td>W</td><td>2014</td><td>5/8/2014 0:00</td><td>18</td><td>7</td><td>East of England</td><td>Cambridgeshire</td><td>A14</td><td>3</td><td>A1303</td><td>A1303</td><td>52.21335948</td><td>0.267274407</td><td>6.8</td><td>0</td><td>1</td><td>868</td><td>4</td><td>144</td><td>14</td><td>1</td><td>3</td><td>2024-07-15T18:09:56.809Z</td><td>4</td><td>1035</td><td>2024-07-15T20:36:04.239Z</td></tr><tr><td>37084</td><td>58073</td><td>W</td><td>2014</td><td>5/8/2014 0:00</td><td>7</td><td>7</td><td>East of England</td><td>Cambridgeshire</td><td>A14</td><td>3</td><td>A1303</td><td>A1303</td><td>52.21335948</td><td>0.267274407</td><td>6.8</td><td>0</td><td>12</td><td>2275</td><td>0</td><td>523</td><td>44</td><td>7</td><td>11</td><td>2024-07-15T18:09:56.809Z</td><td>18</td><td>2872</td><td>2024-07-15T20:36:04.239Z</td></tr><tr><td>37085</td><td>58073</td><td>W</td><td>2014</td><td>5/8/2014 0:00</td><td>8</td><td>7</td><td>East of England</td><td>Cambridgeshire</td><td>A14</td><td>3</td><td>A1303</td><td>A1303</td><td>52.21335948</td><td>0.267274407</td><td>6.8</td><td>0</td><td>10</td><td>2223</td><td>4</td><td>339</td><td>53</td><td>2</td><td>8</td><td>2024-07-15T18:09:56.809Z</td><td>10</td><td>2639</td><td>2024-07-15T20:36:04.239Z</td></tr><tr><td>37086</td><td>58073</td><td>W</td><td>2014</td><td>5/8/2014 0:00</td><td>9</td><td>7</td><td>East of England</td><td>Cambridgeshire</td><td>A14</td><td>3</td><td>A1303</td><td>A1303</td><td>52.21335948</td><td>0.267274407</td><td>6.8</td><td>0</td><td>4</td><td>1221</td><td>3</td><td>223</td><td>45</td><td>6</td><td>7</td><td>2024-07-15T18:09:56.809Z</td><td>13</td><td>1509</td><td>2024-07-15T20:36:04.239Z</td></tr><tr><td>37087</td><td>58073</td><td>W</td><td>2014</td><td>5/8/2014 0:00</td><td>10</td><td>7</td><td>East of England</td><td>Cambridgeshire</td><td>A14</td><td>3</td><td>A1303</td><td>A1303</td><td>52.21335948</td><td>0.267274407</td><td>6.8</td><td>0</td><td>3</td><td>876</td><td>3</td><td>156</td><td>48</td><td>9</td><td>9</td><td>2024-07-15T18:09:56.809Z</td><td>18</td><td>1104</td><td>2024-07-15T20:36:04.239Z</td></tr><tr><td>37088</td><td>58073</td><td>W</td><td>2014</td><td>5/8/2014 0:00</td><td>11</td><td>7</td><td>East of England</td><td>Cambridgeshire</td><td>A14</td><td>3</td><td>A1303</td><td>A1303</td><td>52.21335948</td><td>0.267274407</td><td>6.8</td><td>0</td><td>1</td><td>889</td><td>1</td><td>196</td><td>40</td><td>5</td><td>6</td><td>2024-07-15T18:09:56.809Z</td><td>11</td><td>1138</td><td>2024-07-15T20:36:04.239Z</td></tr><tr><td>37089</td><td>58073</td><td>W</td><td>2014</td><td>5/8/2014 0:00</td><td>12</td><td>7</td><td>East of England</td><td>Cambridgeshire</td><td>A14</td><td>3</td><td>A1303</td><td>A1303</td><td>52.21335948</td><td>0.267274407</td><td>6.8</td><td>0</td><td>2</td><td>796</td><td>1</td><td>192</td><td>46</td><td>8</td><td>6</td><td>2024-07-15T18:09:56.809Z</td><td>14</td><td>1051</td><td>2024-07-15T20:36:04.239Z</td></tr><tr><td>37090</td><td>58073</td><td>E</td><td>2014</td><td>5/8/2014 0:00</td><td>13</td><td>7</td><td>East of England</td><td>Cambridgeshire</td><td>A14</td><td>3</td><td>A1303</td><td>A1303</td><td>52.21335948</td><td>0.267274407</td><td>6.8</td><td>0</td><td>3</td><td>541</td><td>1</td><td>163</td><td>50</td><td>2</td><td>15</td><td>2024-07-15T18:09:56.809Z</td><td>17</td><td>775</td><td>2024-07-15T20:36:04.239Z</td></tr><tr><td>37091</td><td>58073</td><td>E</td><td>2014</td><td>5/8/2014 0:00</td><td>14</td><td>7</td><td>East of England</td><td>Cambridgeshire</td><td>A14</td><td>3</td><td>A1303</td><td>A1303</td><td>52.21335948</td><td>0.267274407</td><td>6.8</td><td>0</td><td>0</td><td>673</td><td>0</td><td>204</td><td>73</td><td>9</td><td>6</td><td>2024-07-15T18:09:56.809Z</td><td>15</td><td>965</td><td>2024-07-15T20:36:04.239Z</td></tr><tr><td>37092</td><td>58073</td><td>E</td><td>2014</td><td>5/8/2014 0:00</td><td>15</td><td>7</td><td>East of England</td><td>Cambridgeshire</td><td>A14</td><td>3</td><td>A1303</td><td>A1303</td><td>52.21335948</td><td>0.267274407</td><td>6.8</td><td>0</td><td>49</td><td>1020</td><td>3</td><td>276</td><td>61</td><td>4</td><td>13</td><td>2024-07-15T18:09:56.809Z</td><td>17</td><td>1426</td><td>2024-07-15T20:36:04.239Z</td></tr><tr><td>37093</td><td>58073</td><td>E</td><td>2014</td><td>5/8/2014 0:00</td><td>16</td><td>7</td><td>East of England</td><td>Cambridgeshire</td><td>A14</td><td>3</td><td>A1303</td><td>A1303</td><td>52.21335948</td><td>0.267274407</td><td>6.8</td><td>0</td><td>10</td><td>1425</td><td>1</td><td>390</td><td>42</td><td>7</td><td>6</td><td>2024-07-15T20:51:30.376Z</td><td>13</td><td>1881</td><td>2024-07-15T20:53:04.063Z</td></tr><tr><td>37094</td><td>58073</td><td>E</td><td>2014</td><td>5/8/2014 0:00</td><td>17</td><td>7</td><td>East of England</td><td>Cambridgeshire</td><td>A14</td><td>3</td><td>A1303</td><td>A1303</td><td>52.21335948</td><td>0.267274407</td><td>6.8</td><td>0</td><td>4</td><td>1079</td><td>3</td><td>164</td><td>25</td><td>2</td><td>4</td><td>2024-07-15T20:51:30.376Z</td><td>6</td><td>1281</td><td>2024-07-15T20:53:04.063Z</td></tr><tr><td>37095</td><td>58073</td><td>E</td><td>2014</td><td>5/8/2014 0:00</td><td>18</td><td>7</td><td>East of England</td><td>Cambridgeshire</td><td>A14</td><td>3</td><td>A1303</td><td>A1303</td><td>52.21335948</td><td>0.267274407</td><td>6.8</td><td>0</td><td>9</td><td>870</td><td>2</td><td>82</td><td>11</td><td>0</td><td>1</td><td>2024-07-15T20:51:30.376Z</td><td>1</td><td>975</td><td>2024-07-15T20:53:04.063Z</td></tr><tr><td>37096</td><td>57787</td><td>E</td><td>2014</td><td>9/23/2014 0:00</td><td>7</td><td>9</td><td>South East</td><td>Surrey</td><td>A31</td><td>4</td><td>A331</td><td>A3</td><td>51.22700479</td><td>-0.640882551</td><td>8.8</td><td>1</td><td>35</td><td>1955</td><td>10</td><td>413</td><td>32</td><td>4</td><td>7</td><td>2024-07-15T20:51:30.376Z</td><td>11</td><td>2456</td><td>2024-07-15T20:53:04.063Z</td></tr><tr><td>37097</td><td>57787</td><td>E</td><td>2014</td><td>9/23/2014 0:00</td><td>8</td><td>9</td><td>South East</td><td>Surrey</td><td>A31</td><td>4</td><td>A331</td><td>A3</td><td>51.22700479</td><td>-0.640882551</td><td>8.8</td><td>0</td><td>41</td><td>1951</td><td>2</td><td>299</td><td>33</td><td>4</td><td>10</td><td>2024-07-15T20:51:30.376Z</td><td>14</td><td>2340</td><td>2024-07-15T20:53:04.063Z</td></tr><tr><td>37098</td><td>57787</td><td>E</td><td>2014</td><td>9/23/2014 0:00</td><td>9</td><td>9</td><td>South East</td><td>Surrey</td><td>A31</td><td>4</td><td>A331</td><td>A3</td><td>51.22700479</td><td>-0.640882551</td><td>8.8</td><td>0</td><td>14</td><td>1462</td><td>4</td><td>265</td><td>34</td><td>6</td><td>10</td><td>2024-07-15T20:51:30.376Z</td><td>16</td><td>1795</td><td>2024-07-15T20:53:04.063Z</td></tr><tr><td>37099</td><td>57787</td><td>E</td><td>2014</td><td>9/23/2014 0:00</td><td>10</td><td>9</td><td>South East</td><td>Surrey</td><td>A31</td><td>4</td><td>A331</td><td>A3</td><td>51.22700479</td><td>-0.640882551</td><td>8.8</td><td>0</td><td>10</td><td>1038</td><td>2</td><td>174</td><td>43</td><td>3</td><td>9</td><td>2024-07-15T20:51:30.376Z</td><td>12</td><td>1279</td><td>2024-07-15T20:53:04.063Z</td></tr><tr><td>37100</td><td>57787</td><td>E</td><td>2014</td><td>9/23/2014 0:00</td><td>11</td><td>9</td><td>South East</td><td>Surrey</td><td>A31</td><td>4</td><td>A331</td><td>A3</td><td>51.22700479</td><td>-0.640882551</td><td>8.8</td><td>0</td><td>6</td><td>926</td><td>4</td><td>220</td><td>25</td><td>6</td><td>12</td><td>2024-07-15T20:51:30.376Z</td><td>18</td><td>1199</td><td>2024-07-15T20:53:04.063Z</td></tr></tbody></table></div>"
      ]
     },
     "metadata": {
      "application/vnd.databricks.v1+output": {
       "addedWidgets": {},
       "aggData": [],
       "aggError": "",
       "aggOverflow": false,
       "aggSchema": [],
       "aggSeriesLimitReached": false,
       "aggType": "",
       "arguments": {},
       "columnCustomDisplayInfos": {},
       "data": [
        [
         37080,
         58073,
         "W",
         2014,
         "5/8/2014 0:00",
         15,
         7,
         "East of England",
         "Cambridgeshire",
         "A14",
         3,
         "A1303",
         "A1303",
         52.21335948,
         0.267274407,
         6.8,
         0,
         2,
         844,
         2,
         243,
         45,
         9,
         9,
         "2024-07-15T18:09:56.809Z",
         18,
         1154,
         "2024-07-15T20:36:04.239Z"
        ],
        [
         37081,
         58073,
         "W",
         2014,
         "5/8/2014 0:00",
         16,
         7,
         "East of England",
         "Cambridgeshire",
         "A14",
         3,
         "A1303",
         "A1303",
         52.21335948,
         0.267274407,
         6.8,
         0,
         6,
         880,
         4,
         264,
         40,
         7,
         7,
         "2024-07-15T18:09:56.809Z",
         14,
         1208,
         "2024-07-15T20:36:04.239Z"
        ],
        [
         37082,
         58073,
         "W",
         2014,
         "5/8/2014 0:00",
         17,
         7,
         "East of England",
         "Cambridgeshire",
         "A14",
         3,
         "A1303",
         "A1303",
         52.21335948,
         0.267274407,
         6.8,
         0,
         2,
         1016,
         1,
         170,
         23,
         2,
         2,
         "2024-07-15T18:09:56.809Z",
         4,
         1216,
         "2024-07-15T20:36:04.239Z"
        ],
        [
         37083,
         58073,
         "W",
         2014,
         "5/8/2014 0:00",
         18,
         7,
         "East of England",
         "Cambridgeshire",
         "A14",
         3,
         "A1303",
         "A1303",
         52.21335948,
         0.267274407,
         6.8,
         0,
         1,
         868,
         4,
         144,
         14,
         1,
         3,
         "2024-07-15T18:09:56.809Z",
         4,
         1035,
         "2024-07-15T20:36:04.239Z"
        ],
        [
         37084,
         58073,
         "W",
         2014,
         "5/8/2014 0:00",
         7,
         7,
         "East of England",
         "Cambridgeshire",
         "A14",
         3,
         "A1303",
         "A1303",
         52.21335948,
         0.267274407,
         6.8,
         0,
         12,
         2275,
         0,
         523,
         44,
         7,
         11,
         "2024-07-15T18:09:56.809Z",
         18,
         2872,
         "2024-07-15T20:36:04.239Z"
        ],
        [
         37085,
         58073,
         "W",
         2014,
         "5/8/2014 0:00",
         8,
         7,
         "East of England",
         "Cambridgeshire",
         "A14",
         3,
         "A1303",
         "A1303",
         52.21335948,
         0.267274407,
         6.8,
         0,
         10,
         2223,
         4,
         339,
         53,
         2,
         8,
         "2024-07-15T18:09:56.809Z",
         10,
         2639,
         "2024-07-15T20:36:04.239Z"
        ],
        [
         37086,
         58073,
         "W",
         2014,
         "5/8/2014 0:00",
         9,
         7,
         "East of England",
         "Cambridgeshire",
         "A14",
         3,
         "A1303",
         "A1303",
         52.21335948,
         0.267274407,
         6.8,
         0,
         4,
         1221,
         3,
         223,
         45,
         6,
         7,
         "2024-07-15T18:09:56.809Z",
         13,
         1509,
         "2024-07-15T20:36:04.239Z"
        ],
        [
         37087,
         58073,
         "W",
         2014,
         "5/8/2014 0:00",
         10,
         7,
         "East of England",
         "Cambridgeshire",
         "A14",
         3,
         "A1303",
         "A1303",
         52.21335948,
         0.267274407,
         6.8,
         0,
         3,
         876,
         3,
         156,
         48,
         9,
         9,
         "2024-07-15T18:09:56.809Z",
         18,
         1104,
         "2024-07-15T20:36:04.239Z"
        ],
        [
         37088,
         58073,
         "W",
         2014,
         "5/8/2014 0:00",
         11,
         7,
         "East of England",
         "Cambridgeshire",
         "A14",
         3,
         "A1303",
         "A1303",
         52.21335948,
         0.267274407,
         6.8,
         0,
         1,
         889,
         1,
         196,
         40,
         5,
         6,
         "2024-07-15T18:09:56.809Z",
         11,
         1138,
         "2024-07-15T20:36:04.239Z"
        ],
        [
         37089,
         58073,
         "W",
         2014,
         "5/8/2014 0:00",
         12,
         7,
         "East of England",
         "Cambridgeshire",
         "A14",
         3,
         "A1303",
         "A1303",
         52.21335948,
         0.267274407,
         6.8,
         0,
         2,
         796,
         1,
         192,
         46,
         8,
         6,
         "2024-07-15T18:09:56.809Z",
         14,
         1051,
         "2024-07-15T20:36:04.239Z"
        ],
        [
         37090,
         58073,
         "E",
         2014,
         "5/8/2014 0:00",
         13,
         7,
         "East of England",
         "Cambridgeshire",
         "A14",
         3,
         "A1303",
         "A1303",
         52.21335948,
         0.267274407,
         6.8,
         0,
         3,
         541,
         1,
         163,
         50,
         2,
         15,
         "2024-07-15T18:09:56.809Z",
         17,
         775,
         "2024-07-15T20:36:04.239Z"
        ],
        [
         37091,
         58073,
         "E",
         2014,
         "5/8/2014 0:00",
         14,
         7,
         "East of England",
         "Cambridgeshire",
         "A14",
         3,
         "A1303",
         "A1303",
         52.21335948,
         0.267274407,
         6.8,
         0,
         0,
         673,
         0,
         204,
         73,
         9,
         6,
         "2024-07-15T18:09:56.809Z",
         15,
         965,
         "2024-07-15T20:36:04.239Z"
        ],
        [
         37092,
         58073,
         "E",
         2014,
         "5/8/2014 0:00",
         15,
         7,
         "East of England",
         "Cambridgeshire",
         "A14",
         3,
         "A1303",
         "A1303",
         52.21335948,
         0.267274407,
         6.8,
         0,
         49,
         1020,
         3,
         276,
         61,
         4,
         13,
         "2024-07-15T18:09:56.809Z",
         17,
         1426,
         "2024-07-15T20:36:04.239Z"
        ],
        [
         37093,
         58073,
         "E",
         2014,
         "5/8/2014 0:00",
         16,
         7,
         "East of England",
         "Cambridgeshire",
         "A14",
         3,
         "A1303",
         "A1303",
         52.21335948,
         0.267274407,
         6.8,
         0,
         10,
         1425,
         1,
         390,
         42,
         7,
         6,
         "2024-07-15T20:51:30.376Z",
         13,
         1881,
         "2024-07-15T20:53:04.063Z"
        ],
        [
         37094,
         58073,
         "E",
         2014,
         "5/8/2014 0:00",
         17,
         7,
         "East of England",
         "Cambridgeshire",
         "A14",
         3,
         "A1303",
         "A1303",
         52.21335948,
         0.267274407,
         6.8,
         0,
         4,
         1079,
         3,
         164,
         25,
         2,
         4,
         "2024-07-15T20:51:30.376Z",
         6,
         1281,
         "2024-07-15T20:53:04.063Z"
        ],
        [
         37095,
         58073,
         "E",
         2014,
         "5/8/2014 0:00",
         18,
         7,
         "East of England",
         "Cambridgeshire",
         "A14",
         3,
         "A1303",
         "A1303",
         52.21335948,
         0.267274407,
         6.8,
         0,
         9,
         870,
         2,
         82,
         11,
         0,
         1,
         "2024-07-15T20:51:30.376Z",
         1,
         975,
         "2024-07-15T20:53:04.063Z"
        ],
        [
         37096,
         57787,
         "E",
         2014,
         "9/23/2014 0:00",
         7,
         9,
         "South East",
         "Surrey",
         "A31",
         4,
         "A331",
         "A3",
         51.22700479,
         -0.640882551,
         8.8,
         1,
         35,
         1955,
         10,
         413,
         32,
         4,
         7,
         "2024-07-15T20:51:30.376Z",
         11,
         2456,
         "2024-07-15T20:53:04.063Z"
        ],
        [
         37097,
         57787,
         "E",
         2014,
         "9/23/2014 0:00",
         8,
         9,
         "South East",
         "Surrey",
         "A31",
         4,
         "A331",
         "A3",
         51.22700479,
         -0.640882551,
         8.8,
         0,
         41,
         1951,
         2,
         299,
         33,
         4,
         10,
         "2024-07-15T20:51:30.376Z",
         14,
         2340,
         "2024-07-15T20:53:04.063Z"
        ],
        [
         37098,
         57787,
         "E",
         2014,
         "9/23/2014 0:00",
         9,
         9,
         "South East",
         "Surrey",
         "A31",
         4,
         "A331",
         "A3",
         51.22700479,
         -0.640882551,
         8.8,
         0,
         14,
         1462,
         4,
         265,
         34,
         6,
         10,
         "2024-07-15T20:51:30.376Z",
         16,
         1795,
         "2024-07-15T20:53:04.063Z"
        ],
        [
         37099,
         57787,
         "E",
         2014,
         "9/23/2014 0:00",
         10,
         9,
         "South East",
         "Surrey",
         "A31",
         4,
         "A331",
         "A3",
         51.22700479,
         -0.640882551,
         8.8,
         0,
         10,
         1038,
         2,
         174,
         43,
         3,
         9,
         "2024-07-15T20:51:30.376Z",
         12,
         1279,
         "2024-07-15T20:53:04.063Z"
        ],
        [
         37100,
         57787,
         "E",
         2014,
         "9/23/2014 0:00",
         11,
         9,
         "South East",
         "Surrey",
         "A31",
         4,
         "A331",
         "A3",
         51.22700479,
         -0.640882551,
         8.8,
         0,
         6,
         926,
         4,
         220,
         25,
         6,
         12,
         "2024-07-15T20:51:30.376Z",
         18,
         1199,
         "2024-07-15T20:53:04.063Z"
        ]
       ],
       "datasetInfos": [],
       "dbfsResultPath": null,
       "isJsonSchema": true,
       "metadata": {
        "dataframeName": "_sqldf",
        "executionCount": 14
       },
       "overflow": false,
       "plotOptions": {
        "customPlotOptions": {},
        "displayType": "table",
        "pivotAggregation": null,
        "pivotColumns": null,
        "xColumns": null,
        "yColumns": null
       },
       "removedWidgets": [],
       "schema": [
        {
         "metadata": "{}",
         "name": "Record_ID",
         "type": "\"integer\""
        },
        {
         "metadata": "{}",
         "name": "Count_point_id",
         "type": "\"integer\""
        },
        {
         "metadata": "{}",
         "name": "Direction_of_travel",
         "type": "\"string\""
        },
        {
         "metadata": "{}",
         "name": "Year",
         "type": "\"integer\""
        },
        {
         "metadata": "{}",
         "name": "Count_date",
         "type": "\"string\""
        },
        {
         "metadata": "{}",
         "name": "hour",
         "type": "\"integer\""
        },
        {
         "metadata": "{}",
         "name": "Region_id",
         "type": "\"integer\""
        },
        {
         "metadata": "{}",
         "name": "Region_name",
         "type": "\"string\""
        },
        {
         "metadata": "{}",
         "name": "Local_authority_name",
         "type": "\"string\""
        },
        {
         "metadata": "{}",
         "name": "Road_name",
         "type": "\"string\""
        },
        {
         "metadata": "{}",
         "name": "Road_Category_ID",
         "type": "\"integer\""
        },
        {
         "metadata": "{}",
         "name": "Start_junction_road_name",
         "type": "\"string\""
        },
        {
         "metadata": "{}",
         "name": "End_junction_road_name",
         "type": "\"string\""
        },
        {
         "metadata": "{}",
         "name": "Latitude",
         "type": "\"double\""
        },
        {
         "metadata": "{}",
         "name": "Longitude",
         "type": "\"double\""
        },
        {
         "metadata": "{}",
         "name": "Link_length_km",
         "type": "\"double\""
        },
        {
         "metadata": "{}",
         "name": "Pedal_cycles",
         "type": "\"integer\""
        },
        {
         "metadata": "{}",
         "name": "Two_wheeled_motor_vehicles",
         "type": "\"integer\""
        },
        {
         "metadata": "{}",
         "name": "Cars_and_taxis",
         "type": "\"integer\""
        },
        {
         "metadata": "{}",
         "name": "Buses_and_coaches",
         "type": "\"integer\""
        },
        {
         "metadata": "{}",
         "name": "LGV_Type",
         "type": "\"integer\""
        },
        {
         "metadata": "{}",
         "name": "HGV_Type",
         "type": "\"integer\""
        },
        {
         "metadata": "{}",
         "name": "EV_Car",
         "type": "\"integer\""
        },
        {
         "metadata": "{}",
         "name": "EV_Bike",
         "type": "\"integer\""
        },
        {
         "metadata": "{}",
         "name": "Extract_Time",
         "type": "\"timestamp\""
        },
        {
         "metadata": "{}",
         "name": "Electric_Vehicle_Count",
         "type": "\"integer\""
        },
        {
         "metadata": "{}",
         "name": "motor_vehicles_count",
         "type": "\"integer\""
        },
        {
         "metadata": "{}",
         "name": "Transformed_Time",
         "type": "\"timestamp\""
        }
       ],
       "type": "table"
      }
     },
     "output_type": "display_data"
    }
   ],
   "source": [
    "%sql\n",
    "select * from databricks_dev_ws.silver.silver_traffic where Record_ID  between '37080' and '37100' order by Record_ID;"
   ]
  },
  {
   "cell_type": "code",
   "execution_count": 0,
   "metadata": {
    "application/vnd.databricks.v1+cell": {
     "cellMetadata": {
      "byteLimit": 2048000,
      "rowLimit": 10000
     },
     "inputWidgets": {},
     "nuid": "9961160f-d980-450a-9fb2-209fc0438ea8",
     "showTitle": false,
     "title": ""
    }
   },
   "outputs": [],
   "source": []
  }
 ],
 "metadata": {
  "application/vnd.databricks.v1+notebook": {
   "dashboards": [],
   "environmentMetadata": null,
   "language": "python",
   "notebookMetadata": {
    "mostRecentlyExecutedCommandWithImplicitDF": {
     "commandId": 1280891458748709,
     "dataframes": [
      "_sqldf"
     ]
    },
    "pythonIndentUnit": 4,
    "widgetLayout": [
     {
      "breakBefore": false,
      "name": "env",
      "width": 163
     }
    ]
   },
   "notebookName": "03.Silver - Traffic Transformation",
   "widgets": {
    "env": {
     "currentValue": "dev",
     "nuid": "d11b7fbd-bf40-4cb6-8552-cf0985a95e29",
     "typedWidgetInfo": null,
     "widgetInfo": {
      "widgetType": "text",
      "defaultValue": "",
      "label": "Enter the environment in lowercase",
      "name": "env",
      "options": {
       "widgetType": "text",
       "autoCreated": null,
       "validationRegex": null
      }
     }
    }
   }
  }
 },
 "nbformat": 4,
 "nbformat_minor": 0
}
