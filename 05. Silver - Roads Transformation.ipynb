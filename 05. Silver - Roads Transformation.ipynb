{
 "cells": [
  {
   "cell_type": "markdown",
   "metadata": {
    "application/vnd.databricks.v1+cell": {
     "cellMetadata": {
      "byteLimit": 2048000,
      "rowLimit": 10000
     },
     "inputWidgets": {},
     "nuid": "36ac5808-1f22-495a-8152-6bd58cb5540d",
     "showTitle": false,
     "title": ""
    }
   },
   "source": [
    "\n",
    "##Running common notebook to get access to variables\n"
   ]
  },
  {
   "cell_type": "code",
   "execution_count": 0,
   "metadata": {
    "application/vnd.databricks.v1+cell": {
     "cellMetadata": {
      "byteLimit": 2048000,
      "rowLimit": 10000
     },
     "inputWidgets": {},
     "nuid": "6c2607ac-3d0d-448a-96e3-534269fd1d42",
     "showTitle": false,
     "title": ""
    }
   },
   "outputs": [],
   "source": [
    "%run \"/Workspace/Users/schaudhuri1495@gmail.com/04. Common\""
   ]
  },
  {
   "cell_type": "code",
   "execution_count": 0,
   "metadata": {
    "application/vnd.databricks.v1+cell": {
     "cellMetadata": {
      "byteLimit": 2048000,
      "rowLimit": 10000
     },
     "inputWidgets": {},
     "nuid": "f21039b5-e81c-4d0f-91e5-69e999063d08",
     "showTitle": false,
     "title": ""
    }
   },
   "outputs": [],
   "source": [
    "dbutils.widgets.text(name = \"env\", defaultValue = '', label = 'Enter the environment in lowercase')\n",
    "env = dbutils.widgets.get(\"env\")"
   ]
  },
  {
   "cell_type": "markdown",
   "metadata": {
    "application/vnd.databricks.v1+cell": {
     "cellMetadata": {
      "byteLimit": 2048000,
      "rowLimit": 10000
     },
     "inputWidgets": {},
     "nuid": "0ba0ff9b-ff0c-4a6f-900c-d8b7fa9fbb65",
     "showTitle": false,
     "title": ""
    }
   },
   "source": [
    "\n",
    "##Reading data from Bronze raw_roads"
   ]
  },
  {
   "cell_type": "code",
   "execution_count": 0,
   "metadata": {
    "application/vnd.databricks.v1+cell": {
     "cellMetadata": {
      "byteLimit": 2048000,
      "rowLimit": 10000
     },
     "inputWidgets": {},
     "nuid": "783a0e11-e617-473c-b81a-0d6e8505b46d",
     "showTitle": false,
     "title": ""
    }
   },
   "outputs": [],
   "source": [
    "def read_from_bronze_roads_table(env):\n",
    "    print('Reading the Bronze raw_roads data table : ', end='')\n",
    "    df_bronzeRoads = (spark.readStream\n",
    "                        .table(f\"`databricks_{env}_ws`.`bronze`.raw_roads\"))\n",
    "    \n",
    "    print(f\"Reading databricks_{env}_ws.bronze.raw_roads Success!!\")\n",
    "\n",
    "    return(df_bronzeRoads)"
   ]
  },
  {
   "cell_type": "code",
   "execution_count": 0,
   "metadata": {
    "application/vnd.databricks.v1+cell": {
     "cellMetadata": {
      "byteLimit": 2048000,
      "rowLimit": 10000
     },
     "inputWidgets": {},
     "nuid": "2fd22455-de57-4c4a-935d-32ce0b37775c",
     "showTitle": false,
     "title": ""
    }
   },
   "outputs": [
    {
     "output_type": "stream",
     "name": "stdout",
     "output_type": "stream",
     "text": [
      "Reading the Bronze raw_roads data table : Reading databricks_dev_ws.bronze.raw_roads Success!!\n"
     ]
    }
   ],
   "source": [
    "df_roads = read_from_bronze_roads_table(env)"
   ]
  },
  {
   "cell_type": "markdown",
   "metadata": {
    "application/vnd.databricks.v1+cell": {
     "cellMetadata": {
      "byteLimit": 2048000,
      "rowLimit": 10000
     },
     "inputWidgets": {},
     "nuid": "1ccef662-c09b-4a77-b07e-9edcecebfb8e",
     "showTitle": false,
     "title": ""
    }
   },
   "source": [
    "\n",
    "##Creating road_category_name column"
   ]
  },
  {
   "cell_type": "code",
   "execution_count": 0,
   "metadata": {
    "application/vnd.databricks.v1+cell": {
     "cellMetadata": {
      "byteLimit": 2048000,
      "rowLimit": 10000
     },
     "inputWidgets": {},
     "nuid": "84bc7a07-abec-4dfa-9635-4e6957c082b9",
     "showTitle": false,
     "title": ""
    }
   },
   "outputs": [],
   "source": [
    "def creating_road_category(df):\n",
    "    print(\"Inside function to create road_category()\")\n",
    "    from pyspark.sql.functions import when, col\n",
    "\n",
    "    df_road_cat = df.withColumn(\"Road_Category_Name\",\n",
    "                  when(col('Road_Category') == 'TA', 'Class A Trunk Road')\n",
    "                  .when(col('Road_Category') == 'TM', 'Class A Trunk Motor')\n",
    "                  .when(col('Road_Category') == 'PA', 'Class A Principle Road')\n",
    "                  .when(col('Road_Category') == 'PM', 'Class A Principle Motorway')\n",
    "                  .when(col('Road_Category') == 'M', 'Class B road')\n",
    "                  .otherwise(\"NA\")\n",
    "                  )\n",
    "    print(\"SUCCESS!!!!\")\n",
    "\n",
    "    return df_road_cat"
   ]
  },
  {
   "cell_type": "markdown",
   "metadata": {
    "application/vnd.databricks.v1+cell": {
     "cellMetadata": {
      "byteLimit": 2048000,
      "rowLimit": 10000
     },
     "inputWidgets": {},
     "nuid": "7ada02b5-298c-463f-bb7f-095f32ab12ae",
     "showTitle": false,
     "title": ""
    }
   },
   "source": [
    "\n",
    "##Creating Road_Type column"
   ]
  },
  {
   "cell_type": "code",
   "execution_count": 0,
   "metadata": {
    "application/vnd.databricks.v1+cell": {
     "cellMetadata": {
      "byteLimit": 2048000,
      "rowLimit": 10000
     },
     "inputWidgets": {},
     "nuid": "1c81dc80-00e4-49c8-94fc-56d8f0b0e81d",
     "showTitle": false,
     "title": ""
    }
   },
   "outputs": [],
   "source": [
    "def creating_road_type(df):\n",
    "    print(\"Inside function to create Road_Type column\")\n",
    "    from pyspark.sql.functions import when, col\n",
    "\n",
    "    df_road_type = df.withColumn(\"Road_Type\",\n",
    "                  when(col('Road_Category_Name').contains('Class A'), 'Major')\n",
    "                  .otherwise(\"Minor\")\n",
    "                  )\n",
    "    print(\"SUCCESS!!!!\")\n",
    "\n",
    "    return df_road_type"
   ]
  },
  {
   "cell_type": "markdown",
   "metadata": {
    "application/vnd.databricks.v1+cell": {
     "cellMetadata": {
      "byteLimit": 2048000,
      "rowLimit": 10000
     },
     "inputWidgets": {},
     "nuid": "299ce919-1119-4b95-b6bb-9112e86be4a9",
     "showTitle": false,
     "title": ""
    }
   },
   "source": [
    "\n",
    "##Writing the transformed data to Silver_Roads table in Silver schema"
   ]
  },
  {
   "cell_type": "code",
   "execution_count": 0,
   "metadata": {
    "application/vnd.databricks.v1+cell": {
     "cellMetadata": {
      "byteLimit": 2048000,
      "rowLimit": 10000
     },
     "inputWidgets": {},
     "nuid": "a8cc7ad1-926f-466d-8835-f38083b38880",
     "showTitle": false,
     "title": ""
    }
   },
   "outputs": [],
   "source": [
    "def write_roads_silverTable(StreamingDF, env):\n",
    "    print(\"Writing the silver_roads Data : \", end='')\n",
    "    \n",
    "    write_stream_roads_silver = (StreamingDF.writeStream\n",
    "                            .format('delta')\n",
    "                            .option(\"checkpointLocation\",checkpoints+'/SilverRoadsLoad/Checkpt')\n",
    "                            .outputMode('append')\n",
    "                            .queryName('SilverRoadscWriteStream')\n",
    "                            .trigger(availableNow=True)\n",
    "                            .toTable(f\"`databricks_{env}_ws`.`silver`.`silver_roads`\"))\n",
    "\n",
    "    write_stream_roads_silver.awaitTermination()\n",
    "    print(f\"Writing databricks_{env}_ws.silver.silver_roads SUCCESS!!!!!!!!!!!!!!!!!!!!!!!!!!!!!!!!\")"
   ]
  },
  {
   "cell_type": "markdown",
   "metadata": {
    "application/vnd.databricks.v1+cell": {
     "cellMetadata": {
      "byteLimit": 2048000,
      "rowLimit": 10000
     },
     "inputWidgets": {},
     "nuid": "d99019f4-b465-4be5-880a-901105061d1e",
     "showTitle": false,
     "title": ""
    }
   },
   "source": [
    "\n",
    "##Calling all the functions"
   ]
  },
  {
   "cell_type": "code",
   "execution_count": 0,
   "metadata": {
    "application/vnd.databricks.v1+cell": {
     "cellMetadata": {
      "byteLimit": 2048000,
      "rowLimit": 10000
     },
     "inputWidgets": {},
     "nuid": "45a5becd-0bc9-4a36-aada-36aa4ebc12bd",
     "showTitle": false,
     "title": ""
    }
   },
   "outputs": [
    {
     "output_type": "stream",
     "name": "stdout",
     "output_type": "stream",
     "text": [
      "Removing duplicate values: SUCCESS!!!!!!!!!!\nReplacing NULL vlaues on String columns with \"unknown\"Success!!!!!!!!!!!!!!!!!!\nReplacing NULL vlaues on Int columns with \"0\"Success!!!!!!!!!!!!!!!!!!\nInside function to create road_category()\nSUCCESS!!!!\nInside function to create Road_Type column\nSUCCESS!!!!\nWriting the silver_roads Data : Writing databricks_dev_ws.silver.silver_roads SUCCESS!!!!!!!!!!!!!!!!!!!!!!!!!!!!!!!!\n"
     ]
    }
   ],
   "source": [
    "#getting the dataframe with no duplicates\n",
    "\n",
    "df_noDups = remove_dups(df_roads)\n",
    "\n",
    "#getting all the column names\n",
    "allColumns = df_noDups.schema.names\n",
    "\n",
    "#getting the dataframe with no null values\n",
    "df_noNull = handle_null(df_noDups, allColumns)\n",
    "\n",
    "#creating a new column as 'Road_Category'\n",
    "df_road_cat = creating_road_category(df_noNull)\n",
    "\n",
    "#creating a new column as 'Road_Type'\n",
    "df_road_type = creating_road_type(df_road_cat)\n",
    "\n",
    "#Writing data to silver_roads table\n",
    "\n",
    "write_roads_silverTable(df_road_type, env)"
   ]
  },
  {
   "cell_type": "code",
   "execution_count": 0,
   "metadata": {
    "application/vnd.databricks.v1+cell": {
     "cellMetadata": {
      "byteLimit": 2048000,
      "implicitDf": true,
      "rowLimit": 10000
     },
     "inputWidgets": {},
     "nuid": "dbbf830c-579d-46d4-81d7-4e7406ebb4b9",
     "showTitle": false,
     "title": ""
    }
   },
   "outputs": [
    {
     "output_type": "display_data",
     "data": {
      "text/html": [
       "<style scoped>\n",
       "  .table-result-container {\n",
       "    max-height: 300px;\n",
       "    overflow: auto;\n",
       "  }\n",
       "  table, th, td {\n",
       "    border: 1px solid black;\n",
       "    border-collapse: collapse;\n",
       "  }\n",
       "  th, td {\n",
       "    padding: 5px;\n",
       "  }\n",
       "  th {\n",
       "    text-align: left;\n",
       "  }\n",
       "</style><div class='table-result-container'><table class='table-result'><thead style='background-color: white'><tr><th>Road_ID</th><th>Road_Category_Id</th><th>Road_Category</th><th>Region_ID</th><th>Region_Name</th><th>Total_Link_Length_Km</th><th>Total_Link_Length_Miles</th><th>All_Motor_Vehicles</th><th>Road_Category_Name</th><th>Road_Type</th></tr></thead><tbody><tr><td>75</td><td>1</td><td>TM</td><td>7</td><td>East of England</td><td>245.9</td><td>152.8</td><td>4.120104199E9</td><td>Class A Trunk Motor</td><td>Major</td></tr><tr><td>44</td><td>5</td><td>M</td><td>10</td><td>West Midlands</td><td>27956.1</td><td>17371.12</td><td>9.927697665E9</td><td>Class B road</td><td>Minor</td></tr><tr><td>28</td><td>4</td><td>PA</td><td>7</td><td>East of England</td><td>2719.344</td><td>1689.72</td><td>7.493977513E9</td><td>Class A Principle Road</td><td>Major</td></tr><tr><td>33</td><td>4</td><td>PA</td><td>8</td><td>Yorkshire and the Humber</td><td>2559.104</td><td>1590.15</td><td>6.365559059E9</td><td>Class A Principle Road</td><td>Major</td></tr><tr><td>40</td><td>1</td><td>TM</td><td>10</td><td>West Midlands</td><td>351.963</td><td>218.7</td><td>5.280343918E9</td><td>Class A Trunk Motor</td><td>Major</td></tr><tr><td>39</td><td>5</td><td>M</td><td>9</td><td>South East</td><td>40851.1</td><td>25383.7</td><td>1.5597621429E10</td><td>Class B road</td><td>Minor</td></tr><tr><td>55</td><td>3</td><td>TA</td><td>2</td><td>East Midlands</td><td>1215.788</td><td>755.46</td><td>5.056721458E9</td><td>Class A Trunk Road</td><td>Major</td></tr><tr><td>52</td><td>4</td><td>PA</td><td>1</td><td>South West</td><td>3882.154</td><td>2412.26</td><td>8.028746829E9</td><td>Class A Principle Road</td><td>Major</td></tr><tr><td>71</td><td>1</td><td>TM</td><td>6</td><td>London</td><td>66.386</td><td>41.25</td><td>1.311689053E9</td><td>Class A Trunk Motor</td><td>Major</td></tr><tr><td>66</td><td>1</td><td>TM</td><td>5</td><td>North West</td><td>558.839</td><td>347.25</td><td>7.370068617E9</td><td>Class A Trunk Motor</td><td>Major</td></tr><tr><td>5</td><td>1</td><td>TM</td><td>2</td><td>East Midlands</td><td>178.609</td><td>110.98</td><td>2.73666152E9</td><td>Class A Trunk Motor</td><td>Major</td></tr><tr><td>6</td><td>3</td><td>TA</td><td>2</td><td>East Midlands</td><td>1219.231</td><td>757.6</td><td>4.936702686E9</td><td>Class A Trunk Road</td><td>Major</td></tr><tr><td>41</td><td>2</td><td>PM</td><td>10</td><td>West Midlands</td><td>6.895</td><td>4.28</td><td>1.464122624E8</td><td>Class A Principle Motorway</td><td>Major</td></tr><tr><td>59</td><td>3</td><td>TA</td><td>3</td><td>Scotland</td><td>2813.698</td><td>1748.35</td><td>5.19258696E9</td><td>Class A Trunk Road</td><td>Major</td></tr><tr><td>13</td><td>1</td><td>TM</td><td>4</td><td>Wales</td><td>130.291</td><td>80.96</td><td>1.306589845E9</td><td>Class A Trunk Motor</td><td>Major</td></tr><tr><td>60</td><td>4</td><td>PA</td><td>3</td><td>Scotland</td><td>7419.724</td><td>4610.4</td><td>6.67873035E9</td><td>Class A Principle Road</td><td>Major</td></tr><tr><td>16</td><td>5</td><td>M</td><td>4</td><td>Wales</td><td>28322.4</td><td>17598.72</td><td>5.286183479E9</td><td>Class B road</td><td>Minor</td></tr><tr><td>56</td><td>4</td><td>PA</td><td>2</td><td>East Midlands</td><td>2575.861</td><td>1600.57</td><td>5.66881734E9</td><td>Class A Principle Road</td><td>Major</td></tr><tr><td>29</td><td>5</td><td>M</td><td>7</td><td>East of England</td><td>34610.8</td><td>21506.15</td><td>1.1083436184E10</td><td>Class B road</td><td>Minor</td></tr><tr><td>10</td><td>3</td><td>TA</td><td>3</td><td>Scotland</td><td>2820.302</td><td>1752.45</td><td>5.05292557E9</td><td>Class A Trunk Road</td><td>Major</td></tr><tr><td>37</td><td>3</td><td>TA</td><td>9</td><td>South East</td><td>855.597</td><td>531.64</td><td>5.54362878E9</td><td>Class A Trunk Road</td><td>Major</td></tr><tr><td>54</td><td>1</td><td>TM</td><td>2</td><td>East Midlands</td><td>180.352</td><td>112.07</td><td>2.842352469E9</td><td>Class A Trunk Motor</td><td>Major</td></tr><tr><td>8</td><td>5</td><td>M</td><td>2</td><td>East Midlands</td><td>26712.7</td><td>16598.5</td><td>7.083362916E9</td><td>Class B road</td><td>Minor</td></tr><tr><td>49</td><td>5</td><td>M</td><td>11</td><td>North East</td><td>14025.9</td><td>8715.29</td><td>4.664291984E9</td><td>Class B road</td><td>Minor</td></tr><tr><td>74</td><td>5</td><td>M</td><td>6</td><td>London</td><td>12609.0</td><td>7834.87</td><td>6.938861113E9</td><td>Class B road</td><td>Minor</td></tr><tr><td>21</td><td>5</td><td>M</td><td>5</td><td>North West</td><td>31405.9</td><td>19514.72</td><td>1.0232738407E10</td><td>Class B road</td><td>Minor</td></tr><tr><td>15</td><td>4</td><td>PA</td><td>4</td><td>Wales</td><td>2581.176</td><td>1603.87</td><td>4.010930618E9</td><td>Class A Principle Road</td><td>Major</td></tr><tr><td>22</td><td>1</td><td>TM</td><td>6</td><td>London</td><td>65.744</td><td>40.85</td><td>1.245269582E9</td><td>Class A Trunk Motor</td><td>Major</td></tr><tr><td>53</td><td>5</td><td>M</td><td>1</td><td>South West</td><td>43659.6</td><td>27128.82</td><td>9.272591264E9</td><td>Class B road</td><td>Minor</td></tr><tr><td>38</td><td>4</td><td>PA</td><td>9</td><td>South East</td><td>4269.653</td><td>2653.04</td><td>1.2858678243E10</td><td>Class A Principle Road</td><td>Major</td></tr><tr><td>58</td><td>1</td><td>TM</td><td>3</td><td>Scotland</td><td>338.535</td><td>210.36</td><td>2.577081643E9</td><td>Class A Trunk Motor</td><td>Major</td></tr><tr><td>1</td><td>1</td><td>TM</td><td>1</td><td>South West</td><td>301.339</td><td>187.24</td><td>3.465840186E9</td><td>Class A Trunk Motor</td><td>Major</td></tr><tr><td>68</td><td>3</td><td>TA</td><td>5</td><td>North West</td><td>823.653</td><td>511.79</td><td>2.750751747E9</td><td>Class A Trunk Road</td><td>Major</td></tr><tr><td>62</td><td>1</td><td>TM</td><td>4</td><td>Wales</td><td>131.563</td><td>81.75</td><td>1.350418388E9</td><td>Class A Trunk Motor</td><td>Major</td></tr><tr><td>48</td><td>4</td><td>PA</td><td>11</td><td>North East</td><td>1301.91</td><td>808.97</td><td>3.108413973E9</td><td>Class A Principle Road</td><td>Major</td></tr><tr><td>23</td><td>3</td><td>TA</td><td>6</td><td>London</td><td>339.479</td><td>210.94</td><td>3.913260559E9</td><td>Class A Trunk Road</td><td>Major</td></tr><tr><td>2</td><td>3</td><td>TA</td><td>1</td><td>South West</td><td>993.586</td><td>617.39</td><td>3.48471021E9</td><td>Class A Trunk Road</td><td>Major</td></tr><tr><td>32</td><td>3</td><td>TA</td><td>8</td><td>Yorkshire and the Humber</td><td>703.57</td><td>437.18</td><td>2.966722872E9</td><td>Class A Trunk Road</td><td>Major</td></tr><tr><td>51</td><td>3</td><td>TA</td><td>1</td><td>South West</td><td>991.224</td><td>615.92</td><td>3.592467081E9</td><td>Class A Trunk Road</td><td>Major</td></tr><tr><td>18</td><td>2</td><td>PM</td><td>5</td><td>North West</td><td>38.642</td><td>24.01</td><td>3.003886043E8</td><td>Class A Principle Motorway</td><td>Major</td></tr><tr><td>70</td><td>5</td><td>M</td><td>5</td><td>North West</td><td>31478.1</td><td>19559.58</td><td>1.0352642338E10</td><td>Class B road</td><td>Minor</td></tr><tr><td>9</td><td>1</td><td>TM</td><td>3</td><td>Scotland</td><td>335.263</td><td>208.32</td><td>2.48546845E9</td><td>Class A Trunk Motor</td><td>Major</td></tr><tr><td>20</td><td>4</td><td>PA</td><td>5</td><td>North West</td><td>3128.239</td><td>1943.8</td><td>8.498019318E9</td><td>Class A Principle Road</td><td>Major</td></tr><tr><td>27</td><td>3</td><td>TA</td><td>7</td><td>East of England</td><td>1134.757</td><td>705.11</td><td>5.738079521E9</td><td>Class A Trunk Road</td><td>Major</td></tr><tr><td>30</td><td>1</td><td>TM</td><td>8</td><td>Yorkshire and the Humber</td><td>333.613</td><td>207.3</td><td>3.852882985E9</td><td>Class A Trunk Motor</td><td>Major</td></tr><tr><td>11</td><td>4</td><td>PA</td><td>3</td><td>Scotland</td><td>7405.483</td><td>4601.55</td><td>6.514431997E9</td><td>Class A Principle Road</td><td>Major</td></tr><tr><td>47</td><td>3</td><td>TA</td><td>11</td><td>North East</td><td>437.347</td><td>271.75</td><td>1.961549915E9</td><td>Class A Trunk Road</td><td>Major</td></tr><tr><td>63</td><td>3</td><td>TA</td><td>4</td><td>Wales</td><td>1506.139</td><td>935.87</td><td>3.217899485E9</td><td>Class A Trunk Road</td><td>Major</td></tr><tr><td>67</td><td>2</td><td>PM</td><td>5</td><td>North West</td><td>38.642</td><td>24.01</td><td>3.055495587E8</td><td>Class A Principle Motorway</td><td>Major</td></tr><tr><td>12</td><td>5</td><td>M</td><td>3</td><td>Scotland</td><td>47971.6</td><td>29808.17</td><td>7.656438848E9</td><td>Class B road</td><td>Minor</td></tr><tr><td>3</td><td>4</td><td>PA</td><td>1</td><td>South West</td><td>3874.924</td><td>2407.77</td><td>7.794003682E9</td><td>Class A Principle Road</td><td>Major</td></tr><tr><td>64</td><td>4</td><td>PA</td><td>4</td><td>Wales</td><td>2585.937</td><td>1606.83</td><td>4.111196479E9</td><td>Class A Principle Road</td><td>Major</td></tr><tr><td>4</td><td>5</td><td>M</td><td>1</td><td>South West</td><td>43581.7</td><td>27080.41</td><td>9.112005432E9</td><td>Class B road</td><td>Minor</td></tr><tr><td>69</td><td>4</td><td>PA</td><td>5</td><td>North West</td><td>3133.096</td><td>1946.82</td><td>8.658580954E9</td><td>Class A Principle Road</td><td>Major</td></tr><tr><td>43</td><td>4</td><td>PA</td><td>10</td><td>West Midlands</td><td>2658.788</td><td>1652.09</td><td>6.579986312E9</td><td>Class A Principle Road</td><td>Major</td></tr><tr><td>76</td><td>3</td><td>TA</td><td>7</td><td>East of England</td><td>1131.749</td><td>703.24</td><td>5.888883553E9</td><td>Class A Trunk Road</td><td>Major</td></tr><tr><td>72</td><td>3</td><td>TA</td><td>6</td><td>London</td><td>335.84</td><td>208.68</td><td>3.942920884E9</td><td>Class A Trunk Road</td><td>Major</td></tr><tr><td>19</td><td>3</td><td>TA</td><td>5</td><td>North West</td><td>826.384</td><td>513.49</td><td>2.68912797E9</td><td>Class A Trunk Road</td><td>Major</td></tr><tr><td>42</td><td>3</td><td>TA</td><td>10</td><td>West Midlands</td><td>839.786</td><td>521.82</td><td>3.257861212E9</td><td>Class A Trunk Road</td><td>Major</td></tr><tr><td>7</td><td>4</td><td>PA</td><td>2</td><td>East Midlands</td><td>2571.21</td><td>1597.68</td><td>5.535722338E9</td><td>Class A Principle Road</td><td>Major</td></tr><tr><td>73</td><td>4</td><td>PA</td><td>6</td><td>London</td><td>1373.23</td><td>853.29</td><td>7.155061465E9</td><td>Class A Principle Road</td><td>Major</td></tr><tr><td>50</td><td>1</td><td>TM</td><td>1</td><td>South West</td><td>304.28</td><td>189.07</td><td>3.609698716E9</td><td>Class A Trunk Motor</td><td>Major</td></tr><tr><td>61</td><td>5</td><td>M</td><td>3</td><td>Scotland</td><td>48054.2</td><td>29859.5</td><td>7.774887696E9</td><td>Class B road</td><td>Minor</td></tr><tr><td>25</td><td>5</td><td>M</td><td>6</td><td>London</td><td>12573.5</td><td>7812.81</td><td>6.889501849E9</td><td>Class B road</td><td>Minor</td></tr><tr><td>36</td><td>2</td><td>PM</td><td>9</td><td>South East</td><td>16.997</td><td>10.56</td><td>2.167368363E8</td><td>Class A Principle Motorway</td><td>Major</td></tr><tr><td>35</td><td>1</td><td>TM</td><td>9</td><td>South East</td><td>594.195</td><td>369.22</td><td>9.617939329E9</td><td>Class A Trunk Motor</td><td>Major</td></tr><tr><td>31</td><td>2</td><td>PM</td><td>8</td><td>Yorkshire and the Humber</td><td>5.612</td><td>3.49</td><td>7.880772228E7</td><td>Class A Principle Motorway</td><td>Major</td></tr><tr><td>57</td><td>5</td><td>M</td><td>2</td><td>East Midlands</td><td>26764.2</td><td>16630.5</td><td>7.198719603E9</td><td>Class B road</td><td>Minor</td></tr><tr><td>26</td><td>1</td><td>TM</td><td>7</td><td>East of England</td><td>243.524</td><td>151.32</td><td>3.92295169E9</td><td>Class A Trunk Motor</td><td>Major</td></tr><tr><td>65</td><td>5</td><td>M</td><td>4</td><td>Wales</td><td>28370.8</td><td>17628.8</td><td>5.374885013E9</td><td>Class B road</td><td>Minor</td></tr><tr><td>17</td><td>1</td><td>TM</td><td>5</td><td>North West</td><td>553.439</td><td>343.89</td><td>7.184955992E9</td><td>Class A Trunk Motor</td><td>Major</td></tr><tr><td>45</td><td>1</td><td>TM</td><td>11</td><td>North East</td><td>51.268</td><td>31.86</td><td>4.734966048E8</td><td>Class A Trunk Motor</td><td>Major</td></tr><tr><td>34</td><td>5</td><td>M</td><td>8</td><td>Yorkshire and the Humber</td><td>27494.7</td><td>17084.41</td><td>7.847735329E9</td><td>Class B road</td><td>Minor</td></tr><tr><td>24</td><td>4</td><td>PA</td><td>6</td><td>London</td><td>1371.723</td><td>852.35</td><td>7.035517996E9</td><td>Class A Principle Road</td><td>Major</td></tr><tr><td>46</td><td>2</td><td>PM</td><td>11</td><td>North East</td><td>3.848</td><td>2.39</td><td>5.450292852E7</td><td>Class A Principle Motorway</td><td>Major</td></tr><tr><td>14</td><td>3</td><td>TA</td><td>4</td><td>Wales</td><td>1509.635</td><td>938.04</td><td>3.123943528E9</td><td>Class A Trunk Road</td><td>Major</td></tr><tr><td>83</td><td>5</td><td>M</td><td>8</td><td>Yorkshire and the Humber</td><td>27552.3</td><td>17120.21</td><td>7.962436534E9</td><td>Class B road</td><td>Minor</td></tr><tr><td>90</td><td>2</td><td>PM</td><td>10</td><td>West Midlands</td><td>6.895</td><td>4.28</td><td>1.493313213E8</td><td>Class A Principle Motorway</td><td>Major</td></tr><tr><td>106</td><td>5</td><td>M</td><td>2</td><td>East Midlands</td><td>26815.3</td><td>16662.25</td><td>7.221002733E9</td><td>Class B road</td><td>Minor</td></tr><tr><td>77</td><td>4</td><td>PA</td><td>7</td><td>East of England</td><td>2724.138</td><td>1692.7</td><td>7.672792218E9</td><td>Class A Principle Road</td><td>Major</td></tr><tr><td>131</td><td>4</td><td>PA</td><td>8</td><td>Yorkshire and the Humber</td><td>2573.884</td><td>1599.34</td><td>6.701075397E9</td><td>Class A Principle Road</td><td>Major</td></tr><tr><td>139</td><td>2</td><td>PM</td><td>10</td><td>West Midlands</td><td>6.895</td><td>4.28</td><td>1.539476551E8</td><td>Class A Principle Motorway</td><td>Major</td></tr><tr><td>144</td><td>2</td><td>PM</td><td>11</td><td>North East</td><td>3.848</td><td>2.39</td><td>5.715457354E7</td><td>Class A Principle Motorway</td><td>Major</td></tr><tr><td>129</td><td>2</td><td>PM</td><td>8</td><td>Yorkshire and the Humber</td><td>5.612</td><td>3.49</td><td>8.268269183E7</td><td>Class A Principle Motorway</td><td>Major</td></tr><tr><td>80</td><td>2</td><td>PM</td><td>8</td><td>Yorkshire and the Humber</td><td>5.612</td><td>3.49</td><td>8.017817943E7</td><td>Class A Principle Motorway</td><td>Major</td></tr><tr><td>124</td><td>1</td><td>TM</td><td>7</td><td>East of England</td><td>248.014</td><td>154.11</td><td>4.320804105E9</td><td>Class A Trunk Motor</td><td>Major</td></tr><tr><td>95</td><td>2</td><td>PM</td><td>11</td><td>North East</td><td>3.848</td><td>2.39</td><td>5.549535836E7</td><td>Class A Principle Motorway</td><td>Major</td></tr><tr><td>119</td><td>5</td><td>M</td><td>5</td><td>North West</td><td>31549.7</td><td>19604.07</td><td>1.0386621541E10</td><td>Class B road</td><td>Minor</td></tr><tr><td>126</td><td>4</td><td>PA</td><td>7</td><td>East of England</td><td>2736.814</td><td>1700.58</td><td>7.885298315E9</td><td>Class A Principle Road</td><td>Major</td></tr><tr><td>79</td><td>1</td><td>TM</td><td>8</td><td>Yorkshire and the Humber</td><td>336.866</td><td>209.32</td><td>3.964069273E9</td><td>Class A Trunk Motor</td><td>Major</td></tr><tr><td>81</td><td>3</td><td>TA</td><td>8</td><td>Yorkshire and the Humber</td><td>701.289</td><td>435.76</td><td>3.051630773E9</td><td>Class A Trunk Road</td><td>Major</td></tr><tr><td>130</td><td>3</td><td>TA</td><td>8</td><td>Yorkshire and the Humber</td><td>700.836</td><td>435.48</td><td>3.133691757E9</td><td>Class A Trunk Road</td><td>Major</td></tr><tr><td>87</td><td>4</td><td>PA</td><td>9</td><td>South East</td><td>4277.026</td><td>2657.62</td><td>1.3124687875E10</td><td>Class A Principle Road</td><td>Major</td></tr><tr><td>128</td><td>1</td><td>TM</td><td>8</td><td>Yorkshire and the Humber</td><td>339.762</td><td>211.12</td><td>4.134782078E9</td><td>Class A Trunk Motor</td><td>Major</td></tr><tr><td>91</td><td>3</td><td>TA</td><td>10</td><td>West Midlands</td><td>837.019</td><td>520.1</td><td>3.332546861E9</td><td>Class A Trunk Road</td><td>Major</td></tr><tr><td>142</td><td>5</td><td>M</td><td>10</td><td>West Midlands</td><td>28069.2</td><td>17441.39</td><td>1.0092401983E10</td><td>Class B road</td><td>Minor</td></tr><tr><td>85</td><td>2</td><td>PM</td><td>9</td><td>South East</td><td>16.997</td><td>10.56</td><td>2.245976727E8</td><td>Class A Principle Motorway</td><td>Major</td></tr><tr><td>134</td><td>2</td><td>PM</td><td>9</td><td>South East</td><td>16.997</td><td>10.56</td><td>2.327414947E8</td><td>Class A Principle Motorway</td><td>Major</td></tr><tr><td>116</td><td>2</td><td>PM</td><td>5</td><td>North West</td><td>38.642</td><td>24.01</td><td>3.151080807E8</td><td>Class A Principle Motorway</td><td>Major</td></tr><tr><td>82</td><td>4</td><td>PA</td><td>8</td><td>Yorkshire and the Humber</td><td>2563.355</td><td>1592.79</td><td>6.5179493E9</td><td>Class A Principle Road</td><td>Major</td></tr><tr><td>127</td><td>5</td><td>M</td><td>7</td><td>East of England</td><td>34740.1</td><td>21586.5</td><td>1.1311937114E10</td><td>Class B road</td><td>Minor</td></tr><tr><td>92</td><td>4</td><td>PA</td><td>10</td><td>West Midlands</td><td>2663.245</td><td>1654.86</td><td>6.715565678E9</td><td>Class A Principle Road</td><td>Major</td></tr><tr><td>102</td><td>5</td><td>M</td><td>1</td><td>South West</td><td>43736.9</td><td>27176.85</td><td>9.298223144E9</td><td>Class B road</td><td>Minor</td></tr><tr><td>149</td><td>3</td><td>TA</td><td>1</td><td>South West</td><td>999.129</td><td>620.83</td><td>3.819593409E9</td><td>Class A Trunk Road</td><td>Major</td></tr><tr><td>109</td><td>4</td><td>PA</td><td>3</td><td>Scotland</td><td>7460.656</td><td>4635.84</td><td>6.868526007E9</td><td>Class A Principle Road</td><td>Major</td></tr><tr><td>140</td><td>3</td><td>TA</td><td>10</td><td>West Midlands</td><td>836.417</td><td>519.73</td><td>3.405127134E9</td><td>Class A Trunk Road</td><td>Major</td></tr><tr><td>105</td><td>4</td><td>PA</td><td>2</td><td>East Midlands</td><td>2588.476</td><td>1608.4</td><td>5.818610912E9</td><td>Class A Principle Road</td><td>Major</td></tr><tr><td>141</td><td>4</td><td>PA</td><td>10</td><td>West Midlands</td><td>2674.411</td><td>1661.8</td><td>6.892231578E9</td><td>Class A Principle Road</td><td>Major</td></tr><tr><td>125</td><td>3</td><td>TA</td><td>7</td><td>East of England</td><td>1131.908</td><td>703.34</td><td>6.0429866E9</td><td>Class A Trunk Road</td><td>Major</td></tr><tr><td>132</td><td>5</td><td>M</td><td>8</td><td>Yorkshire and the Humber</td><td>27611.1</td><td>17156.74</td><td>7.989272669E9</td><td>Class B road</td><td>Minor</td></tr><tr><td>138</td><td>1</td><td>TM</td><td>10</td><td>West Midlands</td><td>358.449</td><td>222.73</td><td>5.721315484E9</td><td>Class A Trunk Motor</td><td>Major</td></tr><tr><td>150</td><td>4</td><td>PA</td><td>1</td><td>South West</td><td>3879.448</td><td>2410.58</td><td>8.414392699E9</td><td>Class A Principle Road</td><td>Major</td></tr><tr><td>136</td><td>4</td><td>PA</td><td>9</td><td>South East</td><td>4296.099</td><td>2669.47</td><td>1.3455425716E10</td><td>Class A Principle Road</td><td>Major</td></tr><tr><td>101</td><td>4</td><td>PA</td><td>1</td><td>South West</td><td>3902.336</td><td>2424.8</td><td>8.265255229E9</td><td>Class A Principle Road</td><td>Major</td></tr><tr><td>89</td><td>1</td><td>TM</td><td>10</td><td>West Midlands</td><td>355.396</td><td>220.83</td><td>5.473506137E9</td><td>Class A Trunk Motor</td><td>Major</td></tr><tr><td>118</td><td>4</td><td>PA</td><td>5</td><td>North West</td><td>3144.137</td><td>1953.68</td><td>8.894468308E9</td><td>Class A Principle Road</td><td>Major</td></tr><tr><td>146</td><td>4</td><td>PA</td><td>11</td><td>North East</td><td>1309.772</td><td>813.85</td><td>3.2585593E9</td><td>Class A Principle Road</td><td>Major</td></tr><tr><td>152</td><td>1</td><td>TM</td><td>2</td><td>East Midlands</td><td>185.07</td><td>115.0</td><td>3.2508085E9</td><td>Class A Trunk Motor</td><td>Major</td></tr><tr><td>97</td><td>4</td><td>PA</td><td>11</td><td>North East</td><td>1304.129</td><td>810.35</td><td>3.171164156E9</td><td>Class A Principle Road</td><td>Major</td></tr><tr><td>103</td><td>1</td><td>TM</td><td>2</td><td>East Midlands</td><td>181.901</td><td>113.03</td><td>2.982219303E9</td><td>Class A Trunk Motor</td><td>Major</td></tr><tr><td>104</td><td>3</td><td>TA</td><td>2</td><td>East Midlands</td><td>1215.683</td><td>755.39</td><td>5.177114242E9</td><td>Class A Trunk Road</td><td>Major</td></tr><tr><td>133</td><td>1</td><td>TM</td><td>9</td><td>South East</td><td>605.147</td><td>376.02</td><td>1.0492805848E10</td><td>Class A Trunk Motor</td><td>Major</td></tr><tr><td>84</td><td>1</td><td>TM</td><td>9</td><td>South East</td><td>599.993</td><td>372.82</td><td>1.0029918946E10</td><td>Class A Trunk Motor</td><td>Major</td></tr><tr><td>94</td><td>1</td><td>TM</td><td>11</td><td>North East</td><td>51.768</td><td>32.17</td><td>4.960981611E8</td><td>Class A Trunk Motor</td><td>Major</td></tr><tr><td>143</td><td>1</td><td>TM</td><td>11</td><td>North East</td><td>52.212</td><td>32.44</td><td>5.169800602E8</td><td>Class A Trunk Motor</td><td>Major</td></tr><tr><td>99</td><td>1</td><td>TM</td><td>1</td><td>South West</td><td>306.893</td><td>190.69</td><td>3.778917881E9</td><td>Class A Trunk Motor</td><td>Major</td></tr><tr><td>115</td><td>1</td><td>TM</td><td>5</td><td>North West</td><td>563.638</td><td>350.23</td><td>7.662172073E9</td><td>Class A Trunk Motor</td><td>Major</td></tr><tr><td>96</td><td>3</td><td>TA</td><td>11</td><td>North East</td><td>435.997</td><td>270.92</td><td>2.008478565E9</td><td>Class A Trunk Road</td><td>Major</td></tr><tr><td>145</td><td>3</td><td>TA</td><td>11</td><td>North East</td><td>435.808</td><td>270.8</td><td>2.054327965E9</td><td>Class A Trunk Road</td><td>Major</td></tr><tr><td>135</td><td>3</td><td>TA</td><td>9</td><td>South East</td><td>852.931</td><td>529.99</td><td>5.790407698E9</td><td>Class A Trunk Road</td><td>Major</td></tr><tr><td>117</td><td>3</td><td>TA</td><td>5</td><td>North West</td><td>823.045</td><td>511.42</td><td>2.808206682E9</td><td>Class A Trunk Road</td><td>Major</td></tr><tr><td>86</td><td>3</td><td>TA</td><td>9</td><td>South East</td><td>853.105</td><td>530.09</td><td>5.662577333E9</td><td>Class A Trunk Road</td><td>Major</td></tr><tr><td>100</td><td>3</td><td>TA</td><td>1</td><td>South West</td><td>991.738</td><td>616.24</td><td>3.688075835E9</td><td>Class A Trunk Road</td><td>Major</td></tr><tr><td>122</td><td>4</td><td>PA</td><td>6</td><td>London</td><td>1374.706</td><td>854.2</td><td>7.146821873E9</td><td>Class A Principle Road</td><td>Major</td></tr><tr><td>113</td><td>4</td><td>PA</td><td>4</td><td>Wales</td><td>2599.14</td><td>1615.03</td><td>4.227974959E9</td><td>Class A Principle Road</td><td>Major</td></tr><tr><td>107</td><td>1</td><td>TM</td><td>3</td><td>Scotland</td><td>341.441</td><td>212.16</td><td>2.682979861E9</td><td>Class A Trunk Motor</td><td>Major</td></tr><tr><td>78</td><td>5</td><td>M</td><td>7</td><td>East of England</td><td>34675.8</td><td>21546.54</td><td>1.1278271423E10</td><td>Class B road</td><td>Minor</td></tr><tr><td>108</td><td>3</td><td>TA</td><td>3</td><td>Scotland</td><td>2815.283</td><td>1749.34</td><td>5.322710988E9</td><td>Class A Trunk Road</td><td>Major</td></tr><tr><td>120</td><td>1</td><td>TM</td><td>6</td><td>London</td><td>66.957</td><td>41.61</td><td>1.376969365E9</td><td>Class A Trunk Motor</td><td>Major</td></tr><tr><td>110</td><td>5</td><td>M</td><td>3</td><td>Scotland</td><td>48136.3</td><td>29910.51</td><td>7.803135399E9</td><td>Class B road</td><td>Minor</td></tr><tr><td>148</td><td>1</td><td>TM</td><td>1</td><td>South West</td><td>312.241</td><td>194.02</td><td>4.004094212E9</td><td>Class A Trunk Motor</td><td>Major</td></tr><tr><td>93</td><td>5</td><td>M</td><td>10</td><td>West Midlands</td><td>28012.5</td><td>17406.16</td><td>1.0058396554E10</td><td>Class B road</td><td>Minor</td></tr><tr><td>121</td><td>3</td><td>TA</td><td>6</td><td>London</td><td>332.211</td><td>206.43</td><td>3.881047016E9</td><td>Class A Trunk Road</td><td>Major</td></tr><tr><td>111</td><td>1</td><td>TM</td><td>4</td><td>Wales</td><td>132.693</td><td>82.45</td><td>1.406544289E9</td><td>Class A Trunk Motor</td><td>Major</td></tr><tr><td>112</td><td>3</td><td>TA</td><td>4</td><td>Wales</td><td>1507.036</td><td>936.43</td><td>3.301651825E9</td><td>Class A Trunk Road</td><td>Major</td></tr><tr><td>147</td><td>5</td><td>M</td><td>11</td><td>North East</td><td>14084.6</td><td>8751.76</td><td>4.737551135E9</td><td>Class B road</td><td>Minor</td></tr><tr><td>88</td><td>5</td><td>M</td><td>9</td><td>South East</td><td>40935.6</td><td>25436.2</td><td>1.5843180204E10</td><td>Class B road</td><td>Minor</td></tr><tr><td>98</td><td>5</td><td>M</td><td>11</td><td>North East</td><td>14055.7</td><td>8733.81</td><td>4.716948693E9</td><td>Class B road</td><td>Minor</td></tr><tr><td>151</td><td>5</td><td>M</td><td>1</td><td>South West</td><td>43815.5</td><td>27225.69</td><td>9.438334387E9</td><td>Class B road</td><td>Minor</td></tr><tr><td>137</td><td>5</td><td>M</td><td>9</td><td>South East</td><td>41020.7</td><td>25489.08</td><td>1.5888834321E10</td><td>Class B road</td><td>Minor</td></tr><tr><td>123</td><td>5</td><td>M</td><td>6</td><td>London</td><td>12644.0</td><td>7856.62</td><td>6.957620896E9</td><td>Class B road</td><td>Minor</td></tr><tr><td>114</td><td>5</td><td>M</td><td>4</td><td>Wales</td><td>28420.3</td><td>17659.56</td><td>5.392455004E9</td><td>Class B road</td><td>Minor</td></tr></tbody></table></div>"
      ]
     },
     "metadata": {
      "application/vnd.databricks.v1+output": {
       "addedWidgets": {},
       "aggData": [],
       "aggError": "",
       "aggOverflow": false,
       "aggSchema": [],
       "aggSeriesLimitReached": false,
       "aggType": "",
       "arguments": {},
       "columnCustomDisplayInfos": {},
       "data": [
        [
         75,
         1,
         "TM",
         7,
         "East of England",
         245.9,
         152.8,
         4.120104199E9,
         "Class A Trunk Motor",
         "Major"
        ],
        [
         44,
         5,
         "M",
         10,
         "West Midlands",
         27956.1,
         17371.12,
         9.927697665E9,
         "Class B road",
         "Minor"
        ],
        [
         28,
         4,
         "PA",
         7,
         "East of England",
         2719.344,
         1689.72,
         7.493977513E9,
         "Class A Principle Road",
         "Major"
        ],
        [
         33,
         4,
         "PA",
         8,
         "Yorkshire and the Humber",
         2559.104,
         1590.15,
         6.365559059E9,
         "Class A Principle Road",
         "Major"
        ],
        [
         40,
         1,
         "TM",
         10,
         "West Midlands",
         351.963,
         218.7,
         5.280343918E9,
         "Class A Trunk Motor",
         "Major"
        ],
        [
         39,
         5,
         "M",
         9,
         "South East",
         40851.1,
         25383.7,
         1.5597621429E10,
         "Class B road",
         "Minor"
        ],
        [
         55,
         3,
         "TA",
         2,
         "East Midlands",
         1215.788,
         755.46,
         5.056721458E9,
         "Class A Trunk Road",
         "Major"
        ],
        [
         52,
         4,
         "PA",
         1,
         "South West",
         3882.154,
         2412.26,
         8.028746829E9,
         "Class A Principle Road",
         "Major"
        ],
        [
         71,
         1,
         "TM",
         6,
         "London",
         66.386,
         41.25,
         1.311689053E9,
         "Class A Trunk Motor",
         "Major"
        ],
        [
         66,
         1,
         "TM",
         5,
         "North West",
         558.839,
         347.25,
         7.370068617E9,
         "Class A Trunk Motor",
         "Major"
        ],
        [
         5,
         1,
         "TM",
         2,
         "East Midlands",
         178.609,
         110.98,
         2.73666152E9,
         "Class A Trunk Motor",
         "Major"
        ],
        [
         6,
         3,
         "TA",
         2,
         "East Midlands",
         1219.231,
         757.6,
         4.936702686E9,
         "Class A Trunk Road",
         "Major"
        ],
        [
         41,
         2,
         "PM",
         10,
         "West Midlands",
         6.895,
         4.28,
         1.464122624E8,
         "Class A Principle Motorway",
         "Major"
        ],
        [
         59,
         3,
         "TA",
         3,
         "Scotland",
         2813.698,
         1748.35,
         5.19258696E9,
         "Class A Trunk Road",
         "Major"
        ],
        [
         13,
         1,
         "TM",
         4,
         "Wales",
         130.291,
         80.96,
         1.306589845E9,
         "Class A Trunk Motor",
         "Major"
        ],
        [
         60,
         4,
         "PA",
         3,
         "Scotland",
         7419.724,
         4610.4,
         6.67873035E9,
         "Class A Principle Road",
         "Major"
        ],
        [
         16,
         5,
         "M",
         4,
         "Wales",
         28322.4,
         17598.72,
         5.286183479E9,
         "Class B road",
         "Minor"
        ],
        [
         56,
         4,
         "PA",
         2,
         "East Midlands",
         2575.861,
         1600.57,
         5.66881734E9,
         "Class A Principle Road",
         "Major"
        ],
        [
         29,
         5,
         "M",
         7,
         "East of England",
         34610.8,
         21506.15,
         1.1083436184E10,
         "Class B road",
         "Minor"
        ],
        [
         10,
         3,
         "TA",
         3,
         "Scotland",
         2820.302,
         1752.45,
         5.05292557E9,
         "Class A Trunk Road",
         "Major"
        ],
        [
         37,
         3,
         "TA",
         9,
         "South East",
         855.597,
         531.64,
         5.54362878E9,
         "Class A Trunk Road",
         "Major"
        ],
        [
         54,
         1,
         "TM",
         2,
         "East Midlands",
         180.352,
         112.07,
         2.842352469E9,
         "Class A Trunk Motor",
         "Major"
        ],
        [
         8,
         5,
         "M",
         2,
         "East Midlands",
         26712.7,
         16598.5,
         7.083362916E9,
         "Class B road",
         "Minor"
        ],
        [
         49,
         5,
         "M",
         11,
         "North East",
         14025.9,
         8715.29,
         4.664291984E9,
         "Class B road",
         "Minor"
        ],
        [
         74,
         5,
         "M",
         6,
         "London",
         12609.0,
         7834.87,
         6.938861113E9,
         "Class B road",
         "Minor"
        ],
        [
         21,
         5,
         "M",
         5,
         "North West",
         31405.9,
         19514.72,
         1.0232738407E10,
         "Class B road",
         "Minor"
        ],
        [
         15,
         4,
         "PA",
         4,
         "Wales",
         2581.176,
         1603.87,
         4.010930618E9,
         "Class A Principle Road",
         "Major"
        ],
        [
         22,
         1,
         "TM",
         6,
         "London",
         65.744,
         40.85,
         1.245269582E9,
         "Class A Trunk Motor",
         "Major"
        ],
        [
         53,
         5,
         "M",
         1,
         "South West",
         43659.6,
         27128.82,
         9.272591264E9,
         "Class B road",
         "Minor"
        ],
        [
         38,
         4,
         "PA",
         9,
         "South East",
         4269.653,
         2653.04,
         1.2858678243E10,
         "Class A Principle Road",
         "Major"
        ],
        [
         58,
         1,
         "TM",
         3,
         "Scotland",
         338.535,
         210.36,
         2.577081643E9,
         "Class A Trunk Motor",
         "Major"
        ],
        [
         1,
         1,
         "TM",
         1,
         "South West",
         301.339,
         187.24,
         3.465840186E9,
         "Class A Trunk Motor",
         "Major"
        ],
        [
         68,
         3,
         "TA",
         5,
         "North West",
         823.653,
         511.79,
         2.750751747E9,
         "Class A Trunk Road",
         "Major"
        ],
        [
         62,
         1,
         "TM",
         4,
         "Wales",
         131.563,
         81.75,
         1.350418388E9,
         "Class A Trunk Motor",
         "Major"
        ],
        [
         48,
         4,
         "PA",
         11,
         "North East",
         1301.91,
         808.97,
         3.108413973E9,
         "Class A Principle Road",
         "Major"
        ],
        [
         23,
         3,
         "TA",
         6,
         "London",
         339.479,
         210.94,
         3.913260559E9,
         "Class A Trunk Road",
         "Major"
        ],
        [
         2,
         3,
         "TA",
         1,
         "South West",
         993.586,
         617.39,
         3.48471021E9,
         "Class A Trunk Road",
         "Major"
        ],
        [
         32,
         3,
         "TA",
         8,
         "Yorkshire and the Humber",
         703.57,
         437.18,
         2.966722872E9,
         "Class A Trunk Road",
         "Major"
        ],
        [
         51,
         3,
         "TA",
         1,
         "South West",
         991.224,
         615.92,
         3.592467081E9,
         "Class A Trunk Road",
         "Major"
        ],
        [
         18,
         2,
         "PM",
         5,
         "North West",
         38.642,
         24.01,
         3.003886043E8,
         "Class A Principle Motorway",
         "Major"
        ],
        [
         70,
         5,
         "M",
         5,
         "North West",
         31478.1,
         19559.58,
         1.0352642338E10,
         "Class B road",
         "Minor"
        ],
        [
         9,
         1,
         "TM",
         3,
         "Scotland",
         335.263,
         208.32,
         2.48546845E9,
         "Class A Trunk Motor",
         "Major"
        ],
        [
         20,
         4,
         "PA",
         5,
         "North West",
         3128.239,
         1943.8,
         8.498019318E9,
         "Class A Principle Road",
         "Major"
        ],
        [
         27,
         3,
         "TA",
         7,
         "East of England",
         1134.757,
         705.11,
         5.738079521E9,
         "Class A Trunk Road",
         "Major"
        ],
        [
         30,
         1,
         "TM",
         8,
         "Yorkshire and the Humber",
         333.613,
         207.3,
         3.852882985E9,
         "Class A Trunk Motor",
         "Major"
        ],
        [
         11,
         4,
         "PA",
         3,
         "Scotland",
         7405.483,
         4601.55,
         6.514431997E9,
         "Class A Principle Road",
         "Major"
        ],
        [
         47,
         3,
         "TA",
         11,
         "North East",
         437.347,
         271.75,
         1.961549915E9,
         "Class A Trunk Road",
         "Major"
        ],
        [
         63,
         3,
         "TA",
         4,
         "Wales",
         1506.139,
         935.87,
         3.217899485E9,
         "Class A Trunk Road",
         "Major"
        ],
        [
         67,
         2,
         "PM",
         5,
         "North West",
         38.642,
         24.01,
         3.055495587E8,
         "Class A Principle Motorway",
         "Major"
        ],
        [
         12,
         5,
         "M",
         3,
         "Scotland",
         47971.6,
         29808.17,
         7.656438848E9,
         "Class B road",
         "Minor"
        ],
        [
         3,
         4,
         "PA",
         1,
         "South West",
         3874.924,
         2407.77,
         7.794003682E9,
         "Class A Principle Road",
         "Major"
        ],
        [
         64,
         4,
         "PA",
         4,
         "Wales",
         2585.937,
         1606.83,
         4.111196479E9,
         "Class A Principle Road",
         "Major"
        ],
        [
         4,
         5,
         "M",
         1,
         "South West",
         43581.7,
         27080.41,
         9.112005432E9,
         "Class B road",
         "Minor"
        ],
        [
         69,
         4,
         "PA",
         5,
         "North West",
         3133.096,
         1946.82,
         8.658580954E9,
         "Class A Principle Road",
         "Major"
        ],
        [
         43,
         4,
         "PA",
         10,
         "West Midlands",
         2658.788,
         1652.09,
         6.579986312E9,
         "Class A Principle Road",
         "Major"
        ],
        [
         76,
         3,
         "TA",
         7,
         "East of England",
         1131.749,
         703.24,
         5.888883553E9,
         "Class A Trunk Road",
         "Major"
        ],
        [
         72,
         3,
         "TA",
         6,
         "London",
         335.84,
         208.68,
         3.942920884E9,
         "Class A Trunk Road",
         "Major"
        ],
        [
         19,
         3,
         "TA",
         5,
         "North West",
         826.384,
         513.49,
         2.68912797E9,
         "Class A Trunk Road",
         "Major"
        ],
        [
         42,
         3,
         "TA",
         10,
         "West Midlands",
         839.786,
         521.82,
         3.257861212E9,
         "Class A Trunk Road",
         "Major"
        ],
        [
         7,
         4,
         "PA",
         2,
         "East Midlands",
         2571.21,
         1597.68,
         5.535722338E9,
         "Class A Principle Road",
         "Major"
        ],
        [
         73,
         4,
         "PA",
         6,
         "London",
         1373.23,
         853.29,
         7.155061465E9,
         "Class A Principle Road",
         "Major"
        ],
        [
         50,
         1,
         "TM",
         1,
         "South West",
         304.28,
         189.07,
         3.609698716E9,
         "Class A Trunk Motor",
         "Major"
        ],
        [
         61,
         5,
         "M",
         3,
         "Scotland",
         48054.2,
         29859.5,
         7.774887696E9,
         "Class B road",
         "Minor"
        ],
        [
         25,
         5,
         "M",
         6,
         "London",
         12573.5,
         7812.81,
         6.889501849E9,
         "Class B road",
         "Minor"
        ],
        [
         36,
         2,
         "PM",
         9,
         "South East",
         16.997,
         10.56,
         2.167368363E8,
         "Class A Principle Motorway",
         "Major"
        ],
        [
         35,
         1,
         "TM",
         9,
         "South East",
         594.195,
         369.22,
         9.617939329E9,
         "Class A Trunk Motor",
         "Major"
        ],
        [
         31,
         2,
         "PM",
         8,
         "Yorkshire and the Humber",
         5.612,
         3.49,
         7.880772228E7,
         "Class A Principle Motorway",
         "Major"
        ],
        [
         57,
         5,
         "M",
         2,
         "East Midlands",
         26764.2,
         16630.5,
         7.198719603E9,
         "Class B road",
         "Minor"
        ],
        [
         26,
         1,
         "TM",
         7,
         "East of England",
         243.524,
         151.32,
         3.92295169E9,
         "Class A Trunk Motor",
         "Major"
        ],
        [
         65,
         5,
         "M",
         4,
         "Wales",
         28370.8,
         17628.8,
         5.374885013E9,
         "Class B road",
         "Minor"
        ],
        [
         17,
         1,
         "TM",
         5,
         "North West",
         553.439,
         343.89,
         7.184955992E9,
         "Class A Trunk Motor",
         "Major"
        ],
        [
         45,
         1,
         "TM",
         11,
         "North East",
         51.268,
         31.86,
         4.734966048E8,
         "Class A Trunk Motor",
         "Major"
        ],
        [
         34,
         5,
         "M",
         8,
         "Yorkshire and the Humber",
         27494.7,
         17084.41,
         7.847735329E9,
         "Class B road",
         "Minor"
        ],
        [
         24,
         4,
         "PA",
         6,
         "London",
         1371.723,
         852.35,
         7.035517996E9,
         "Class A Principle Road",
         "Major"
        ],
        [
         46,
         2,
         "PM",
         11,
         "North East",
         3.848,
         2.39,
         5.450292852E7,
         "Class A Principle Motorway",
         "Major"
        ],
        [
         14,
         3,
         "TA",
         4,
         "Wales",
         1509.635,
         938.04,
         3.123943528E9,
         "Class A Trunk Road",
         "Major"
        ],
        [
         83,
         5,
         "M",
         8,
         "Yorkshire and the Humber",
         27552.3,
         17120.21,
         7.962436534E9,
         "Class B road",
         "Minor"
        ],
        [
         90,
         2,
         "PM",
         10,
         "West Midlands",
         6.895,
         4.28,
         1.493313213E8,
         "Class A Principle Motorway",
         "Major"
        ],
        [
         106,
         5,
         "M",
         2,
         "East Midlands",
         26815.3,
         16662.25,
         7.221002733E9,
         "Class B road",
         "Minor"
        ],
        [
         77,
         4,
         "PA",
         7,
         "East of England",
         2724.138,
         1692.7,
         7.672792218E9,
         "Class A Principle Road",
         "Major"
        ],
        [
         131,
         4,
         "PA",
         8,
         "Yorkshire and the Humber",
         2573.884,
         1599.34,
         6.701075397E9,
         "Class A Principle Road",
         "Major"
        ],
        [
         139,
         2,
         "PM",
         10,
         "West Midlands",
         6.895,
         4.28,
         1.539476551E8,
         "Class A Principle Motorway",
         "Major"
        ],
        [
         144,
         2,
         "PM",
         11,
         "North East",
         3.848,
         2.39,
         5.715457354E7,
         "Class A Principle Motorway",
         "Major"
        ],
        [
         129,
         2,
         "PM",
         8,
         "Yorkshire and the Humber",
         5.612,
         3.49,
         8.268269183E7,
         "Class A Principle Motorway",
         "Major"
        ],
        [
         80,
         2,
         "PM",
         8,
         "Yorkshire and the Humber",
         5.612,
         3.49,
         8.017817943E7,
         "Class A Principle Motorway",
         "Major"
        ],
        [
         124,
         1,
         "TM",
         7,
         "East of England",
         248.014,
         154.11,
         4.320804105E9,
         "Class A Trunk Motor",
         "Major"
        ],
        [
         95,
         2,
         "PM",
         11,
         "North East",
         3.848,
         2.39,
         5.549535836E7,
         "Class A Principle Motorway",
         "Major"
        ],
        [
         119,
         5,
         "M",
         5,
         "North West",
         31549.7,
         19604.07,
         1.0386621541E10,
         "Class B road",
         "Minor"
        ],
        [
         126,
         4,
         "PA",
         7,
         "East of England",
         2736.814,
         1700.58,
         7.885298315E9,
         "Class A Principle Road",
         "Major"
        ],
        [
         79,
         1,
         "TM",
         8,
         "Yorkshire and the Humber",
         336.866,
         209.32,
         3.964069273E9,
         "Class A Trunk Motor",
         "Major"
        ],
        [
         81,
         3,
         "TA",
         8,
         "Yorkshire and the Humber",
         701.289,
         435.76,
         3.051630773E9,
         "Class A Trunk Road",
         "Major"
        ],
        [
         130,
         3,
         "TA",
         8,
         "Yorkshire and the Humber",
         700.836,
         435.48,
         3.133691757E9,
         "Class A Trunk Road",
         "Major"
        ],
        [
         87,
         4,
         "PA",
         9,
         "South East",
         4277.026,
         2657.62,
         1.3124687875E10,
         "Class A Principle Road",
         "Major"
        ],
        [
         128,
         1,
         "TM",
         8,
         "Yorkshire and the Humber",
         339.762,
         211.12,
         4.134782078E9,
         "Class A Trunk Motor",
         "Major"
        ],
        [
         91,
         3,
         "TA",
         10,
         "West Midlands",
         837.019,
         520.1,
         3.332546861E9,
         "Class A Trunk Road",
         "Major"
        ],
        [
         142,
         5,
         "M",
         10,
         "West Midlands",
         28069.2,
         17441.39,
         1.0092401983E10,
         "Class B road",
         "Minor"
        ],
        [
         85,
         2,
         "PM",
         9,
         "South East",
         16.997,
         10.56,
         2.245976727E8,
         "Class A Principle Motorway",
         "Major"
        ],
        [
         134,
         2,
         "PM",
         9,
         "South East",
         16.997,
         10.56,
         2.327414947E8,
         "Class A Principle Motorway",
         "Major"
        ],
        [
         116,
         2,
         "PM",
         5,
         "North West",
         38.642,
         24.01,
         3.151080807E8,
         "Class A Principle Motorway",
         "Major"
        ],
        [
         82,
         4,
         "PA",
         8,
         "Yorkshire and the Humber",
         2563.355,
         1592.79,
         6.5179493E9,
         "Class A Principle Road",
         "Major"
        ],
        [
         127,
         5,
         "M",
         7,
         "East of England",
         34740.1,
         21586.5,
         1.1311937114E10,
         "Class B road",
         "Minor"
        ],
        [
         92,
         4,
         "PA",
         10,
         "West Midlands",
         2663.245,
         1654.86,
         6.715565678E9,
         "Class A Principle Road",
         "Major"
        ],
        [
         102,
         5,
         "M",
         1,
         "South West",
         43736.9,
         27176.85,
         9.298223144E9,
         "Class B road",
         "Minor"
        ],
        [
         149,
         3,
         "TA",
         1,
         "South West",
         999.129,
         620.83,
         3.819593409E9,
         "Class A Trunk Road",
         "Major"
        ],
        [
         109,
         4,
         "PA",
         3,
         "Scotland",
         7460.656,
         4635.84,
         6.868526007E9,
         "Class A Principle Road",
         "Major"
        ],
        [
         140,
         3,
         "TA",
         10,
         "West Midlands",
         836.417,
         519.73,
         3.405127134E9,
         "Class A Trunk Road",
         "Major"
        ],
        [
         105,
         4,
         "PA",
         2,
         "East Midlands",
         2588.476,
         1608.4,
         5.818610912E9,
         "Class A Principle Road",
         "Major"
        ],
        [
         141,
         4,
         "PA",
         10,
         "West Midlands",
         2674.411,
         1661.8,
         6.892231578E9,
         "Class A Principle Road",
         "Major"
        ],
        [
         125,
         3,
         "TA",
         7,
         "East of England",
         1131.908,
         703.34,
         6.0429866E9,
         "Class A Trunk Road",
         "Major"
        ],
        [
         132,
         5,
         "M",
         8,
         "Yorkshire and the Humber",
         27611.1,
         17156.74,
         7.989272669E9,
         "Class B road",
         "Minor"
        ],
        [
         138,
         1,
         "TM",
         10,
         "West Midlands",
         358.449,
         222.73,
         5.721315484E9,
         "Class A Trunk Motor",
         "Major"
        ],
        [
         150,
         4,
         "PA",
         1,
         "South West",
         3879.448,
         2410.58,
         8.414392699E9,
         "Class A Principle Road",
         "Major"
        ],
        [
         136,
         4,
         "PA",
         9,
         "South East",
         4296.099,
         2669.47,
         1.3455425716E10,
         "Class A Principle Road",
         "Major"
        ],
        [
         101,
         4,
         "PA",
         1,
         "South West",
         3902.336,
         2424.8,
         8.265255229E9,
         "Class A Principle Road",
         "Major"
        ],
        [
         89,
         1,
         "TM",
         10,
         "West Midlands",
         355.396,
         220.83,
         5.473506137E9,
         "Class A Trunk Motor",
         "Major"
        ],
        [
         118,
         4,
         "PA",
         5,
         "North West",
         3144.137,
         1953.68,
         8.894468308E9,
         "Class A Principle Road",
         "Major"
        ],
        [
         146,
         4,
         "PA",
         11,
         "North East",
         1309.772,
         813.85,
         3.2585593E9,
         "Class A Principle Road",
         "Major"
        ],
        [
         152,
         1,
         "TM",
         2,
         "East Midlands",
         185.07,
         115.0,
         3.2508085E9,
         "Class A Trunk Motor",
         "Major"
        ],
        [
         97,
         4,
         "PA",
         11,
         "North East",
         1304.129,
         810.35,
         3.171164156E9,
         "Class A Principle Road",
         "Major"
        ],
        [
         103,
         1,
         "TM",
         2,
         "East Midlands",
         181.901,
         113.03,
         2.982219303E9,
         "Class A Trunk Motor",
         "Major"
        ],
        [
         104,
         3,
         "TA",
         2,
         "East Midlands",
         1215.683,
         755.39,
         5.177114242E9,
         "Class A Trunk Road",
         "Major"
        ],
        [
         133,
         1,
         "TM",
         9,
         "South East",
         605.147,
         376.02,
         1.0492805848E10,
         "Class A Trunk Motor",
         "Major"
        ],
        [
         84,
         1,
         "TM",
         9,
         "South East",
         599.993,
         372.82,
         1.0029918946E10,
         "Class A Trunk Motor",
         "Major"
        ],
        [
         94,
         1,
         "TM",
         11,
         "North East",
         51.768,
         32.17,
         4.960981611E8,
         "Class A Trunk Motor",
         "Major"
        ],
        [
         143,
         1,
         "TM",
         11,
         "North East",
         52.212,
         32.44,
         5.169800602E8,
         "Class A Trunk Motor",
         "Major"
        ],
        [
         99,
         1,
         "TM",
         1,
         "South West",
         306.893,
         190.69,
         3.778917881E9,
         "Class A Trunk Motor",
         "Major"
        ],
        [
         115,
         1,
         "TM",
         5,
         "North West",
         563.638,
         350.23,
         7.662172073E9,
         "Class A Trunk Motor",
         "Major"
        ],
        [
         96,
         3,
         "TA",
         11,
         "North East",
         435.997,
         270.92,
         2.008478565E9,
         "Class A Trunk Road",
         "Major"
        ],
        [
         145,
         3,
         "TA",
         11,
         "North East",
         435.808,
         270.8,
         2.054327965E9,
         "Class A Trunk Road",
         "Major"
        ],
        [
         135,
         3,
         "TA",
         9,
         "South East",
         852.931,
         529.99,
         5.790407698E9,
         "Class A Trunk Road",
         "Major"
        ],
        [
         117,
         3,
         "TA",
         5,
         "North West",
         823.045,
         511.42,
         2.808206682E9,
         "Class A Trunk Road",
         "Major"
        ],
        [
         86,
         3,
         "TA",
         9,
         "South East",
         853.105,
         530.09,
         5.662577333E9,
         "Class A Trunk Road",
         "Major"
        ],
        [
         100,
         3,
         "TA",
         1,
         "South West",
         991.738,
         616.24,
         3.688075835E9,
         "Class A Trunk Road",
         "Major"
        ],
        [
         122,
         4,
         "PA",
         6,
         "London",
         1374.706,
         854.2,
         7.146821873E9,
         "Class A Principle Road",
         "Major"
        ],
        [
         113,
         4,
         "PA",
         4,
         "Wales",
         2599.14,
         1615.03,
         4.227974959E9,
         "Class A Principle Road",
         "Major"
        ],
        [
         107,
         1,
         "TM",
         3,
         "Scotland",
         341.441,
         212.16,
         2.682979861E9,
         "Class A Trunk Motor",
         "Major"
        ],
        [
         78,
         5,
         "M",
         7,
         "East of England",
         34675.8,
         21546.54,
         1.1278271423E10,
         "Class B road",
         "Minor"
        ],
        [
         108,
         3,
         "TA",
         3,
         "Scotland",
         2815.283,
         1749.34,
         5.322710988E9,
         "Class A Trunk Road",
         "Major"
        ],
        [
         120,
         1,
         "TM",
         6,
         "London",
         66.957,
         41.61,
         1.376969365E9,
         "Class A Trunk Motor",
         "Major"
        ],
        [
         110,
         5,
         "M",
         3,
         "Scotland",
         48136.3,
         29910.51,
         7.803135399E9,
         "Class B road",
         "Minor"
        ],
        [
         148,
         1,
         "TM",
         1,
         "South West",
         312.241,
         194.02,
         4.004094212E9,
         "Class A Trunk Motor",
         "Major"
        ],
        [
         93,
         5,
         "M",
         10,
         "West Midlands",
         28012.5,
         17406.16,
         1.0058396554E10,
         "Class B road",
         "Minor"
        ],
        [
         121,
         3,
         "TA",
         6,
         "London",
         332.211,
         206.43,
         3.881047016E9,
         "Class A Trunk Road",
         "Major"
        ],
        [
         111,
         1,
         "TM",
         4,
         "Wales",
         132.693,
         82.45,
         1.406544289E9,
         "Class A Trunk Motor",
         "Major"
        ],
        [
         112,
         3,
         "TA",
         4,
         "Wales",
         1507.036,
         936.43,
         3.301651825E9,
         "Class A Trunk Road",
         "Major"
        ],
        [
         147,
         5,
         "M",
         11,
         "North East",
         14084.6,
         8751.76,
         4.737551135E9,
         "Class B road",
         "Minor"
        ],
        [
         88,
         5,
         "M",
         9,
         "South East",
         40935.6,
         25436.2,
         1.5843180204E10,
         "Class B road",
         "Minor"
        ],
        [
         98,
         5,
         "M",
         11,
         "North East",
         14055.7,
         8733.81,
         4.716948693E9,
         "Class B road",
         "Minor"
        ],
        [
         151,
         5,
         "M",
         1,
         "South West",
         43815.5,
         27225.69,
         9.438334387E9,
         "Class B road",
         "Minor"
        ],
        [
         137,
         5,
         "M",
         9,
         "South East",
         41020.7,
         25489.08,
         1.5888834321E10,
         "Class B road",
         "Minor"
        ],
        [
         123,
         5,
         "M",
         6,
         "London",
         12644.0,
         7856.62,
         6.957620896E9,
         "Class B road",
         "Minor"
        ],
        [
         114,
         5,
         "M",
         4,
         "Wales",
         28420.3,
         17659.56,
         5.392455004E9,
         "Class B road",
         "Minor"
        ]
       ],
       "datasetInfos": [],
       "dbfsResultPath": null,
       "isJsonSchema": true,
       "metadata": {
        "dataframeName": "_sqldf",
        "executionCount": 11
       },
       "overflow": false,
       "plotOptions": {
        "customPlotOptions": {},
        "displayType": "table",
        "pivotAggregation": null,
        "pivotColumns": null,
        "xColumns": null,
        "yColumns": null
       },
       "removedWidgets": [],
       "schema": [
        {
         "metadata": "{}",
         "name": "Road_ID",
         "type": "\"integer\""
        },
        {
         "metadata": "{}",
         "name": "Road_Category_Id",
         "type": "\"integer\""
        },
        {
         "metadata": "{}",
         "name": "Road_Category",
         "type": "\"string\""
        },
        {
         "metadata": "{}",
         "name": "Region_ID",
         "type": "\"integer\""
        },
        {
         "metadata": "{}",
         "name": "Region_Name",
         "type": "\"string\""
        },
        {
         "metadata": "{}",
         "name": "Total_Link_Length_Km",
         "type": "\"double\""
        },
        {
         "metadata": "{}",
         "name": "Total_Link_Length_Miles",
         "type": "\"double\""
        },
        {
         "metadata": "{}",
         "name": "All_Motor_Vehicles",
         "type": "\"double\""
        },
        {
         "metadata": "{}",
         "name": "Road_Category_Name",
         "type": "\"string\""
        },
        {
         "metadata": "{}",
         "name": "Road_Type",
         "type": "\"string\""
        }
       ],
       "type": "table"
      }
     },
     "output_type": "display_data"
    }
   ],
   "source": [
    "%sql\n",
    "select * from databricks_dev_ws.silver.silver_roads;"
   ]
  },
  {
   "cell_type": "code",
   "execution_count": 0,
   "metadata": {
    "application/vnd.databricks.v1+cell": {
     "cellMetadata": {
      "byteLimit": 2048000,
      "rowLimit": 10000
     },
     "inputWidgets": {},
     "nuid": "c46fb4ba-e7b5-40f3-b431-3332b0fe4728",
     "showTitle": false,
     "title": ""
    }
   },
   "outputs": [],
   "source": []
  }
 ],
 "metadata": {
  "application/vnd.databricks.v1+notebook": {
   "dashboards": [],
   "environmentMetadata": null,
   "language": "python",
   "notebookMetadata": {
    "mostRecentlyExecutedCommandWithImplicitDF": {
     "commandId": 3369069999360330,
     "dataframes": [
      "_sqldf"
     ]
    },
    "pythonIndentUnit": 4
   },
   "notebookName": "05. Silver - Roads Transformation",
   "widgets": {
    "env": {
     "currentValue": "dev",
     "nuid": "e442c996-98a8-45a4-ab70-30a336acc7a9",
     "typedWidgetInfo": null,
     "widgetInfo": {
      "widgetType": "text",
      "defaultValue": "",
      "label": "Enter the environment in lowercase",
      "name": "env",
      "options": {
       "widgetType": "text",
       "autoCreated": null,
       "validationRegex": null
      }
     }
    }
   }
  }
 },
 "nbformat": 4,
 "nbformat_minor": 0
}
