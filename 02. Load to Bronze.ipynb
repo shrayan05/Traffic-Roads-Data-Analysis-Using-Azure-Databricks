{
 "cells": [
  {
   "cell_type": "code",
   "execution_count": 0,
   "metadata": {
    "application/vnd.databricks.v1+cell": {
     "cellMetadata": {
      "byteLimit": 2048000,
      "rowLimit": 10000
     },
     "inputWidgets": {},
     "nuid": "7312822d-c084-44f4-bcd8-02a5406a27d9",
     "showTitle": false,
     "title": ""
    }
   },
   "outputs": [],
   "source": [
    "%run \"/Workspace/Users/schaudhuri1495@gmail.com/04. Common\""
   ]
  },
  {
   "cell_type": "code",
   "execution_count": 0,
   "metadata": {
    "application/vnd.databricks.v1+cell": {
     "cellMetadata": {
      "byteLimit": 2048000,
      "rowLimit": 10000
     },
     "inputWidgets": {},
     "nuid": "c7ec0082-d54c-4a49-b0da-684733f0eb7e",
     "showTitle": false,
     "title": ""
    }
   },
   "outputs": [],
   "source": [
    "dbutils.widgets.text(name = \"env\", defaultValue='', label = \"ENTER THE ENVIRONMENT IN LOWER CASE\")\n",
    "env = dbutils.widgets.get(\"env\")"
   ]
  },
  {
   "cell_type": "markdown",
   "metadata": {
    "application/vnd.databricks.v1+cell": {
     "cellMetadata": {
      "byteLimit": 2048000,
      "rowLimit": 10000
     },
     "inputWidgets": {},
     "nuid": "a3c6b225-ac30-4f5f-8484-be0b8d963eb0",
     "showTitle": false,
     "title": ""
    }
   },
   "source": [
    "\n",
    "### CREATING A read_traffic_data FUNCTION"
   ]
  },
  {
   "cell_type": "code",
   "execution_count": 0,
   "metadata": {
    "application/vnd.databricks.v1+cell": {
     "cellMetadata": {
      "byteLimit": 2048000,
      "rowLimit": 10000
     },
     "inputWidgets": {},
     "nuid": "444c6617-6917-422b-ad08-4918c813fef3",
     "showTitle": false,
     "title": ""
    }
   },
   "outputs": [],
   "source": [
    "def read_traffic_data():\n",
    "    from pyspark.sql.types import StructType, StructField, StringType, IntegerType, DoubleType\n",
    "    from pyspark.sql.functions import current_timestamp\n",
    "    print(\"Reading the Raw Traffic Data :  \", end='')\n",
    "    schema = StructType([\n",
    "    StructField(\"Record_ID\",IntegerType()),\n",
    "    StructField(\"Count_point_id\",IntegerType()),\n",
    "    StructField(\"Direction_of_travel\",StringType()),\n",
    "    StructField(\"Year\",IntegerType()),\n",
    "    StructField(\"Count_date\",StringType()),\n",
    "    StructField(\"hour\",IntegerType()),\n",
    "    StructField(\"Region_id\",IntegerType()),\n",
    "    StructField(\"Region_name\",StringType()),\n",
    "    StructField(\"Local_authority_name\",StringType()),\n",
    "    StructField(\"Road_name\",StringType()),\n",
    "    StructField(\"Road_Category_ID\",IntegerType()),\n",
    "    StructField(\"Start_junction_road_name\",StringType()),\n",
    "    StructField(\"End_junction_road_name\",StringType()),\n",
    "    StructField(\"Latitude\",DoubleType()),\n",
    "    StructField(\"Longitude\",DoubleType()),\n",
    "    StructField(\"Link_length_km\",DoubleType()),\n",
    "    StructField(\"Pedal_cycles\",IntegerType()),\n",
    "    StructField(\"Two_wheeled_motor_vehicles\",IntegerType()),\n",
    "    StructField(\"Cars_and_taxis\",IntegerType()),\n",
    "    StructField(\"Buses_and_coaches\",IntegerType()),\n",
    "    StructField(\"LGV_Type\",IntegerType()),\n",
    "    StructField(\"HGV_Type\",IntegerType()),\n",
    "    StructField(\"EV_Car\",IntegerType()),\n",
    "    StructField(\"EV_Bike\",IntegerType())\n",
    "    ])\n",
    "\n",
    "    rawTraffic_stream = (spark.readStream\n",
    "            .format(\"cloudFiles\")\n",
    "            .option(\"cloudFiles.format\",\"csv\")\n",
    "            .option('cloudFiles.schemaLocation', f'{checkpoints}/rawTrafficLoad/schemaInfer')\n",
    "            .option(\"header\",'true')\n",
    "            .schema(schema)\n",
    "            .load(landing+'/raw_traffic/')\n",
    "            .withColumn(\"Extract_Time\", current_timestamp()))\n",
    "    print('READING SUCCESS!!!!!!!!!!!!!!!!')\n",
    "\n",
    "    return rawTraffic_stream\n"
   ]
  },
  {
   "cell_type": "markdown",
   "metadata": {
    "application/vnd.databricks.v1+cell": {
     "cellMetadata": {
      "byteLimit": 2048000,
      "rowLimit": 10000
     },
     "inputWidgets": {},
     "nuid": "d5aacb6a-ece9-4477-bf10-e7972ff809d2",
     "showTitle": false,
     "title": ""
    }
   },
   "source": [
    "### CREATING A write_traffic_data() FUNCTION"
   ]
  },
  {
   "cell_type": "code",
   "execution_count": 0,
   "metadata": {
    "application/vnd.databricks.v1+cell": {
     "cellMetadata": {
      "byteLimit": 2048000,
      "rowLimit": 10000
     },
     "inputWidgets": {},
     "nuid": "221ec435-0216-4b47-b71c-aa8ec7a843b6",
     "showTitle": false,
     "title": ""
    }
   },
   "outputs": [],
   "source": [
    "def write_traffic_data(StreamingDF, env):\n",
    "    write_stream = (StreamingDF.writeStream\n",
    "                    .format('delta')\n",
    "                    .option(\"checkpointLocation\",checkpoints+'/rawTrafficLoad/Checkpt')\n",
    "                    .outputMode('append')\n",
    "                    .queryName('rawTrafficWriteStream')\n",
    "                    .trigger(availableNow=True)\n",
    "                    .toTable(f\"`databricks_{env}_ws`.`bronze`.`raw_traffic`\"))\n",
    "\n",
    "    write_stream.awaitTermination()\n",
    "    print('WRITE SUCCESS!!!!!!!!!!!!!!!!!!!!!!!!!!!!!!!!')\n",
    "        "
   ]
  },
  {
   "cell_type": "markdown",
   "metadata": {
    "application/vnd.databricks.v1+cell": {
     "cellMetadata": {
      "byteLimit": 2048000,
      "rowLimit": 10000
     },
     "inputWidgets": {},
     "nuid": "da104678-5738-43ce-884e-f0b051115492",
     "showTitle": false,
     "title": ""
    }
   },
   "source": [
    "\n",
    "####CALLING READ AND WRITE FUNCTION FOR TRAFFIC"
   ]
  },
  {
   "cell_type": "code",
   "execution_count": 0,
   "metadata": {
    "application/vnd.databricks.v1+cell": {
     "cellMetadata": {
      "byteLimit": 2048000,
      "rowLimit": 10000
     },
     "inputWidgets": {},
     "nuid": "44e2d1d7-1463-4c9b-adf6-c85457e8cf73",
     "showTitle": false,
     "title": ""
    }
   },
   "outputs": [
    {
     "output_type": "stream",
     "name": "stdout",
     "output_type": "stream",
     "text": [
      "Reading the Raw Traffic Data :  READING SUCCESS!!!!!!!!!!!!!!!!\nWRITE SUCCESS!!!!!!!!!!!!!!!!!!!!!!!!!!!!!!!!\n"
     ]
    }
   ],
   "source": [
    "read_df = read_traffic_data()\n",
    "write_traffic_data(read_df, env)"
   ]
  },
  {
   "cell_type": "markdown",
   "metadata": {
    "application/vnd.databricks.v1+cell": {
     "cellMetadata": {
      "byteLimit": 2048000,
      "rowLimit": 10000
     },
     "inputWidgets": {},
     "nuid": "df2a8eda-2e13-45bb-8317-f84ff75c3d6c",
     "showTitle": false,
     "title": ""
    }
   },
   "source": [
    "\n",
    "###CREATING A road_ride_data() FUNCTION"
   ]
  },
  {
   "cell_type": "code",
   "execution_count": 0,
   "metadata": {
    "application/vnd.databricks.v1+cell": {
     "cellMetadata": {
      "byteLimit": 2048000,
      "rowLimit": 10000
     },
     "inputWidgets": {},
     "nuid": "554a6db4-38a5-4e87-a25f-aba0a2cdb1a9",
     "showTitle": false,
     "title": ""
    }
   },
   "outputs": [],
   "source": [
    "def read_Road_Data():\n",
    "    from pyspark.sql.types import StructType, StructField, StringType, IntegerType, DoubleType\n",
    "    from pyspark.sql.functions import current_timestamp\n",
    "    print(\"Reading the Raw Roads Data :  \", end='')\n",
    "    schema = StructType([\n",
    "        StructField('Road_ID',IntegerType()),\n",
    "        StructField('Road_Category_Id',IntegerType()),\n",
    "        StructField('Road_Category',StringType()),\n",
    "        StructField('Region_ID',IntegerType()),\n",
    "        StructField('Region_Name',StringType()),\n",
    "        StructField('Total_Link_Length_Km',DoubleType()),\n",
    "        StructField('Total_Link_Length_Miles',DoubleType()),\n",
    "        StructField('All_Motor_Vehicles',DoubleType())\n",
    "        \n",
    "        ])\n",
    "\n",
    "    rawRoad_stream = (spark.readStream\n",
    "        .format(\"cloudFiles\")\n",
    "        .option(\"cloudFiles.format\",\"csv\")\n",
    "        .option('cloudFiles.schemaLocation', f'{checkpoints}/rawRoadsLoad/schemaInfer')\n",
    "        .option(\"header\",'true')\n",
    "        .schema(schema)\n",
    "        .load(landing+'/raw_roads/')\n",
    "    )\n",
    "    print('READING SUCCESS!!!!!!!!!!!!!!!!')\n",
    "\n",
    "    return rawRoad_stream"
   ]
  },
  {
   "cell_type": "markdown",
   "metadata": {
    "application/vnd.databricks.v1+cell": {
     "cellMetadata": {
      "byteLimit": 2048000,
      "rowLimit": 10000
     },
     "inputWidgets": {},
     "nuid": "57650101-b008-4773-97dd-53be876ea126",
     "showTitle": false,
     "title": ""
    }
   },
   "source": [
    "\n",
    "###CREATING  A write_road_data() FUNCTION"
   ]
  },
  {
   "cell_type": "code",
   "execution_count": 0,
   "metadata": {
    "application/vnd.databricks.v1+cell": {
     "cellMetadata": {
      "byteLimit": 2048000,
      "rowLimit": 10000
     },
     "inputWidgets": {},
     "nuid": "327992e6-a0e3-46b2-8c3c-15c5f2a3cf4d",
     "showTitle": false,
     "title": ""
    }
   },
   "outputs": [],
   "source": [
    "def write_road_data(StreamingDF, env):\n",
    "    write_road = (StreamingDF.writeStream\n",
    "                    .format('delta')\n",
    "                    .option(\"checkpointLocation\",checkpoints+'/rawRoadsLoad/Checkpt')\n",
    "                    .outputMode('append')\n",
    "                    .queryName('rawTrafficWriteStream')\n",
    "                    .trigger(availableNow=True)\n",
    "                    .toTable(f\"`databricks_{env}_ws`.`bronze`.`raw_roads`\"))\n",
    "\n",
    "    write_road.awaitTermination()\n",
    "    print('WRITE SUCCESS!!!!!!!!!!!!!!!!!!!!!!!!!!!!!!!!')"
   ]
  },
  {
   "cell_type": "markdown",
   "metadata": {
    "application/vnd.databricks.v1+cell": {
     "cellMetadata": {
      "byteLimit": 2048000,
      "rowLimit": 10000
     },
     "inputWidgets": {},
     "nuid": "2993cad7-7471-4be5-919d-18de50b5d41a",
     "showTitle": false,
     "title": ""
    }
   },
   "source": [
    "\n",
    "####CALLING READ AND WRITE FUNCTION FOR ROADS"
   ]
  },
  {
   "cell_type": "code",
   "execution_count": 0,
   "metadata": {
    "application/vnd.databricks.v1+cell": {
     "cellMetadata": {
      "byteLimit": 2048000,
      "rowLimit": 10000
     },
     "inputWidgets": {},
     "nuid": "d7341a69-097f-4f91-8674-498e3e899460",
     "showTitle": false,
     "title": ""
    }
   },
   "outputs": [
    {
     "output_type": "stream",
     "name": "stdout",
     "output_type": "stream",
     "text": [
      "Reading the Raw Roads Data :  READING SUCCESS!!!!!!!!!!!!!!!!\nWRITE SUCCESS!!!!!!!!!!!!!!!!!!!!!!!!!!!!!!!!\n"
     ]
    }
   ],
   "source": [
    "read_roads = read_Road_Data()\n",
    "write_road_data(read_roads, env)"
   ]
  },
  {
   "cell_type": "code",
   "execution_count": 0,
   "metadata": {
    "application/vnd.databricks.v1+cell": {
     "cellMetadata": {
      "byteLimit": 2048000,
      "rowLimit": 10000
     },
     "inputWidgets": {},
     "nuid": "3b44b949-a840-4a33-bd43-e0ea98c0faf1",
     "showTitle": false,
     "title": ""
    }
   },
   "outputs": [
    {
     "output_type": "display_data",
     "data": {
      "text/html": [
       "<style scoped>\n",
       "  .table-result-container {\n",
       "    max-height: 300px;\n",
       "    overflow: auto;\n",
       "  }\n",
       "  table, th, td {\n",
       "    border: 1px solid black;\n",
       "    border-collapse: collapse;\n",
       "  }\n",
       "  th, td {\n",
       "    padding: 5px;\n",
       "  }\n",
       "  th {\n",
       "    text-align: left;\n",
       "  }\n",
       "</style><div class='table-result-container'><table class='table-result'><thead style='background-color: white'><tr><th>Road_ID</th><th>Road_Category_Id</th><th>Road_Category</th><th>Region_ID</th><th>Region_Name</th><th>Total_Link_Length_Km</th><th>Total_Link_Length_Miles</th><th>All_Motor_Vehicles</th></tr></thead><tbody><tr><td>1</td><td>1</td><td>TM</td><td>1</td><td>South West</td><td>301.339</td><td>187.24</td><td>3.465840186E9</td></tr><tr><td>2</td><td>3</td><td>TA</td><td>1</td><td>South West</td><td>993.586</td><td>617.39</td><td>3.48471021E9</td></tr><tr><td>3</td><td>4</td><td>PA</td><td>1</td><td>South West</td><td>3874.924</td><td>2407.77</td><td>7.794003682E9</td></tr><tr><td>4</td><td>5</td><td>M</td><td>1</td><td>South West</td><td>43581.7</td><td>27080.41</td><td>9.112005432E9</td></tr><tr><td>5</td><td>1</td><td>TM</td><td>2</td><td>East Midlands</td><td>178.609</td><td>110.98</td><td>2.73666152E9</td></tr><tr><td>6</td><td>3</td><td>TA</td><td>2</td><td>East Midlands</td><td>1219.231</td><td>757.6</td><td>4.936702686E9</td></tr><tr><td>7</td><td>4</td><td>PA</td><td>2</td><td>East Midlands</td><td>2571.21</td><td>1597.68</td><td>5.535722338E9</td></tr><tr><td>8</td><td>5</td><td>M</td><td>2</td><td>East Midlands</td><td>26712.7</td><td>16598.5</td><td>7.083362916E9</td></tr><tr><td>9</td><td>1</td><td>TM</td><td>3</td><td>Scotland</td><td>335.263</td><td>208.32</td><td>2.48546845E9</td></tr><tr><td>10</td><td>3</td><td>TA</td><td>3</td><td>Scotland</td><td>2820.302</td><td>1752.45</td><td>5.05292557E9</td></tr><tr><td>11</td><td>4</td><td>PA</td><td>3</td><td>Scotland</td><td>7405.483</td><td>4601.55</td><td>6.514431997E9</td></tr><tr><td>12</td><td>5</td><td>M</td><td>3</td><td>Scotland</td><td>47971.6</td><td>29808.17</td><td>7.656438848E9</td></tr><tr><td>13</td><td>1</td><td>TM</td><td>4</td><td>Wales</td><td>130.291</td><td>80.96</td><td>1.306589845E9</td></tr><tr><td>14</td><td>3</td><td>TA</td><td>4</td><td>Wales</td><td>1509.635</td><td>938.04</td><td>3.123943528E9</td></tr><tr><td>15</td><td>4</td><td>PA</td><td>4</td><td>Wales</td><td>2581.176</td><td>1603.87</td><td>4.010930618E9</td></tr><tr><td>16</td><td>5</td><td>M</td><td>4</td><td>Wales</td><td>28322.4</td><td>17598.72</td><td>5.286183479E9</td></tr><tr><td>17</td><td>1</td><td>TM</td><td>5</td><td>North West</td><td>553.439</td><td>343.89</td><td>7.184955992E9</td></tr><tr><td>18</td><td>2</td><td>PM</td><td>5</td><td>North West</td><td>38.642</td><td>24.01</td><td>3.003886043E8</td></tr><tr><td>19</td><td>3</td><td>TA</td><td>5</td><td>North West</td><td>826.384</td><td>513.49</td><td>2.68912797E9</td></tr><tr><td>20</td><td>4</td><td>PA</td><td>5</td><td>North West</td><td>3128.239</td><td>1943.8</td><td>8.498019318E9</td></tr><tr><td>21</td><td>5</td><td>M</td><td>5</td><td>North West</td><td>31405.9</td><td>19514.72</td><td>1.0232738407E10</td></tr><tr><td>22</td><td>1</td><td>TM</td><td>6</td><td>London</td><td>65.744</td><td>40.85</td><td>1.245269582E9</td></tr><tr><td>23</td><td>3</td><td>TA</td><td>6</td><td>London</td><td>339.479</td><td>210.94</td><td>3.913260559E9</td></tr><tr><td>24</td><td>4</td><td>PA</td><td>6</td><td>London</td><td>1371.723</td><td>852.35</td><td>7.035517996E9</td></tr><tr><td>25</td><td>5</td><td>M</td><td>6</td><td>London</td><td>12573.5</td><td>7812.81</td><td>6.889501849E9</td></tr><tr><td>26</td><td>1</td><td>TM</td><td>7</td><td>East of England</td><td>243.524</td><td>151.32</td><td>3.92295169E9</td></tr><tr><td>27</td><td>3</td><td>TA</td><td>7</td><td>East of England</td><td>1134.757</td><td>705.11</td><td>5.738079521E9</td></tr><tr><td>28</td><td>4</td><td>PA</td><td>7</td><td>East of England</td><td>2719.344</td><td>1689.72</td><td>7.493977513E9</td></tr><tr><td>29</td><td>5</td><td>M</td><td>7</td><td>East of England</td><td>34610.8</td><td>21506.15</td><td>1.1083436184E10</td></tr><tr><td>30</td><td>1</td><td>TM</td><td>8</td><td>Yorkshire and the Humber</td><td>333.613</td><td>207.3</td><td>3.852882985E9</td></tr><tr><td>31</td><td>2</td><td>PM</td><td>8</td><td>Yorkshire and the Humber</td><td>5.612</td><td>3.49</td><td>7.880772228E7</td></tr><tr><td>32</td><td>3</td><td>TA</td><td>8</td><td>Yorkshire and the Humber</td><td>703.57</td><td>437.18</td><td>2.966722872E9</td></tr><tr><td>33</td><td>4</td><td>PA</td><td>8</td><td>Yorkshire and the Humber</td><td>2559.104</td><td>1590.15</td><td>6.365559059E9</td></tr><tr><td>34</td><td>5</td><td>M</td><td>8</td><td>Yorkshire and the Humber</td><td>27494.7</td><td>17084.41</td><td>7.847735329E9</td></tr><tr><td>35</td><td>1</td><td>TM</td><td>9</td><td>South East</td><td>594.195</td><td>369.22</td><td>9.617939329E9</td></tr><tr><td>36</td><td>2</td><td>PM</td><td>9</td><td>South East</td><td>16.997</td><td>10.56</td><td>2.167368363E8</td></tr><tr><td>37</td><td>3</td><td>TA</td><td>9</td><td>South East</td><td>855.597</td><td>531.64</td><td>5.54362878E9</td></tr><tr><td>38</td><td>4</td><td>PA</td><td>9</td><td>South East</td><td>4269.653</td><td>2653.04</td><td>1.2858678243E10</td></tr><tr><td>39</td><td>5</td><td>M</td><td>9</td><td>South East</td><td>40851.1</td><td>25383.7</td><td>1.5597621429E10</td></tr><tr><td>40</td><td>1</td><td>TM</td><td>10</td><td>West Midlands</td><td>351.963</td><td>218.7</td><td>5.280343918E9</td></tr><tr><td>41</td><td>2</td><td>PM</td><td>10</td><td>West Midlands</td><td>6.895</td><td>4.28</td><td>1.464122624E8</td></tr><tr><td>42</td><td>3</td><td>TA</td><td>10</td><td>West Midlands</td><td>839.786</td><td>521.82</td><td>3.257861212E9</td></tr><tr><td>43</td><td>4</td><td>PA</td><td>10</td><td>West Midlands</td><td>2658.788</td><td>1652.09</td><td>6.579986312E9</td></tr><tr><td>44</td><td>5</td><td>M</td><td>10</td><td>West Midlands</td><td>27956.1</td><td>17371.12</td><td>9.927697665E9</td></tr><tr><td>45</td><td>1</td><td>TM</td><td>11</td><td>North East</td><td>51.268</td><td>31.86</td><td>4.734966048E8</td></tr><tr><td>46</td><td>2</td><td>PM</td><td>11</td><td>North East</td><td>3.848</td><td>2.39</td><td>5.450292852E7</td></tr><tr><td>47</td><td>3</td><td>TA</td><td>11</td><td>North East</td><td>437.347</td><td>271.75</td><td>1.961549915E9</td></tr><tr><td>48</td><td>4</td><td>PA</td><td>11</td><td>North East</td><td>1301.91</td><td>808.97</td><td>3.108413973E9</td></tr><tr><td>49</td><td>5</td><td>M</td><td>11</td><td>North East</td><td>14025.9</td><td>8715.29</td><td>4.664291984E9</td></tr><tr><td>50</td><td>1</td><td>TM</td><td>1</td><td>South West</td><td>304.28</td><td>189.07</td><td>3.609698716E9</td></tr><tr><td>51</td><td>3</td><td>TA</td><td>1</td><td>South West</td><td>991.224</td><td>615.92</td><td>3.592467081E9</td></tr><tr><td>52</td><td>4</td><td>PA</td><td>1</td><td>South West</td><td>3882.154</td><td>2412.26</td><td>8.028746829E9</td></tr><tr><td>53</td><td>5</td><td>M</td><td>1</td><td>South West</td><td>43659.6</td><td>27128.82</td><td>9.272591264E9</td></tr><tr><td>54</td><td>1</td><td>TM</td><td>2</td><td>East Midlands</td><td>180.352</td><td>112.07</td><td>2.842352469E9</td></tr><tr><td>55</td><td>3</td><td>TA</td><td>2</td><td>East Midlands</td><td>1215.788</td><td>755.46</td><td>5.056721458E9</td></tr><tr><td>56</td><td>4</td><td>PA</td><td>2</td><td>East Midlands</td><td>2575.861</td><td>1600.57</td><td>5.66881734E9</td></tr><tr><td>57</td><td>5</td><td>M</td><td>2</td><td>East Midlands</td><td>26764.2</td><td>16630.5</td><td>7.198719603E9</td></tr><tr><td>58</td><td>1</td><td>TM</td><td>3</td><td>Scotland</td><td>338.535</td><td>210.36</td><td>2.577081643E9</td></tr><tr><td>59</td><td>3</td><td>TA</td><td>3</td><td>Scotland</td><td>2813.698</td><td>1748.35</td><td>5.19258696E9</td></tr><tr><td>60</td><td>4</td><td>PA</td><td>3</td><td>Scotland</td><td>7419.724</td><td>4610.4</td><td>6.67873035E9</td></tr><tr><td>61</td><td>5</td><td>M</td><td>3</td><td>Scotland</td><td>48054.2</td><td>29859.5</td><td>7.774887696E9</td></tr><tr><td>62</td><td>1</td><td>TM</td><td>4</td><td>Wales</td><td>131.563</td><td>81.75</td><td>1.350418388E9</td></tr><tr><td>63</td><td>3</td><td>TA</td><td>4</td><td>Wales</td><td>1506.139</td><td>935.87</td><td>3.217899485E9</td></tr><tr><td>64</td><td>4</td><td>PA</td><td>4</td><td>Wales</td><td>2585.937</td><td>1606.83</td><td>4.111196479E9</td></tr><tr><td>65</td><td>5</td><td>M</td><td>4</td><td>Wales</td><td>28370.8</td><td>17628.8</td><td>5.374885013E9</td></tr><tr><td>66</td><td>1</td><td>TM</td><td>5</td><td>North West</td><td>558.839</td><td>347.25</td><td>7.370068617E9</td></tr><tr><td>67</td><td>2</td><td>PM</td><td>5</td><td>North West</td><td>38.642</td><td>24.01</td><td>3.055495587E8</td></tr><tr><td>68</td><td>3</td><td>TA</td><td>5</td><td>North West</td><td>823.653</td><td>511.79</td><td>2.750751747E9</td></tr><tr><td>69</td><td>4</td><td>PA</td><td>5</td><td>North West</td><td>3133.096</td><td>1946.82</td><td>8.658580954E9</td></tr><tr><td>70</td><td>5</td><td>M</td><td>5</td><td>North West</td><td>31478.1</td><td>19559.58</td><td>1.0352642338E10</td></tr><tr><td>71</td><td>1</td><td>TM</td><td>6</td><td>London</td><td>66.386</td><td>41.25</td><td>1.311689053E9</td></tr><tr><td>72</td><td>3</td><td>TA</td><td>6</td><td>London</td><td>335.84</td><td>208.68</td><td>3.942920884E9</td></tr><tr><td>73</td><td>4</td><td>PA</td><td>6</td><td>London</td><td>1373.23</td><td>853.29</td><td>7.155061465E9</td></tr><tr><td>74</td><td>5</td><td>M</td><td>6</td><td>London</td><td>12609.0</td><td>7834.87</td><td>6.938861113E9</td></tr><tr><td>75</td><td>1</td><td>TM</td><td>7</td><td>East of England</td><td>245.9</td><td>152.8</td><td>4.120104199E9</td></tr><tr><td>76</td><td>3</td><td>TA</td><td>7</td><td>East of England</td><td>1131.749</td><td>703.24</td><td>5.888883553E9</td></tr><tr><td>77</td><td>4</td><td>PA</td><td>7</td><td>East of England</td><td>2724.138</td><td>1692.7</td><td>7.672792218E9</td></tr><tr><td>78</td><td>5</td><td>M</td><td>7</td><td>East of England</td><td>34675.8</td><td>21546.54</td><td>1.1278271423E10</td></tr><tr><td>79</td><td>1</td><td>TM</td><td>8</td><td>Yorkshire and the Humber</td><td>336.866</td><td>209.32</td><td>3.964069273E9</td></tr><tr><td>80</td><td>2</td><td>PM</td><td>8</td><td>Yorkshire and the Humber</td><td>5.612</td><td>3.49</td><td>8.017817943E7</td></tr><tr><td>81</td><td>3</td><td>TA</td><td>8</td><td>Yorkshire and the Humber</td><td>701.289</td><td>435.76</td><td>3.051630773E9</td></tr><tr><td>82</td><td>4</td><td>PA</td><td>8</td><td>Yorkshire and the Humber</td><td>2563.355</td><td>1592.79</td><td>6.5179493E9</td></tr><tr><td>83</td><td>5</td><td>M</td><td>8</td><td>Yorkshire and the Humber</td><td>27552.3</td><td>17120.21</td><td>7.962436534E9</td></tr><tr><td>84</td><td>1</td><td>TM</td><td>9</td><td>South East</td><td>599.993</td><td>372.82</td><td>1.0029918946E10</td></tr><tr><td>85</td><td>2</td><td>PM</td><td>9</td><td>South East</td><td>16.997</td><td>10.56</td><td>2.245976727E8</td></tr><tr><td>86</td><td>3</td><td>TA</td><td>9</td><td>South East</td><td>853.105</td><td>530.09</td><td>5.662577333E9</td></tr><tr><td>87</td><td>4</td><td>PA</td><td>9</td><td>South East</td><td>4277.026</td><td>2657.62</td><td>1.3124687875E10</td></tr><tr><td>88</td><td>5</td><td>M</td><td>9</td><td>South East</td><td>40935.6</td><td>25436.2</td><td>1.5843180204E10</td></tr><tr><td>89</td><td>1</td><td>TM</td><td>10</td><td>West Midlands</td><td>355.396</td><td>220.83</td><td>5.473506137E9</td></tr><tr><td>90</td><td>2</td><td>PM</td><td>10</td><td>West Midlands</td><td>6.895</td><td>4.28</td><td>1.493313213E8</td></tr><tr><td>91</td><td>3</td><td>TA</td><td>10</td><td>West Midlands</td><td>837.019</td><td>520.1</td><td>3.332546861E9</td></tr><tr><td>92</td><td>4</td><td>PA</td><td>10</td><td>West Midlands</td><td>2663.245</td><td>1654.86</td><td>6.715565678E9</td></tr><tr><td>93</td><td>5</td><td>M</td><td>10</td><td>West Midlands</td><td>28012.5</td><td>17406.16</td><td>1.0058396554E10</td></tr><tr><td>94</td><td>1</td><td>TM</td><td>11</td><td>North East</td><td>51.768</td><td>32.17</td><td>4.960981611E8</td></tr><tr><td>95</td><td>2</td><td>PM</td><td>11</td><td>North East</td><td>3.848</td><td>2.39</td><td>5.549535836E7</td></tr><tr><td>96</td><td>3</td><td>TA</td><td>11</td><td>North East</td><td>435.997</td><td>270.92</td><td>2.008478565E9</td></tr><tr><td>97</td><td>4</td><td>PA</td><td>11</td><td>North East</td><td>1304.129</td><td>810.35</td><td>3.171164156E9</td></tr><tr><td>98</td><td>5</td><td>M</td><td>11</td><td>North East</td><td>14055.7</td><td>8733.81</td><td>4.716948693E9</td></tr><tr><td>99</td><td>1</td><td>TM</td><td>1</td><td>South West</td><td>306.893</td><td>190.69</td><td>3.778917881E9</td></tr><tr><td>100</td><td>3</td><td>TA</td><td>1</td><td>South West</td><td>991.738</td><td>616.24</td><td>3.688075835E9</td></tr><tr><td>101</td><td>4</td><td>PA</td><td>1</td><td>South West</td><td>3902.336</td><td>2424.8</td><td>8.265255229E9</td></tr><tr><td>102</td><td>5</td><td>M</td><td>1</td><td>South West</td><td>43736.9</td><td>27176.85</td><td>9.298223144E9</td></tr><tr><td>103</td><td>1</td><td>TM</td><td>2</td><td>East Midlands</td><td>181.901</td><td>113.03</td><td>2.982219303E9</td></tr><tr><td>104</td><td>3</td><td>TA</td><td>2</td><td>East Midlands</td><td>1215.683</td><td>755.39</td><td>5.177114242E9</td></tr><tr><td>105</td><td>4</td><td>PA</td><td>2</td><td>East Midlands</td><td>2588.476</td><td>1608.4</td><td>5.818610912E9</td></tr><tr><td>106</td><td>5</td><td>M</td><td>2</td><td>East Midlands</td><td>26815.3</td><td>16662.25</td><td>7.221002733E9</td></tr><tr><td>107</td><td>1</td><td>TM</td><td>3</td><td>Scotland</td><td>341.441</td><td>212.16</td><td>2.682979861E9</td></tr><tr><td>108</td><td>3</td><td>TA</td><td>3</td><td>Scotland</td><td>2815.283</td><td>1749.34</td><td>5.322710988E9</td></tr><tr><td>109</td><td>4</td><td>PA</td><td>3</td><td>Scotland</td><td>7460.656</td><td>4635.84</td><td>6.868526007E9</td></tr><tr><td>110</td><td>5</td><td>M</td><td>3</td><td>Scotland</td><td>48136.3</td><td>29910.51</td><td>7.803135399E9</td></tr><tr><td>111</td><td>1</td><td>TM</td><td>4</td><td>Wales</td><td>132.693</td><td>82.45</td><td>1.406544289E9</td></tr><tr><td>112</td><td>3</td><td>TA</td><td>4</td><td>Wales</td><td>1507.036</td><td>936.43</td><td>3.301651825E9</td></tr><tr><td>113</td><td>4</td><td>PA</td><td>4</td><td>Wales</td><td>2599.14</td><td>1615.03</td><td>4.227974959E9</td></tr><tr><td>114</td><td>5</td><td>M</td><td>4</td><td>Wales</td><td>28420.3</td><td>17659.56</td><td>5.392455004E9</td></tr><tr><td>115</td><td>1</td><td>TM</td><td>5</td><td>North West</td><td>563.638</td><td>350.23</td><td>7.662172073E9</td></tr><tr><td>116</td><td>2</td><td>PM</td><td>5</td><td>North West</td><td>38.642</td><td>24.01</td><td>3.151080807E8</td></tr><tr><td>117</td><td>3</td><td>TA</td><td>5</td><td>North West</td><td>823.045</td><td>511.42</td><td>2.808206682E9</td></tr><tr><td>118</td><td>4</td><td>PA</td><td>5</td><td>North West</td><td>3144.137</td><td>1953.68</td><td>8.894468308E9</td></tr><tr><td>119</td><td>5</td><td>M</td><td>5</td><td>North West</td><td>31549.7</td><td>19604.07</td><td>1.0386621541E10</td></tr><tr><td>120</td><td>1</td><td>TM</td><td>6</td><td>London</td><td>66.957</td><td>41.61</td><td>1.376969365E9</td></tr><tr><td>121</td><td>3</td><td>TA</td><td>6</td><td>London</td><td>332.211</td><td>206.43</td><td>3.881047016E9</td></tr><tr><td>122</td><td>4</td><td>PA</td><td>6</td><td>London</td><td>1374.706</td><td>854.2</td><td>7.146821873E9</td></tr><tr><td>123</td><td>5</td><td>M</td><td>6</td><td>London</td><td>12644.0</td><td>7856.62</td><td>6.957620896E9</td></tr><tr><td>124</td><td>1</td><td>TM</td><td>7</td><td>East of England</td><td>248.014</td><td>154.11</td><td>4.320804105E9</td></tr><tr><td>125</td><td>3</td><td>TA</td><td>7</td><td>East of England</td><td>1131.908</td><td>703.34</td><td>6.0429866E9</td></tr><tr><td>126</td><td>4</td><td>PA</td><td>7</td><td>East of England</td><td>2736.814</td><td>1700.58</td><td>7.885298315E9</td></tr><tr><td>127</td><td>5</td><td>M</td><td>7</td><td>East of England</td><td>34740.1</td><td>21586.5</td><td>1.1311937114E10</td></tr><tr><td>128</td><td>1</td><td>TM</td><td>8</td><td>Yorkshire and the Humber</td><td>339.762</td><td>211.12</td><td>4.134782078E9</td></tr><tr><td>129</td><td>2</td><td>PM</td><td>8</td><td>Yorkshire and the Humber</td><td>5.612</td><td>3.49</td><td>8.268269183E7</td></tr><tr><td>130</td><td>3</td><td>TA</td><td>8</td><td>Yorkshire and the Humber</td><td>700.836</td><td>435.48</td><td>3.133691757E9</td></tr><tr><td>131</td><td>4</td><td>PA</td><td>8</td><td>Yorkshire and the Humber</td><td>2573.884</td><td>1599.34</td><td>6.701075397E9</td></tr><tr><td>132</td><td>5</td><td>M</td><td>8</td><td>Yorkshire and the Humber</td><td>27611.1</td><td>17156.74</td><td>7.989272669E9</td></tr><tr><td>133</td><td>1</td><td>TM</td><td>9</td><td>South East</td><td>605.147</td><td>376.02</td><td>1.0492805848E10</td></tr><tr><td>134</td><td>2</td><td>PM</td><td>9</td><td>South East</td><td>16.997</td><td>10.56</td><td>2.327414947E8</td></tr><tr><td>135</td><td>3</td><td>TA</td><td>9</td><td>South East</td><td>852.931</td><td>529.99</td><td>5.790407698E9</td></tr><tr><td>136</td><td>4</td><td>PA</td><td>9</td><td>South East</td><td>4296.099</td><td>2669.47</td><td>1.3455425716E10</td></tr><tr><td>137</td><td>5</td><td>M</td><td>9</td><td>South East</td><td>41020.7</td><td>25489.08</td><td>1.5888834321E10</td></tr><tr><td>138</td><td>1</td><td>TM</td><td>10</td><td>West Midlands</td><td>358.449</td><td>222.73</td><td>5.721315484E9</td></tr><tr><td>139</td><td>2</td><td>PM</td><td>10</td><td>West Midlands</td><td>6.895</td><td>4.28</td><td>1.539476551E8</td></tr><tr><td>140</td><td>3</td><td>TA</td><td>10</td><td>West Midlands</td><td>836.417</td><td>519.73</td><td>3.405127134E9</td></tr><tr><td>141</td><td>4</td><td>PA</td><td>10</td><td>West Midlands</td><td>2674.411</td><td>1661.8</td><td>6.892231578E9</td></tr><tr><td>142</td><td>5</td><td>M</td><td>10</td><td>West Midlands</td><td>28069.2</td><td>17441.39</td><td>1.0092401983E10</td></tr><tr><td>143</td><td>1</td><td>TM</td><td>11</td><td>North East</td><td>52.212</td><td>32.44</td><td>5.169800602E8</td></tr><tr><td>144</td><td>2</td><td>PM</td><td>11</td><td>North East</td><td>3.848</td><td>2.39</td><td>5.715457354E7</td></tr><tr><td>145</td><td>3</td><td>TA</td><td>11</td><td>North East</td><td>435.808</td><td>270.8</td><td>2.054327965E9</td></tr><tr><td>146</td><td>4</td><td>PA</td><td>11</td><td>North East</td><td>1309.772</td><td>813.85</td><td>3.2585593E9</td></tr><tr><td>147</td><td>5</td><td>M</td><td>11</td><td>North East</td><td>14084.6</td><td>8751.76</td><td>4.737551135E9</td></tr><tr><td>148</td><td>1</td><td>TM</td><td>1</td><td>South West</td><td>312.241</td><td>194.02</td><td>4.004094212E9</td></tr><tr><td>149</td><td>3</td><td>TA</td><td>1</td><td>South West</td><td>999.129</td><td>620.83</td><td>3.819593409E9</td></tr><tr><td>150</td><td>4</td><td>PA</td><td>1</td><td>South West</td><td>3879.448</td><td>2410.58</td><td>8.414392699E9</td></tr><tr><td>151</td><td>5</td><td>M</td><td>1</td><td>South West</td><td>43815.5</td><td>27225.69</td><td>9.438334387E9</td></tr><tr><td>152</td><td>1</td><td>TM</td><td>2</td><td>East Midlands</td><td>185.07</td><td>115.0</td><td>3.2508085E9</td></tr></tbody></table></div>"
      ]
     },
     "metadata": {
      "application/vnd.databricks.v1+output": {
       "addedWidgets": {},
       "aggData": [],
       "aggError": "",
       "aggOverflow": false,
       "aggSchema": [],
       "aggSeriesLimitReached": false,
       "aggType": "",
       "arguments": {},
       "columnCustomDisplayInfos": {},
       "data": [
        [
         1,
         1,
         "TM",
         1,
         "South West",
         301.339,
         187.24,
         3.465840186E9
        ],
        [
         2,
         3,
         "TA",
         1,
         "South West",
         993.586,
         617.39,
         3.48471021E9
        ],
        [
         3,
         4,
         "PA",
         1,
         "South West",
         3874.924,
         2407.77,
         7.794003682E9
        ],
        [
         4,
         5,
         "M",
         1,
         "South West",
         43581.7,
         27080.41,
         9.112005432E9
        ],
        [
         5,
         1,
         "TM",
         2,
         "East Midlands",
         178.609,
         110.98,
         2.73666152E9
        ],
        [
         6,
         3,
         "TA",
         2,
         "East Midlands",
         1219.231,
         757.6,
         4.936702686E9
        ],
        [
         7,
         4,
         "PA",
         2,
         "East Midlands",
         2571.21,
         1597.68,
         5.535722338E9
        ],
        [
         8,
         5,
         "M",
         2,
         "East Midlands",
         26712.7,
         16598.5,
         7.083362916E9
        ],
        [
         9,
         1,
         "TM",
         3,
         "Scotland",
         335.263,
         208.32,
         2.48546845E9
        ],
        [
         10,
         3,
         "TA",
         3,
         "Scotland",
         2820.302,
         1752.45,
         5.05292557E9
        ],
        [
         11,
         4,
         "PA",
         3,
         "Scotland",
         7405.483,
         4601.55,
         6.514431997E9
        ],
        [
         12,
         5,
         "M",
         3,
         "Scotland",
         47971.6,
         29808.17,
         7.656438848E9
        ],
        [
         13,
         1,
         "TM",
         4,
         "Wales",
         130.291,
         80.96,
         1.306589845E9
        ],
        [
         14,
         3,
         "TA",
         4,
         "Wales",
         1509.635,
         938.04,
         3.123943528E9
        ],
        [
         15,
         4,
         "PA",
         4,
         "Wales",
         2581.176,
         1603.87,
         4.010930618E9
        ],
        [
         16,
         5,
         "M",
         4,
         "Wales",
         28322.4,
         17598.72,
         5.286183479E9
        ],
        [
         17,
         1,
         "TM",
         5,
         "North West",
         553.439,
         343.89,
         7.184955992E9
        ],
        [
         18,
         2,
         "PM",
         5,
         "North West",
         38.642,
         24.01,
         3.003886043E8
        ],
        [
         19,
         3,
         "TA",
         5,
         "North West",
         826.384,
         513.49,
         2.68912797E9
        ],
        [
         20,
         4,
         "PA",
         5,
         "North West",
         3128.239,
         1943.8,
         8.498019318E9
        ],
        [
         21,
         5,
         "M",
         5,
         "North West",
         31405.9,
         19514.72,
         1.0232738407E10
        ],
        [
         22,
         1,
         "TM",
         6,
         "London",
         65.744,
         40.85,
         1.245269582E9
        ],
        [
         23,
         3,
         "TA",
         6,
         "London",
         339.479,
         210.94,
         3.913260559E9
        ],
        [
         24,
         4,
         "PA",
         6,
         "London",
         1371.723,
         852.35,
         7.035517996E9
        ],
        [
         25,
         5,
         "M",
         6,
         "London",
         12573.5,
         7812.81,
         6.889501849E9
        ],
        [
         26,
         1,
         "TM",
         7,
         "East of England",
         243.524,
         151.32,
         3.92295169E9
        ],
        [
         27,
         3,
         "TA",
         7,
         "East of England",
         1134.757,
         705.11,
         5.738079521E9
        ],
        [
         28,
         4,
         "PA",
         7,
         "East of England",
         2719.344,
         1689.72,
         7.493977513E9
        ],
        [
         29,
         5,
         "M",
         7,
         "East of England",
         34610.8,
         21506.15,
         1.1083436184E10
        ],
        [
         30,
         1,
         "TM",
         8,
         "Yorkshire and the Humber",
         333.613,
         207.3,
         3.852882985E9
        ],
        [
         31,
         2,
         "PM",
         8,
         "Yorkshire and the Humber",
         5.612,
         3.49,
         7.880772228E7
        ],
        [
         32,
         3,
         "TA",
         8,
         "Yorkshire and the Humber",
         703.57,
         437.18,
         2.966722872E9
        ],
        [
         33,
         4,
         "PA",
         8,
         "Yorkshire and the Humber",
         2559.104,
         1590.15,
         6.365559059E9
        ],
        [
         34,
         5,
         "M",
         8,
         "Yorkshire and the Humber",
         27494.7,
         17084.41,
         7.847735329E9
        ],
        [
         35,
         1,
         "TM",
         9,
         "South East",
         594.195,
         369.22,
         9.617939329E9
        ],
        [
         36,
         2,
         "PM",
         9,
         "South East",
         16.997,
         10.56,
         2.167368363E8
        ],
        [
         37,
         3,
         "TA",
         9,
         "South East",
         855.597,
         531.64,
         5.54362878E9
        ],
        [
         38,
         4,
         "PA",
         9,
         "South East",
         4269.653,
         2653.04,
         1.2858678243E10
        ],
        [
         39,
         5,
         "M",
         9,
         "South East",
         40851.1,
         25383.7,
         1.5597621429E10
        ],
        [
         40,
         1,
         "TM",
         10,
         "West Midlands",
         351.963,
         218.7,
         5.280343918E9
        ],
        [
         41,
         2,
         "PM",
         10,
         "West Midlands",
         6.895,
         4.28,
         1.464122624E8
        ],
        [
         42,
         3,
         "TA",
         10,
         "West Midlands",
         839.786,
         521.82,
         3.257861212E9
        ],
        [
         43,
         4,
         "PA",
         10,
         "West Midlands",
         2658.788,
         1652.09,
         6.579986312E9
        ],
        [
         44,
         5,
         "M",
         10,
         "West Midlands",
         27956.1,
         17371.12,
         9.927697665E9
        ],
        [
         45,
         1,
         "TM",
         11,
         "North East",
         51.268,
         31.86,
         4.734966048E8
        ],
        [
         46,
         2,
         "PM",
         11,
         "North East",
         3.848,
         2.39,
         5.450292852E7
        ],
        [
         47,
         3,
         "TA",
         11,
         "North East",
         437.347,
         271.75,
         1.961549915E9
        ],
        [
         48,
         4,
         "PA",
         11,
         "North East",
         1301.91,
         808.97,
         3.108413973E9
        ],
        [
         49,
         5,
         "M",
         11,
         "North East",
         14025.9,
         8715.29,
         4.664291984E9
        ],
        [
         50,
         1,
         "TM",
         1,
         "South West",
         304.28,
         189.07,
         3.609698716E9
        ],
        [
         51,
         3,
         "TA",
         1,
         "South West",
         991.224,
         615.92,
         3.592467081E9
        ],
        [
         52,
         4,
         "PA",
         1,
         "South West",
         3882.154,
         2412.26,
         8.028746829E9
        ],
        [
         53,
         5,
         "M",
         1,
         "South West",
         43659.6,
         27128.82,
         9.272591264E9
        ],
        [
         54,
         1,
         "TM",
         2,
         "East Midlands",
         180.352,
         112.07,
         2.842352469E9
        ],
        [
         55,
         3,
         "TA",
         2,
         "East Midlands",
         1215.788,
         755.46,
         5.056721458E9
        ],
        [
         56,
         4,
         "PA",
         2,
         "East Midlands",
         2575.861,
         1600.57,
         5.66881734E9
        ],
        [
         57,
         5,
         "M",
         2,
         "East Midlands",
         26764.2,
         16630.5,
         7.198719603E9
        ],
        [
         58,
         1,
         "TM",
         3,
         "Scotland",
         338.535,
         210.36,
         2.577081643E9
        ],
        [
         59,
         3,
         "TA",
         3,
         "Scotland",
         2813.698,
         1748.35,
         5.19258696E9
        ],
        [
         60,
         4,
         "PA",
         3,
         "Scotland",
         7419.724,
         4610.4,
         6.67873035E9
        ],
        [
         61,
         5,
         "M",
         3,
         "Scotland",
         48054.2,
         29859.5,
         7.774887696E9
        ],
        [
         62,
         1,
         "TM",
         4,
         "Wales",
         131.563,
         81.75,
         1.350418388E9
        ],
        [
         63,
         3,
         "TA",
         4,
         "Wales",
         1506.139,
         935.87,
         3.217899485E9
        ],
        [
         64,
         4,
         "PA",
         4,
         "Wales",
         2585.937,
         1606.83,
         4.111196479E9
        ],
        [
         65,
         5,
         "M",
         4,
         "Wales",
         28370.8,
         17628.8,
         5.374885013E9
        ],
        [
         66,
         1,
         "TM",
         5,
         "North West",
         558.839,
         347.25,
         7.370068617E9
        ],
        [
         67,
         2,
         "PM",
         5,
         "North West",
         38.642,
         24.01,
         3.055495587E8
        ],
        [
         68,
         3,
         "TA",
         5,
         "North West",
         823.653,
         511.79,
         2.750751747E9
        ],
        [
         69,
         4,
         "PA",
         5,
         "North West",
         3133.096,
         1946.82,
         8.658580954E9
        ],
        [
         70,
         5,
         "M",
         5,
         "North West",
         31478.1,
         19559.58,
         1.0352642338E10
        ],
        [
         71,
         1,
         "TM",
         6,
         "London",
         66.386,
         41.25,
         1.311689053E9
        ],
        [
         72,
         3,
         "TA",
         6,
         "London",
         335.84,
         208.68,
         3.942920884E9
        ],
        [
         73,
         4,
         "PA",
         6,
         "London",
         1373.23,
         853.29,
         7.155061465E9
        ],
        [
         74,
         5,
         "M",
         6,
         "London",
         12609.0,
         7834.87,
         6.938861113E9
        ],
        [
         75,
         1,
         "TM",
         7,
         "East of England",
         245.9,
         152.8,
         4.120104199E9
        ],
        [
         76,
         3,
         "TA",
         7,
         "East of England",
         1131.749,
         703.24,
         5.888883553E9
        ],
        [
         77,
         4,
         "PA",
         7,
         "East of England",
         2724.138,
         1692.7,
         7.672792218E9
        ],
        [
         78,
         5,
         "M",
         7,
         "East of England",
         34675.8,
         21546.54,
         1.1278271423E10
        ],
        [
         79,
         1,
         "TM",
         8,
         "Yorkshire and the Humber",
         336.866,
         209.32,
         3.964069273E9
        ],
        [
         80,
         2,
         "PM",
         8,
         "Yorkshire and the Humber",
         5.612,
         3.49,
         8.017817943E7
        ],
        [
         81,
         3,
         "TA",
         8,
         "Yorkshire and the Humber",
         701.289,
         435.76,
         3.051630773E9
        ],
        [
         82,
         4,
         "PA",
         8,
         "Yorkshire and the Humber",
         2563.355,
         1592.79,
         6.5179493E9
        ],
        [
         83,
         5,
         "M",
         8,
         "Yorkshire and the Humber",
         27552.3,
         17120.21,
         7.962436534E9
        ],
        [
         84,
         1,
         "TM",
         9,
         "South East",
         599.993,
         372.82,
         1.0029918946E10
        ],
        [
         85,
         2,
         "PM",
         9,
         "South East",
         16.997,
         10.56,
         2.245976727E8
        ],
        [
         86,
         3,
         "TA",
         9,
         "South East",
         853.105,
         530.09,
         5.662577333E9
        ],
        [
         87,
         4,
         "PA",
         9,
         "South East",
         4277.026,
         2657.62,
         1.3124687875E10
        ],
        [
         88,
         5,
         "M",
         9,
         "South East",
         40935.6,
         25436.2,
         1.5843180204E10
        ],
        [
         89,
         1,
         "TM",
         10,
         "West Midlands",
         355.396,
         220.83,
         5.473506137E9
        ],
        [
         90,
         2,
         "PM",
         10,
         "West Midlands",
         6.895,
         4.28,
         1.493313213E8
        ],
        [
         91,
         3,
         "TA",
         10,
         "West Midlands",
         837.019,
         520.1,
         3.332546861E9
        ],
        [
         92,
         4,
         "PA",
         10,
         "West Midlands",
         2663.245,
         1654.86,
         6.715565678E9
        ],
        [
         93,
         5,
         "M",
         10,
         "West Midlands",
         28012.5,
         17406.16,
         1.0058396554E10
        ],
        [
         94,
         1,
         "TM",
         11,
         "North East",
         51.768,
         32.17,
         4.960981611E8
        ],
        [
         95,
         2,
         "PM",
         11,
         "North East",
         3.848,
         2.39,
         5.549535836E7
        ],
        [
         96,
         3,
         "TA",
         11,
         "North East",
         435.997,
         270.92,
         2.008478565E9
        ],
        [
         97,
         4,
         "PA",
         11,
         "North East",
         1304.129,
         810.35,
         3.171164156E9
        ],
        [
         98,
         5,
         "M",
         11,
         "North East",
         14055.7,
         8733.81,
         4.716948693E9
        ],
        [
         99,
         1,
         "TM",
         1,
         "South West",
         306.893,
         190.69,
         3.778917881E9
        ],
        [
         100,
         3,
         "TA",
         1,
         "South West",
         991.738,
         616.24,
         3.688075835E9
        ],
        [
         101,
         4,
         "PA",
         1,
         "South West",
         3902.336,
         2424.8,
         8.265255229E9
        ],
        [
         102,
         5,
         "M",
         1,
         "South West",
         43736.9,
         27176.85,
         9.298223144E9
        ],
        [
         103,
         1,
         "TM",
         2,
         "East Midlands",
         181.901,
         113.03,
         2.982219303E9
        ],
        [
         104,
         3,
         "TA",
         2,
         "East Midlands",
         1215.683,
         755.39,
         5.177114242E9
        ],
        [
         105,
         4,
         "PA",
         2,
         "East Midlands",
         2588.476,
         1608.4,
         5.818610912E9
        ],
        [
         106,
         5,
         "M",
         2,
         "East Midlands",
         26815.3,
         16662.25,
         7.221002733E9
        ],
        [
         107,
         1,
         "TM",
         3,
         "Scotland",
         341.441,
         212.16,
         2.682979861E9
        ],
        [
         108,
         3,
         "TA",
         3,
         "Scotland",
         2815.283,
         1749.34,
         5.322710988E9
        ],
        [
         109,
         4,
         "PA",
         3,
         "Scotland",
         7460.656,
         4635.84,
         6.868526007E9
        ],
        [
         110,
         5,
         "M",
         3,
         "Scotland",
         48136.3,
         29910.51,
         7.803135399E9
        ],
        [
         111,
         1,
         "TM",
         4,
         "Wales",
         132.693,
         82.45,
         1.406544289E9
        ],
        [
         112,
         3,
         "TA",
         4,
         "Wales",
         1507.036,
         936.43,
         3.301651825E9
        ],
        [
         113,
         4,
         "PA",
         4,
         "Wales",
         2599.14,
         1615.03,
         4.227974959E9
        ],
        [
         114,
         5,
         "M",
         4,
         "Wales",
         28420.3,
         17659.56,
         5.392455004E9
        ],
        [
         115,
         1,
         "TM",
         5,
         "North West",
         563.638,
         350.23,
         7.662172073E9
        ],
        [
         116,
         2,
         "PM",
         5,
         "North West",
         38.642,
         24.01,
         3.151080807E8
        ],
        [
         117,
         3,
         "TA",
         5,
         "North West",
         823.045,
         511.42,
         2.808206682E9
        ],
        [
         118,
         4,
         "PA",
         5,
         "North West",
         3144.137,
         1953.68,
         8.894468308E9
        ],
        [
         119,
         5,
         "M",
         5,
         "North West",
         31549.7,
         19604.07,
         1.0386621541E10
        ],
        [
         120,
         1,
         "TM",
         6,
         "London",
         66.957,
         41.61,
         1.376969365E9
        ],
        [
         121,
         3,
         "TA",
         6,
         "London",
         332.211,
         206.43,
         3.881047016E9
        ],
        [
         122,
         4,
         "PA",
         6,
         "London",
         1374.706,
         854.2,
         7.146821873E9
        ],
        [
         123,
         5,
         "M",
         6,
         "London",
         12644.0,
         7856.62,
         6.957620896E9
        ],
        [
         124,
         1,
         "TM",
         7,
         "East of England",
         248.014,
         154.11,
         4.320804105E9
        ],
        [
         125,
         3,
         "TA",
         7,
         "East of England",
         1131.908,
         703.34,
         6.0429866E9
        ],
        [
         126,
         4,
         "PA",
         7,
         "East of England",
         2736.814,
         1700.58,
         7.885298315E9
        ],
        [
         127,
         5,
         "M",
         7,
         "East of England",
         34740.1,
         21586.5,
         1.1311937114E10
        ],
        [
         128,
         1,
         "TM",
         8,
         "Yorkshire and the Humber",
         339.762,
         211.12,
         4.134782078E9
        ],
        [
         129,
         2,
         "PM",
         8,
         "Yorkshire and the Humber",
         5.612,
         3.49,
         8.268269183E7
        ],
        [
         130,
         3,
         "TA",
         8,
         "Yorkshire and the Humber",
         700.836,
         435.48,
         3.133691757E9
        ],
        [
         131,
         4,
         "PA",
         8,
         "Yorkshire and the Humber",
         2573.884,
         1599.34,
         6.701075397E9
        ],
        [
         132,
         5,
         "M",
         8,
         "Yorkshire and the Humber",
         27611.1,
         17156.74,
         7.989272669E9
        ],
        [
         133,
         1,
         "TM",
         9,
         "South East",
         605.147,
         376.02,
         1.0492805848E10
        ],
        [
         134,
         2,
         "PM",
         9,
         "South East",
         16.997,
         10.56,
         2.327414947E8
        ],
        [
         135,
         3,
         "TA",
         9,
         "South East",
         852.931,
         529.99,
         5.790407698E9
        ],
        [
         136,
         4,
         "PA",
         9,
         "South East",
         4296.099,
         2669.47,
         1.3455425716E10
        ],
        [
         137,
         5,
         "M",
         9,
         "South East",
         41020.7,
         25489.08,
         1.5888834321E10
        ],
        [
         138,
         1,
         "TM",
         10,
         "West Midlands",
         358.449,
         222.73,
         5.721315484E9
        ],
        [
         139,
         2,
         "PM",
         10,
         "West Midlands",
         6.895,
         4.28,
         1.539476551E8
        ],
        [
         140,
         3,
         "TA",
         10,
         "West Midlands",
         836.417,
         519.73,
         3.405127134E9
        ],
        [
         141,
         4,
         "PA",
         10,
         "West Midlands",
         2674.411,
         1661.8,
         6.892231578E9
        ],
        [
         142,
         5,
         "M",
         10,
         "West Midlands",
         28069.2,
         17441.39,
         1.0092401983E10
        ],
        [
         143,
         1,
         "TM",
         11,
         "North East",
         52.212,
         32.44,
         5.169800602E8
        ],
        [
         144,
         2,
         "PM",
         11,
         "North East",
         3.848,
         2.39,
         5.715457354E7
        ],
        [
         145,
         3,
         "TA",
         11,
         "North East",
         435.808,
         270.8,
         2.054327965E9
        ],
        [
         146,
         4,
         "PA",
         11,
         "North East",
         1309.772,
         813.85,
         3.2585593E9
        ],
        [
         147,
         5,
         "M",
         11,
         "North East",
         14084.6,
         8751.76,
         4.737551135E9
        ],
        [
         148,
         1,
         "TM",
         1,
         "South West",
         312.241,
         194.02,
         4.004094212E9
        ],
        [
         149,
         3,
         "TA",
         1,
         "South West",
         999.129,
         620.83,
         3.819593409E9
        ],
        [
         150,
         4,
         "PA",
         1,
         "South West",
         3879.448,
         2410.58,
         8.414392699E9
        ],
        [
         151,
         5,
         "M",
         1,
         "South West",
         43815.5,
         27225.69,
         9.438334387E9
        ],
        [
         152,
         1,
         "TM",
         2,
         "East Midlands",
         185.07,
         115.0,
         3.2508085E9
        ]
       ],
       "datasetInfos": [],
       "dbfsResultPath": null,
       "isJsonSchema": true,
       "metadata": {},
       "overflow": false,
       "plotOptions": {
        "customPlotOptions": {},
        "displayType": "table",
        "pivotAggregation": null,
        "pivotColumns": null,
        "xColumns": null,
        "yColumns": null
       },
       "removedWidgets": [],
       "schema": [
        {
         "metadata": "{}",
         "name": "Road_ID",
         "type": "\"integer\""
        },
        {
         "metadata": "{}",
         "name": "Road_Category_Id",
         "type": "\"integer\""
        },
        {
         "metadata": "{\"__CHAR_VARCHAR_TYPE_STRING\":\"varchar(255)\"}",
         "name": "Road_Category",
         "type": "\"string\""
        },
        {
         "metadata": "{}",
         "name": "Region_ID",
         "type": "\"integer\""
        },
        {
         "metadata": "{\"__CHAR_VARCHAR_TYPE_STRING\":\"varchar(255)\"}",
         "name": "Region_Name",
         "type": "\"string\""
        },
        {
         "metadata": "{}",
         "name": "Total_Link_Length_Km",
         "type": "\"double\""
        },
        {
         "metadata": "{}",
         "name": "Total_Link_Length_Miles",
         "type": "\"double\""
        },
        {
         "metadata": "{}",
         "name": "All_Motor_Vehicles",
         "type": "\"double\""
        }
       ],
       "type": "table"
      }
     },
     "output_type": "display_data"
    }
   ],
   "source": [
    "display(spark.sql(f\"SELECT * FROM `databricks_{env}_ws`.`bronze`.`raw_roads`\"))"
   ]
  },
  {
   "cell_type": "code",
   "execution_count": 0,
   "metadata": {
    "application/vnd.databricks.v1+cell": {
     "cellMetadata": {
      "byteLimit": 2048000,
      "implicitDf": true,
      "rowLimit": 10000
     },
     "inputWidgets": {},
     "nuid": "5488c36b-1a6f-4aaf-8b19-bbd7ac4960fd",
     "showTitle": false,
     "title": ""
    }
   },
   "outputs": [
    {
     "output_type": "display_data",
     "data": {
      "text/html": [
       "<style scoped>\n",
       "  .table-result-container {\n",
       "    max-height: 300px;\n",
       "    overflow: auto;\n",
       "  }\n",
       "  table, th, td {\n",
       "    border: 1px solid black;\n",
       "    border-collapse: collapse;\n",
       "  }\n",
       "  th, td {\n",
       "    padding: 5px;\n",
       "  }\n",
       "  th {\n",
       "    text-align: left;\n",
       "  }\n",
       "</style><div class='table-result-container'><table class='table-result'><thead style='background-color: white'><tr><th>count(1)</th></tr></thead><tbody><tr><td>74184</td></tr></tbody></table></div>"
      ]
     },
     "metadata": {
      "application/vnd.databricks.v1+output": {
       "addedWidgets": {},
       "aggData": [],
       "aggError": "",
       "aggOverflow": false,
       "aggSchema": [],
       "aggSeriesLimitReached": false,
       "aggType": "",
       "arguments": {},
       "columnCustomDisplayInfos": {},
       "data": [
        [
         74184
        ]
       ],
       "datasetInfos": [],
       "dbfsResultPath": null,
       "isJsonSchema": true,
       "metadata": {
        "dataframeName": "_sqldf",
        "executionCount": 19
       },
       "overflow": false,
       "plotOptions": {
        "customPlotOptions": {},
        "displayType": "table",
        "pivotAggregation": null,
        "pivotColumns": null,
        "xColumns": null,
        "yColumns": null
       },
       "removedWidgets": [],
       "schema": [
        {
         "metadata": "{\"__autoGeneratedAlias\":\"true\"}",
         "name": "count(1)",
         "type": "\"long\""
        }
       ],
       "type": "table"
      }
     },
     "output_type": "display_data"
    }
   ],
   "source": [
    "%sql\n",
    "select count(*) from `databricks_dev_ws`.`bronze`.`raw_traffic`"
   ]
  },
  {
   "cell_type": "markdown",
   "metadata": {
    "application/vnd.databricks.v1+cell": {
     "cellMetadata": {
      "byteLimit": 2048000,
      "rowLimit": 10000
     },
     "inputWidgets": {},
     "nuid": "ae408676-b700-4de6-8b32-7a81355452e0",
     "showTitle": false,
     "title": ""
    }
   },
   "source": [
    "\n",
    "###THE BELOW MENTIONED CODE IS ADDED TO CHECK THE INCREMENTAL LOADING. TILL Record_ID '18546' THE \"Extract_time\" is different and post that it is different."
   ]
  },
  {
   "cell_type": "code",
   "execution_count": 0,
   "metadata": {
    "application/vnd.databricks.v1+cell": {
     "cellMetadata": {
      "byteLimit": 2048000,
      "implicitDf": true,
      "rowLimit": 10000
     },
     "inputWidgets": {},
     "nuid": "c0eb83a4-991f-4260-b602-79c2d0ac6a03",
     "showTitle": false,
     "title": ""
    }
   },
   "outputs": [
    {
     "output_type": "display_data",
     "data": {
      "text/html": [
       "<style scoped>\n",
       "  .table-result-container {\n",
       "    max-height: 300px;\n",
       "    overflow: auto;\n",
       "  }\n",
       "  table, th, td {\n",
       "    border: 1px solid black;\n",
       "    border-collapse: collapse;\n",
       "  }\n",
       "  th, td {\n",
       "    padding: 5px;\n",
       "  }\n",
       "  th {\n",
       "    text-align: left;\n",
       "  }\n",
       "</style><div class='table-result-container'><table class='table-result'><thead style='background-color: white'><tr><th>Record_ID</th><th>Count_point_id</th><th>Direction_of_travel</th><th>Year</th><th>Count_date</th><th>hour</th><th>Region_id</th><th>Region_name</th><th>Local_authority_name</th><th>Road_name</th><th>Road_Category_ID</th><th>Start_junction_road_name</th><th>End_junction_road_name</th><th>Latitude</th><th>Longitude</th><th>Link_length_km</th><th>Pedal_cycles</th><th>Two_wheeled_motor_vehicles</th><th>Cars_and_taxis</th><th>Buses_and_coaches</th><th>LGV_Type</th><th>HGV_Type</th><th>EV_Car</th><th>EV_Bike</th><th>Extract_Time</th></tr></thead><tbody><tr><td>37090</td><td>58073</td><td>E</td><td>2014</td><td>5/8/2014 0:00</td><td>13</td><td>7</td><td>East of England</td><td>Cambridgeshire</td><td>A14</td><td>3</td><td>A1303</td><td>A1303</td><td>52.21335948</td><td>0.267274407</td><td>6.8</td><td>0</td><td>3</td><td>541</td><td>1</td><td>163</td><td>50</td><td>2</td><td>15</td><td>2024-07-15T18:09:56.809Z</td></tr><tr><td>37091</td><td>58073</td><td>E</td><td>2014</td><td>5/8/2014 0:00</td><td>14</td><td>7</td><td>East of England</td><td>Cambridgeshire</td><td>A14</td><td>3</td><td>A1303</td><td>A1303</td><td>52.21335948</td><td>0.267274407</td><td>6.8</td><td>0</td><td>0</td><td>673</td><td>0</td><td>204</td><td>73</td><td>9</td><td>6</td><td>2024-07-15T18:09:56.809Z</td></tr><tr><td>37092</td><td>58073</td><td>E</td><td>2014</td><td>5/8/2014 0:00</td><td>15</td><td>7</td><td>East of England</td><td>Cambridgeshire</td><td>A14</td><td>3</td><td>A1303</td><td>A1303</td><td>52.21335948</td><td>0.267274407</td><td>6.8</td><td>0</td><td>49</td><td>1020</td><td>3</td><td>276</td><td>61</td><td>4</td><td>13</td><td>2024-07-15T18:09:56.809Z</td></tr><tr><td>37093</td><td>58073</td><td>E</td><td>2014</td><td>5/8/2014 0:00</td><td>16</td><td>7</td><td>East of England</td><td>Cambridgeshire</td><td>A14</td><td>3</td><td>A1303</td><td>A1303</td><td>52.21335948</td><td>0.267274407</td><td>6.8</td><td>0</td><td>10</td><td>1425</td><td>1</td><td>390</td><td>42</td><td>7</td><td>6</td><td>2024-07-15T20:51:30.376Z</td></tr><tr><td>37094</td><td>58073</td><td>E</td><td>2014</td><td>5/8/2014 0:00</td><td>17</td><td>7</td><td>East of England</td><td>Cambridgeshire</td><td>A14</td><td>3</td><td>A1303</td><td>A1303</td><td>52.21335948</td><td>0.267274407</td><td>6.8</td><td>0</td><td>4</td><td>1079</td><td>3</td><td>164</td><td>25</td><td>2</td><td>4</td><td>2024-07-15T20:51:30.376Z</td></tr><tr><td>37095</td><td>58073</td><td>E</td><td>2014</td><td>5/8/2014 0:00</td><td>18</td><td>7</td><td>East of England</td><td>Cambridgeshire</td><td>A14</td><td>3</td><td>A1303</td><td>A1303</td><td>52.21335948</td><td>0.267274407</td><td>6.8</td><td>0</td><td>9</td><td>870</td><td>2</td><td>82</td><td>11</td><td>0</td><td>1</td><td>2024-07-15T20:51:30.376Z</td></tr><tr><td>37096</td><td>57787</td><td>E</td><td>2014</td><td>9/23/2014 0:00</td><td>7</td><td>9</td><td>South East</td><td>Surrey</td><td>A31</td><td>4</td><td>A331</td><td>A3</td><td>51.22700479</td><td>-0.640882551</td><td>8.8</td><td>1</td><td>35</td><td>1955</td><td>10</td><td>413</td><td>32</td><td>4</td><td>7</td><td>2024-07-15T20:51:30.376Z</td></tr><tr><td>37097</td><td>57787</td><td>E</td><td>2014</td><td>9/23/2014 0:00</td><td>8</td><td>9</td><td>South East</td><td>Surrey</td><td>A31</td><td>4</td><td>A331</td><td>A3</td><td>51.22700479</td><td>-0.640882551</td><td>8.8</td><td>0</td><td>41</td><td>1951</td><td>2</td><td>299</td><td>33</td><td>4</td><td>10</td><td>2024-07-15T20:51:30.376Z</td></tr><tr><td>37098</td><td>57787</td><td>E</td><td>2014</td><td>9/23/2014 0:00</td><td>9</td><td>9</td><td>South East</td><td>Surrey</td><td>A31</td><td>4</td><td>A331</td><td>A3</td><td>51.22700479</td><td>-0.640882551</td><td>8.8</td><td>0</td><td>14</td><td>1462</td><td>4</td><td>265</td><td>34</td><td>6</td><td>10</td><td>2024-07-15T20:51:30.376Z</td></tr><tr><td>37099</td><td>57787</td><td>E</td><td>2014</td><td>9/23/2014 0:00</td><td>10</td><td>9</td><td>South East</td><td>Surrey</td><td>A31</td><td>4</td><td>A331</td><td>A3</td><td>51.22700479</td><td>-0.640882551</td><td>8.8</td><td>0</td><td>10</td><td>1038</td><td>2</td><td>174</td><td>43</td><td>3</td><td>9</td><td>2024-07-15T20:51:30.376Z</td></tr><tr><td>37100</td><td>57787</td><td>E</td><td>2014</td><td>9/23/2014 0:00</td><td>11</td><td>9</td><td>South East</td><td>Surrey</td><td>A31</td><td>4</td><td>A331</td><td>A3</td><td>51.22700479</td><td>-0.640882551</td><td>8.8</td><td>0</td><td>6</td><td>926</td><td>4</td><td>220</td><td>25</td><td>6</td><td>12</td><td>2024-07-15T20:51:30.376Z</td></tr></tbody></table></div>"
      ]
     },
     "metadata": {
      "application/vnd.databricks.v1+output": {
       "addedWidgets": {},
       "aggData": [],
       "aggError": "",
       "aggOverflow": false,
       "aggSchema": [],
       "aggSeriesLimitReached": false,
       "aggType": "",
       "arguments": {},
       "columnCustomDisplayInfos": {},
       "data": [
        [
         37090,
         58073,
         "E",
         2014,
         "5/8/2014 0:00",
         13,
         7,
         "East of England",
         "Cambridgeshire",
         "A14",
         3,
         "A1303",
         "A1303",
         52.21335948,
         0.267274407,
         6.8,
         0,
         3,
         541,
         1,
         163,
         50,
         2,
         15,
         "2024-07-15T18:09:56.809Z"
        ],
        [
         37091,
         58073,
         "E",
         2014,
         "5/8/2014 0:00",
         14,
         7,
         "East of England",
         "Cambridgeshire",
         "A14",
         3,
         "A1303",
         "A1303",
         52.21335948,
         0.267274407,
         6.8,
         0,
         0,
         673,
         0,
         204,
         73,
         9,
         6,
         "2024-07-15T18:09:56.809Z"
        ],
        [
         37092,
         58073,
         "E",
         2014,
         "5/8/2014 0:00",
         15,
         7,
         "East of England",
         "Cambridgeshire",
         "A14",
         3,
         "A1303",
         "A1303",
         52.21335948,
         0.267274407,
         6.8,
         0,
         49,
         1020,
         3,
         276,
         61,
         4,
         13,
         "2024-07-15T18:09:56.809Z"
        ],
        [
         37093,
         58073,
         "E",
         2014,
         "5/8/2014 0:00",
         16,
         7,
         "East of England",
         "Cambridgeshire",
         "A14",
         3,
         "A1303",
         "A1303",
         52.21335948,
         0.267274407,
         6.8,
         0,
         10,
         1425,
         1,
         390,
         42,
         7,
         6,
         "2024-07-15T20:51:30.376Z"
        ],
        [
         37094,
         58073,
         "E",
         2014,
         "5/8/2014 0:00",
         17,
         7,
         "East of England",
         "Cambridgeshire",
         "A14",
         3,
         "A1303",
         "A1303",
         52.21335948,
         0.267274407,
         6.8,
         0,
         4,
         1079,
         3,
         164,
         25,
         2,
         4,
         "2024-07-15T20:51:30.376Z"
        ],
        [
         37095,
         58073,
         "E",
         2014,
         "5/8/2014 0:00",
         18,
         7,
         "East of England",
         "Cambridgeshire",
         "A14",
         3,
         "A1303",
         "A1303",
         52.21335948,
         0.267274407,
         6.8,
         0,
         9,
         870,
         2,
         82,
         11,
         0,
         1,
         "2024-07-15T20:51:30.376Z"
        ],
        [
         37096,
         57787,
         "E",
         2014,
         "9/23/2014 0:00",
         7,
         9,
         "South East",
         "Surrey",
         "A31",
         4,
         "A331",
         "A3",
         51.22700479,
         -0.640882551,
         8.8,
         1,
         35,
         1955,
         10,
         413,
         32,
         4,
         7,
         "2024-07-15T20:51:30.376Z"
        ],
        [
         37097,
         57787,
         "E",
         2014,
         "9/23/2014 0:00",
         8,
         9,
         "South East",
         "Surrey",
         "A31",
         4,
         "A331",
         "A3",
         51.22700479,
         -0.640882551,
         8.8,
         0,
         41,
         1951,
         2,
         299,
         33,
         4,
         10,
         "2024-07-15T20:51:30.376Z"
        ],
        [
         37098,
         57787,
         "E",
         2014,
         "9/23/2014 0:00",
         9,
         9,
         "South East",
         "Surrey",
         "A31",
         4,
         "A331",
         "A3",
         51.22700479,
         -0.640882551,
         8.8,
         0,
         14,
         1462,
         4,
         265,
         34,
         6,
         10,
         "2024-07-15T20:51:30.376Z"
        ],
        [
         37099,
         57787,
         "E",
         2014,
         "9/23/2014 0:00",
         10,
         9,
         "South East",
         "Surrey",
         "A31",
         4,
         "A331",
         "A3",
         51.22700479,
         -0.640882551,
         8.8,
         0,
         10,
         1038,
         2,
         174,
         43,
         3,
         9,
         "2024-07-15T20:51:30.376Z"
        ],
        [
         37100,
         57787,
         "E",
         2014,
         "9/23/2014 0:00",
         11,
         9,
         "South East",
         "Surrey",
         "A31",
         4,
         "A331",
         "A3",
         51.22700479,
         -0.640882551,
         8.8,
         0,
         6,
         926,
         4,
         220,
         25,
         6,
         12,
         "2024-07-15T20:51:30.376Z"
        ]
       ],
       "datasetInfos": [],
       "dbfsResultPath": null,
       "isJsonSchema": true,
       "metadata": {
        "dataframeName": "_sqldf",
        "executionCount": 20
       },
       "overflow": false,
       "plotOptions": {
        "customPlotOptions": {},
        "displayType": "table",
        "pivotAggregation": null,
        "pivotColumns": null,
        "xColumns": null,
        "yColumns": null
       },
       "removedWidgets": [],
       "schema": [
        {
         "metadata": "{}",
         "name": "Record_ID",
         "type": "\"integer\""
        },
        {
         "metadata": "{}",
         "name": "Count_point_id",
         "type": "\"integer\""
        },
        {
         "metadata": "{\"__CHAR_VARCHAR_TYPE_STRING\":\"varchar(255)\"}",
         "name": "Direction_of_travel",
         "type": "\"string\""
        },
        {
         "metadata": "{}",
         "name": "Year",
         "type": "\"integer\""
        },
        {
         "metadata": "{\"__CHAR_VARCHAR_TYPE_STRING\":\"varchar(255)\"}",
         "name": "Count_date",
         "type": "\"string\""
        },
        {
         "metadata": "{}",
         "name": "hour",
         "type": "\"integer\""
        },
        {
         "metadata": "{}",
         "name": "Region_id",
         "type": "\"integer\""
        },
        {
         "metadata": "{\"__CHAR_VARCHAR_TYPE_STRING\":\"varchar(255)\"}",
         "name": "Region_name",
         "type": "\"string\""
        },
        {
         "metadata": "{\"__CHAR_VARCHAR_TYPE_STRING\":\"varchar(255)\"}",
         "name": "Local_authority_name",
         "type": "\"string\""
        },
        {
         "metadata": "{\"__CHAR_VARCHAR_TYPE_STRING\":\"varchar(255)\"}",
         "name": "Road_name",
         "type": "\"string\""
        },
        {
         "metadata": "{}",
         "name": "Road_Category_ID",
         "type": "\"integer\""
        },
        {
         "metadata": "{\"__CHAR_VARCHAR_TYPE_STRING\":\"varchar(255)\"}",
         "name": "Start_junction_road_name",
         "type": "\"string\""
        },
        {
         "metadata": "{\"__CHAR_VARCHAR_TYPE_STRING\":\"varchar(255)\"}",
         "name": "End_junction_road_name",
         "type": "\"string\""
        },
        {
         "metadata": "{}",
         "name": "Latitude",
         "type": "\"double\""
        },
        {
         "metadata": "{}",
         "name": "Longitude",
         "type": "\"double\""
        },
        {
         "metadata": "{}",
         "name": "Link_length_km",
         "type": "\"double\""
        },
        {
         "metadata": "{}",
         "name": "Pedal_cycles",
         "type": "\"integer\""
        },
        {
         "metadata": "{}",
         "name": "Two_wheeled_motor_vehicles",
         "type": "\"integer\""
        },
        {
         "metadata": "{}",
         "name": "Cars_and_taxis",
         "type": "\"integer\""
        },
        {
         "metadata": "{}",
         "name": "Buses_and_coaches",
         "type": "\"integer\""
        },
        {
         "metadata": "{}",
         "name": "LGV_Type",
         "type": "\"integer\""
        },
        {
         "metadata": "{}",
         "name": "HGV_Type",
         "type": "\"integer\""
        },
        {
         "metadata": "{}",
         "name": "EV_Car",
         "type": "\"integer\""
        },
        {
         "metadata": "{}",
         "name": "EV_Bike",
         "type": "\"integer\""
        },
        {
         "metadata": "{}",
         "name": "Extract_Time",
         "type": "\"timestamp\""
        }
       ],
       "type": "table"
      }
     },
     "output_type": "display_data"
    }
   ],
   "source": [
    "%sql\n",
    "select * from `databricks_dev_ws`.`bronze`.`raw_traffic` where Record_ID  between '37090' and '37100' order by Record_ID;"
   ]
  },
  {
   "cell_type": "code",
   "execution_count": 0,
   "metadata": {
    "application/vnd.databricks.v1+cell": {
     "cellMetadata": {
      "byteLimit": 2048000,
      "rowLimit": 10000
     },
     "inputWidgets": {},
     "nuid": "b08a1644-f4b4-4a08-b18c-544286890082",
     "showTitle": false,
     "title": ""
    }
   },
   "outputs": [],
   "source": []
  }
 ],
 "metadata": {
  "application/vnd.databricks.v1+notebook": {
   "dashboards": [],
   "environmentMetadata": null,
   "language": "python",
   "notebookMetadata": {
    "mostRecentlyExecutedCommandWithImplicitDF": {
     "commandId": 1280891458748680,
     "dataframes": [
      "_sqldf"
     ]
    },
    "pythonIndentUnit": 4
   },
   "notebookName": "02. Load to Bronze",
   "widgets": {
    "env": {
     "currentValue": "dev",
     "nuid": "7bf6a174-0955-4502-85b0-bb95e7c8b7b9",
     "typedWidgetInfo": null,
     "widgetInfo": {
      "widgetType": "text",
      "defaultValue": "",
      "label": "ENTER THE ENVIRONMENT IN LOWER CASE",
      "name": "env",
      "options": {
       "widgetType": "text",
       "autoCreated": null,
       "validationRegex": null
      }
     }
    }
   }
  }
 },
 "nbformat": 4,
 "nbformat_minor": 0
}
